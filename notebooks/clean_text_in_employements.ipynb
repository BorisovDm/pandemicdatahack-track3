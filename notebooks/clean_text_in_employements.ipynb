{
 "cells": [
  {
   "cell_type": "code",
   "execution_count": 1,
   "metadata": {},
   "outputs": [],
   "source": [
    "import pandas as pd\n",
    "import pymorphy2\n",
    "import re\n",
    "from tqdm import tqdm"
   ]
  },
  {
   "cell_type": "code",
   "execution_count": 2,
   "metadata": {},
   "outputs": [
    {
     "data": {
      "text/html": [
       "<div>\n",
       "<style scoped>\n",
       "    .dataframe tbody tr th:only-of-type {\n",
       "        vertical-align: middle;\n",
       "    }\n",
       "\n",
       "    .dataframe tbody tr th {\n",
       "        vertical-align: top;\n",
       "    }\n",
       "\n",
       "    .dataframe thead th {\n",
       "        text-align: right;\n",
       "    }\n",
       "</style>\n",
       "<table border=\"1\" class=\"dataframe\">\n",
       "  <thead>\n",
       "    <tr style=\"text-align: right;\">\n",
       "      <th></th>\n",
       "      <th>id</th>\n",
       "      <th>position</th>\n",
       "      <th>employer</th>\n",
       "      <th>achievements</th>\n",
       "      <th>responsibilities</th>\n",
       "      <th>start_date</th>\n",
       "      <th>finish_date</th>\n",
       "    </tr>\n",
       "  </thead>\n",
       "  <tbody>\n",
       "    <tr>\n",
       "      <th>0</th>\n",
       "      <td>0.0</td>\n",
       "      <td>специалист</td>\n",
       "      <td>АО \"РТК\"</td>\n",
       "      <td>NaN</td>\n",
       "      <td>&lt;p&gt;Консультирование клиентов и продажа товара,...</td>\n",
       "      <td>2017-06-01</td>\n",
       "      <td>2019-06-01</td>\n",
       "    </tr>\n",
       "    <tr>\n",
       "      <th>1</th>\n",
       "      <td>0.0</td>\n",
       "      <td>специалист</td>\n",
       "      <td>ООО \"Евросеть-Ритейл\"</td>\n",
       "      <td>NaN</td>\n",
       "      <td>&lt;p&gt;Консультирование клиентов и продажа товара,...</td>\n",
       "      <td>2017-05-01</td>\n",
       "      <td>2017-06-01</td>\n",
       "    </tr>\n",
       "  </tbody>\n",
       "</table>\n",
       "</div>"
      ],
      "text/plain": [
       "    id    position               employer achievements  \\\n",
       "0  0.0  специалист               АО \"РТК\"          NaN   \n",
       "1  0.0  специалист  ООО \"Евросеть-Ритейл\"          NaN   \n",
       "\n",
       "                                    responsibilities  start_date finish_date  \n",
       "0  <p>Консультирование клиентов и продажа товара,...  2017-06-01  2019-06-01  \n",
       "1  <p>Консультирование клиентов и продажа товара,...  2017-05-01  2017-06-01  "
      ]
     },
     "execution_count": 2,
     "metadata": {},
     "output_type": "execute_result"
    }
   ],
   "source": [
    "df = pd.read_csv('employements_mult.csv', sep=';')\n",
    "df.head(2)"
   ]
  },
  {
   "cell_type": "code",
   "execution_count": 3,
   "metadata": {},
   "outputs": [],
   "source": [
    "lemmatizer = pymorphy2.MorphAnalyzer()\n",
    "\n",
    "\n",
    "def preprocess_text(s, min_length=4):\n",
    "    without_tags = re.sub('<.*?>', ' ', s).lower()\n",
    "    tokenized =  re.findall(\"[\\w']+\", without_tags)\n",
    "    filtered_by_length = list(filter(lambda x: len(x) >= min_length, tokenized))\n",
    "#     norm_tokens = [lemmatizer.parse(x)[0].normal_form for x in filtered_by_length]\n",
    "    \n",
    "    return filtered_by_length"
   ]
  },
  {
   "cell_type": "markdown",
   "metadata": {},
   "source": [
    "---"
   ]
  },
  {
   "cell_type": "code",
   "execution_count": 4,
   "metadata": {},
   "outputs": [],
   "source": [
    "df['responsibilities_tokens'] = df['responsibilities'].fillna('').apply(preprocess_text)\n",
    "\n",
    "all_words = []\n",
    "for x in df['responsibilities_tokens'].values:\n",
    "    all_words.extend(x)\n",
    "    \n",
    "lemmatized_tokens = dict()\n",
    "unique_words = set(all_words)\n",
    "for word in tqdm(unique_words):\n",
    "    lemmatized_tokens[word] = lemmatizer.parse(word)[0].normal_form\n",
    "    \n",
    "    \n",
    "def lemmatize_list(s, rules=lemmatized_tokens):\n",
    "    result = ' '.join([rules.get(x, ' ') for x in s])\n",
    "    return result\n",
    "\n",
    "\n",
    "df['responsibilities'] = df['responsibilities_tokens'].apply(lemmatize_list)\n",
    "df = df.drop(columns=['responsibilities_tokens'])"
   ]
  },
  {
   "cell_type": "code",
   "execution_count": 9,
   "metadata": {},
   "outputs": [
    {
     "data": {
      "text/html": [
       "<div>\n",
       "<style scoped>\n",
       "    .dataframe tbody tr th:only-of-type {\n",
       "        vertical-align: middle;\n",
       "    }\n",
       "\n",
       "    .dataframe tbody tr th {\n",
       "        vertical-align: top;\n",
       "    }\n",
       "\n",
       "    .dataframe thead th {\n",
       "        text-align: right;\n",
       "    }\n",
       "</style>\n",
       "<table border=\"1\" class=\"dataframe\">\n",
       "  <thead>\n",
       "    <tr style=\"text-align: right;\">\n",
       "      <th></th>\n",
       "      <th>id</th>\n",
       "      <th>position</th>\n",
       "      <th>employer</th>\n",
       "      <th>achievements</th>\n",
       "      <th>responsibilities</th>\n",
       "      <th>start_date</th>\n",
       "      <th>finish_date</th>\n",
       "    </tr>\n",
       "  </thead>\n",
       "  <tbody>\n",
       "    <tr>\n",
       "      <th>0</th>\n",
       "      <td>0.0</td>\n",
       "      <td>специалист</td>\n",
       "      <td>АО \"РТК\"</td>\n",
       "      <td>NaN</td>\n",
       "      <td>консультирование клиент продажа товар работа д...</td>\n",
       "      <td>2017-06-01</td>\n",
       "      <td>2019-06-01</td>\n",
       "    </tr>\n",
       "    <tr>\n",
       "      <th>1</th>\n",
       "      <td>0.0</td>\n",
       "      <td>специалист</td>\n",
       "      <td>ООО \"Евросеть-Ритейл\"</td>\n",
       "      <td>NaN</td>\n",
       "      <td>консультирование клиент продажа товар работа д...</td>\n",
       "      <td>2017-05-01</td>\n",
       "      <td>2017-06-01</td>\n",
       "    </tr>\n",
       "    <tr>\n",
       "      <th>2</th>\n",
       "      <td>0.0</td>\n",
       "      <td>NaN</td>\n",
       "      <td>АО \"МегаФон Ритейл\"</td>\n",
       "      <td>NaN</td>\n",
       "      <td>консультирование клиент продажа товар работа д...</td>\n",
       "      <td>2019-06-01</td>\n",
       "      <td>2019-11-01</td>\n",
       "    </tr>\n",
       "    <tr>\n",
       "      <th>3</th>\n",
       "      <td>0.0</td>\n",
       "      <td>NaN</td>\n",
       "      <td>ПАО \"МегаФон\"</td>\n",
       "      <td>NaN</td>\n",
       "      <td>консультирование клиент телефон продажа продук...</td>\n",
       "      <td>2019-06-01</td>\n",
       "      <td>2020-04-01</td>\n",
       "    </tr>\n",
       "    <tr>\n",
       "      <th>4</th>\n",
       "      <td>1.0</td>\n",
       "      <td>Копирайтер/рерайтер</td>\n",
       "      <td>WorkHardOnline</td>\n",
       "      <td>NaN</td>\n",
       "      <td>фриланс nbsp копирайтинг рерайтинг стать разли...</td>\n",
       "      <td>2019-10-01</td>\n",
       "      <td>NaN</td>\n",
       "    </tr>\n",
       "  </tbody>\n",
       "</table>\n",
       "</div>"
      ],
      "text/plain": [
       "    id             position               employer achievements  \\\n",
       "0  0.0           специалист               АО \"РТК\"          NaN   \n",
       "1  0.0           специалист  ООО \"Евросеть-Ритейл\"          NaN   \n",
       "2  0.0                  NaN    АО \"МегаФон Ритейл\"          NaN   \n",
       "3  0.0                  NaN          ПАО \"МегаФон\"          NaN   \n",
       "4  1.0  Копирайтер/рерайтер         WorkHardOnline          NaN   \n",
       "\n",
       "                                    responsibilities  start_date finish_date  \n",
       "0  консультирование клиент продажа товар работа д...  2017-06-01  2019-06-01  \n",
       "1  консультирование клиент продажа товар работа д...  2017-05-01  2017-06-01  \n",
       "2  консультирование клиент продажа товар работа д...  2019-06-01  2019-11-01  \n",
       "3  консультирование клиент телефон продажа продук...  2019-06-01  2020-04-01  \n",
       "4  фриланс nbsp копирайтинг рерайтинг стать разли...  2019-10-01         NaN  "
      ]
     },
     "execution_count": 9,
     "metadata": {},
     "output_type": "execute_result"
    }
   ],
   "source": [
    "df.head()"
   ]
  },
  {
   "cell_type": "markdown",
   "metadata": {},
   "source": [
    "---"
   ]
  },
  {
   "cell_type": "code",
   "execution_count": 10,
   "metadata": {},
   "outputs": [
    {
     "name": "stderr",
     "output_type": "stream",
     "text": [
      "100%|██████████| 135781/135781 [00:37<00:00, 3614.74it/s]\n"
     ]
    }
   ],
   "source": [
    "df['achievements_tokens'] = df['achievements']\\\n",
    "    .fillna('')\\\n",
    "    .apply(lambda x: preprocess_text(x, 3))\n",
    "\n",
    "\n",
    "all_words = []\n",
    "for x in df['achievements_tokens'].values:\n",
    "    all_words.extend(x)\n",
    "\n",
    "lemmatized_tokens = dict()\n",
    "unique_words = set(all_words)\n",
    "for word in tqdm(unique_words):\n",
    "    lemmatized_tokens[word] = lemmatizer.parse(word)[0].normal_form\n",
    "    \n",
    "df['achievements'] = df['achievements_tokens'].apply(lemmatize_list)\n",
    "df = df.drop(columns=['achievements_tokens'])"
   ]
  },
  {
   "cell_type": "code",
   "execution_count": 11,
   "metadata": {},
   "outputs": [
    {
     "name": "stderr",
     "output_type": "stream",
     "text": [
      "100%|██████████| 46807/46807 [00:16<00:00, 2795.83it/s]\n"
     ]
    }
   ],
   "source": [
    "df['position_tokens'] = df['position']\\\n",
    "    .fillna('')\\\n",
    "    .apply(lambda x: preprocess_text(x, 3))\n",
    "\n",
    "\n",
    "all_words = []\n",
    "for x in df['position_tokens'].values:\n",
    "    all_words.extend(x)\n",
    "\n",
    "lemmatized_tokens = dict()\n",
    "unique_words = set(all_words)\n",
    "for word in tqdm(unique_words):\n",
    "    lemmatized_tokens[word] = lemmatizer.parse(word)[0].normal_form\n",
    "    \n",
    "df['position_clean'] = df['position_tokens'].apply(lemmatize_list)\n",
    "df = df.drop(columns=['position_tokens'])"
   ]
  },
  {
   "cell_type": "code",
   "execution_count": 12,
   "metadata": {},
   "outputs": [
    {
     "name": "stderr",
     "output_type": "stream",
     "text": [
      "100%|██████████| 198585/198585 [00:00<00:00, 1185914.50it/s]\n"
     ]
    }
   ],
   "source": [
    "df['employer_tokens'] = df['employer']\\\n",
    "    .fillna('')\\\n",
    "    .apply(lambda x: preprocess_text(x, 2))\n",
    "\n",
    "\n",
    "all_words = []\n",
    "for x in df['employer_tokens'].values:\n",
    "    all_words.extend(x)\n",
    "\n",
    "lemmatized_tokens = dict()\n",
    "unique_words = set(all_words)\n",
    "for word in tqdm(unique_words):\n",
    "    lemmatized_tokens[word] = word  #lemmatizer.parse(word)[0].normal_form\n",
    "    \n",
    "df['employer_clean'] = df['employer_tokens'].apply(lemmatize_list)\n",
    "df = df.drop(columns=['employer_tokens'])"
   ]
  },
  {
   "cell_type": "code",
   "execution_count": 13,
   "metadata": {},
   "outputs": [],
   "source": [
    "df.to_csv('employements_mult_new.csv', sep=';', index=False)"
   ]
  }
 ],
 "metadata": {
  "kernelspec": {
   "display_name": "Python 3",
   "language": "python",
   "name": "python3"
  },
  "language_info": {
   "codemirror_mode": {
    "name": "ipython",
    "version": 3
   },
   "file_extension": ".py",
   "mimetype": "text/x-python",
   "name": "python",
   "nbconvert_exporter": "python",
   "pygments_lexer": "ipython3",
   "version": "3.8.6"
  }
 },
 "nbformat": 4,
 "nbformat_minor": 4
}
