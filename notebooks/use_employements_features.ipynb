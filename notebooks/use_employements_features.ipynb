{
 "cells": [
  {
   "cell_type": "code",
   "execution_count": 1,
   "metadata": {},
   "outputs": [],
   "source": [
    "import pandas as pd\n",
    "import numpy as np"
   ]
  },
  {
   "cell_type": "code",
   "execution_count": 2,
   "metadata": {},
   "outputs": [
    {
     "output_type": "execute_result",
     "data": {
      "text/plain": [
       "    id    position               employer achievements  \\\n",
       "0  0.0  специалист               АО \"РТК\"          NaN   \n",
       "1  0.0  специалист  ООО \"Евросеть-Ритейл\"          NaN   \n",
       "\n",
       "                                    responsibilities  start_date finish_date  \\\n",
       "0  консультирование клиент продажа товар работа д...  2017-06-01  2019-06-01   \n",
       "1  консультирование клиент продажа товар работа д...  2017-05-01  2017-06-01   \n",
       "\n",
       "  position_clean     employer_clean  \n",
       "0     специалист                     \n",
       "1     специалист    евросеть ритейл  "
      ],
      "text/html": "<div>\n<style scoped>\n    .dataframe tbody tr th:only-of-type {\n        vertical-align: middle;\n    }\n\n    .dataframe tbody tr th {\n        vertical-align: top;\n    }\n\n    .dataframe thead th {\n        text-align: right;\n    }\n</style>\n<table border=\"1\" class=\"dataframe\">\n  <thead>\n    <tr style=\"text-align: right;\">\n      <th></th>\n      <th>id</th>\n      <th>position</th>\n      <th>employer</th>\n      <th>achievements</th>\n      <th>responsibilities</th>\n      <th>start_date</th>\n      <th>finish_date</th>\n      <th>position_clean</th>\n      <th>employer_clean</th>\n    </tr>\n  </thead>\n  <tbody>\n    <tr>\n      <th>0</th>\n      <td>0.0</td>\n      <td>специалист</td>\n      <td>АО \"РТК\"</td>\n      <td>NaN</td>\n      <td>консультирование клиент продажа товар работа д...</td>\n      <td>2017-06-01</td>\n      <td>2019-06-01</td>\n      <td>специалист</td>\n      <td></td>\n    </tr>\n    <tr>\n      <th>1</th>\n      <td>0.0</td>\n      <td>специалист</td>\n      <td>ООО \"Евросеть-Ритейл\"</td>\n      <td>NaN</td>\n      <td>консультирование клиент продажа товар работа д...</td>\n      <td>2017-05-01</td>\n      <td>2017-06-01</td>\n      <td>специалист</td>\n      <td>евросеть ритейл</td>\n    </tr>\n  </tbody>\n</table>\n</div>"
     },
     "metadata": {},
     "execution_count": 2
    }
   ],
   "source": [
    "df = pd.read_csv('../data/interim/employements_mult_new.csv', sep=';')\n",
    "df.head(2)"
   ]
  },
  {
   "cell_type": "code",
   "execution_count": 3,
   "metadata": {},
   "outputs": [],
   "source": [
    "df = df[~df['id'].isnull()].reset_index(drop=True)\n",
    "df['id'] = df['id'].astype(int)\n",
    "\n",
    "df['responsibilities'] = df['responsibilities'].fillna('')\n",
    "df['achievements'] = df['achievements'].fillna('')"
   ]
  },
  {
   "cell_type": "code",
   "execution_count": 4,
   "metadata": {},
   "outputs": [],
   "source": [
    "df['start_date'] = pd.to_datetime(df['start_date'], errors='coerce')\n",
    "df['finish_date'] = pd.to_datetime(df['finish_date'], errors='coerce')\n",
    "df['work_duration'] = (df['finish_date'] - df['start_date']).dt.days\n",
    "df['position_clean'] = df['position_clean'].fillna('')\n",
    "df['employer_clean'] = df['employer_clean'].fillna('')"
   ]
  },
  {
   "cell_type": "code",
   "execution_count": 5,
   "metadata": {},
   "outputs": [
    {
     "output_type": "execute_result",
     "data": {
      "text/plain": [
       "(983.9361064030303, 485.0)"
      ]
     },
     "metadata": {},
     "execution_count": 5
    }
   ],
   "source": [
    "# Этим можно заполнять пропуски\n",
    "mean_work_duration = df['work_duration'].mean()\n",
    "median_work_duration = df['work_duration'].median()\n",
    "\n",
    "mean_work_duration, median_work_duration"
   ]
  },
  {
   "cell_type": "code",
   "execution_count": 52,
   "metadata": {},
   "outputs": [],
   "source": [
    "# df.head()"
   ]
  },
  {
   "cell_type": "code",
   "execution_count": 6,
   "metadata": {},
   "outputs": [],
   "source": [
    "agg_df = df\\\n",
    "    .groupby('id')\\\n",
    "    .agg(\n",
    "        all_work_duration=('work_duration', lambda x: list(x)),\n",
    "        all_responsibilities=('responsibilities', lambda x: ' '.join(x)),\n",
    "        all_positions=('position_clean', lambda x: ' '.join(x)),\n",
    "        all_employers=('employer_clean', lambda x: ' '.join(x)),\n",
    "        all_achievements=('achievements', lambda x: ' '.join(x)),\n",
    "    )\n",
    "\n",
    "agg_df['mean_work_duration'] = agg_df['all_work_duration'].apply(np.nanmean)\n",
    "agg_df['max_work_duration'] = agg_df['all_work_duration'].apply(np.nanmax)\n",
    "agg_df['min_work_duration'] = agg_df['all_work_duration'].apply(np.nanmin)\n",
    "agg_df['median_work_duration'] = agg_df['all_work_duration'].apply(np.nanmedian)\n",
    "\n",
    "agg_df = agg_df.drop(columns='all_work_duration')"
   ]
  },
  {
   "cell_type": "code",
   "execution_count": 7,
   "metadata": {},
   "outputs": [
    {
     "output_type": "execute_result",
     "data": {
      "text/plain": [
       "                                 all_responsibilities  \\\n",
       "id                                                      \n",
       "0   консультирование клиент продажа товар работа д...   \n",
       "1   фриланс nbsp копирайтинг рерайтинг стать разли...   \n",
       "2   прохождение производственный практика 2014 201...   \n",
       "3   работа клиент оформление договор бухгалтер кас...   \n",
       "4   предоставление заявитель государственный муниц...   \n",
       "\n",
       "                                        all_positions  \\\n",
       "id                                                      \n",
       "0                             специалист специалист     \n",
       "1                                 копирайтер рерайтер   \n",
       "2                                              стажёр   \n",
       "3      консультант бухгалтер старший кассир экономист   \n",
       "4   специалист категория старший специалист привле...   \n",
       "\n",
       "                                        all_employers  \\\n",
       "id                                                      \n",
       "0          евросеть ритейл   мегафон ритейл   мегафон   \n",
       "1                                                       \n",
       "2   комитет   управление муниципальный собственнос...   \n",
       "3                    почта банк     сага       банк     \n",
       "4                  банк открытие   кредит европа банк   \n",
       "\n",
       "                                     all_achievements  mean_work_duration  \\\n",
       "id                                                                          \n",
       "0                                                              304.750000   \n",
       "1                                                                     NaN   \n",
       "2                                                               30.000000   \n",
       "3                                                              994.666667   \n",
       "4   наградить почётный грамота администрация   рай...         1086.333333   \n",
       "\n",
       "    max_work_duration  min_work_duration  median_work_duration  \n",
       "id                                                              \n",
       "0               730.0               31.0                 229.0  \n",
       "1                 NaN                NaN                   NaN  \n",
       "2                30.0               30.0                  30.0  \n",
       "3              1645.0              638.0                 701.0  \n",
       "4              1889.0              550.0                 820.0  "
      ],
      "text/html": "<div>\n<style scoped>\n    .dataframe tbody tr th:only-of-type {\n        vertical-align: middle;\n    }\n\n    .dataframe tbody tr th {\n        vertical-align: top;\n    }\n\n    .dataframe thead th {\n        text-align: right;\n    }\n</style>\n<table border=\"1\" class=\"dataframe\">\n  <thead>\n    <tr style=\"text-align: right;\">\n      <th></th>\n      <th>all_responsibilities</th>\n      <th>all_positions</th>\n      <th>all_employers</th>\n      <th>all_achievements</th>\n      <th>mean_work_duration</th>\n      <th>max_work_duration</th>\n      <th>min_work_duration</th>\n      <th>median_work_duration</th>\n    </tr>\n    <tr>\n      <th>id</th>\n      <th></th>\n      <th></th>\n      <th></th>\n      <th></th>\n      <th></th>\n      <th></th>\n      <th></th>\n      <th></th>\n    </tr>\n  </thead>\n  <tbody>\n    <tr>\n      <th>0</th>\n      <td>консультирование клиент продажа товар работа д...</td>\n      <td>специалист специалист</td>\n      <td>евросеть ритейл   мегафон ритейл   мегафон</td>\n      <td></td>\n      <td>304.750000</td>\n      <td>730.0</td>\n      <td>31.0</td>\n      <td>229.0</td>\n    </tr>\n    <tr>\n      <th>1</th>\n      <td>фриланс nbsp копирайтинг рерайтинг стать разли...</td>\n      <td>копирайтер рерайтер</td>\n      <td></td>\n      <td></td>\n      <td>NaN</td>\n      <td>NaN</td>\n      <td>NaN</td>\n      <td>NaN</td>\n    </tr>\n    <tr>\n      <th>2</th>\n      <td>прохождение производственный практика 2014 201...</td>\n      <td>стажёр</td>\n      <td>комитет   управление муниципальный собственнос...</td>\n      <td></td>\n      <td>30.000000</td>\n      <td>30.0</td>\n      <td>30.0</td>\n      <td>30.0</td>\n    </tr>\n    <tr>\n      <th>3</th>\n      <td>работа клиент оформление договор бухгалтер кас...</td>\n      <td>консультант бухгалтер старший кассир экономист</td>\n      <td>почта банк     сага       банк</td>\n      <td></td>\n      <td>994.666667</td>\n      <td>1645.0</td>\n      <td>638.0</td>\n      <td>701.0</td>\n    </tr>\n    <tr>\n      <th>4</th>\n      <td>предоставление заявитель государственный муниц...</td>\n      <td>специалист категория старший специалист привле...</td>\n      <td>банк открытие   кредит европа банк</td>\n      <td>наградить почётный грамота администрация   рай...</td>\n      <td>1086.333333</td>\n      <td>1889.0</td>\n      <td>550.0</td>\n      <td>820.0</td>\n    </tr>\n  </tbody>\n</table>\n</div>"
     },
     "metadata": {},
     "execution_count": 7
    }
   ],
   "source": [
    "agg_df.head()"
   ]
  },
  {
   "cell_type": "code",
   "execution_count": 8,
   "metadata": {},
   "outputs": [
    {
     "output_type": "stream",
     "name": "stdout",
     "text": [
      "<class 'pandas.core.frame.DataFrame'>\nInt64Index: 343355 entries, 0 to 437527\nData columns (total 8 columns):\n #   Column                Non-Null Count   Dtype  \n---  ------                --------------   -----  \n 0   all_responsibilities  343355 non-null  object \n 1   all_positions         343355 non-null  object \n 2   all_employers         343355 non-null  object \n 3   all_achievements      343355 non-null  object \n 4   mean_work_duration    320300 non-null  float64\n 5   max_work_duration     320300 non-null  float64\n 6   min_work_duration     320300 non-null  float64\n 7   median_work_duration  320300 non-null  float64\ndtypes: float64(4), object(4)\nmemory usage: 23.6+ MB\n"
     ]
    }
   ],
   "source": [
    "agg_df.info()"
   ]
  },
  {
   "cell_type": "code",
   "execution_count": 9,
   "metadata": {},
   "outputs": [],
   "source": [
    "agg_df = agg_df.fillna(0)"
   ]
  },
  {
   "cell_type": "code",
   "execution_count": 11,
   "metadata": {},
   "outputs": [],
   "source": [
    "agg_df = agg_df.reset_index()"
   ]
  },
  {
   "cell_type": "code",
   "execution_count": 13,
   "metadata": {},
   "outputs": [],
   "source": [
    "agg_df.to_pickle('../data/interim/employements_aggregated.pkl')"
   ]
  },
  {
   "cell_type": "code",
   "execution_count": null,
   "metadata": {},
   "outputs": [],
   "source": []
  }
 ],
 "metadata": {
  "kernelspec": {
   "display_name": "Python 3",
   "language": "python",
   "name": "python3"
  },
  "language_info": {
   "codemirror_mode": {
    "name": "ipython",
    "version": 3
   },
   "file_extension": ".py",
   "mimetype": "text/x-python",
   "name": "python",
   "nbconvert_exporter": "python",
   "pygments_lexer": "ipython3",
   "version": "3.7.9-final"
  }
 },
 "nbformat": 4,
 "nbformat_minor": 4
}