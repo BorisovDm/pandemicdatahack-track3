{
 "metadata": {
  "language_info": {
   "codemirror_mode": {
    "name": "ipython",
    "version": 3
   },
   "file_extension": ".py",
   "mimetype": "text/x-python",
   "name": "python",
   "nbconvert_exporter": "python",
   "pygments_lexer": "ipython3",
   "version": "3.7.9-final"
  },
  "orig_nbformat": 2,
  "kernelspec": {
   "name": "python3",
   "display_name": "Python 3",
   "language": "python"
  }
 },
 "nbformat": 4,
 "nbformat_minor": 2,
 "cells": [
  {
   "cell_type": "code",
   "execution_count": 1,
   "metadata": {},
   "outputs": [],
   "source": [
    "import numpy as np\n",
    "import pandas as pd\n",
    "import matplotlib.pyplot as plt\n",
    "import seaborn as sns\n",
    "\n",
    "from pathlib import Path\n",
    "from preprocess import preprocess_train_test"
   ]
  },
  {
   "cell_type": "code",
   "execution_count": null,
   "metadata": {},
   "outputs": [],
   "source": [
    "# from pandas_profiling import ProfileReport\n",
    "\n",
    "# profile = ProfileReport(train_test, title=\"Pandas Profiling Report\")\n",
    "# profile.to_widgets()"
   ]
  },
  {
   "cell_type": "code",
   "execution_count": 2,
   "metadata": {},
   "outputs": [
    {
     "output_type": "stream",
     "name": "stdout",
     "text": [
      "306270\n"
     ]
    },
    {
     "output_type": "execute_result",
     "data": {
      "text/plain": [
       "   id                                         position                region  \\\n",
       "0   0                                       Специалист      Тульская область   \n",
       "1   1                                         Лаборант        Алтайский край   \n",
       "2   3  Специалист, администратор, бухгалтер, экономист   Ульяновская область   \n",
       "3   4                                       Специалист  Свердловская область   \n",
       "4   5                           Инструктор по плаванию     Иркутская область   \n",
       "\n",
       "                                            industry       locality  \\\n",
       "0  Государственная служба, некоммерческие организ...  7100000100000   \n",
       "1  Государственная служба, некоммерческие организ...  2200000100000   \n",
       "2          Административная работа, секретариат, АХО  7300000200000   \n",
       "3  Государственная служба, некоммерческие организ...  6600002300000   \n",
       "4  Здравоохранение, спорт, красота, социальное об...  3800000400000   \n",
       "\n",
       "  locality_name        education_type drive_licences           citizenship  \\\n",
       "0          Тула  Незаконченное высшее            [B]  Российская Федерация   \n",
       "1       Барнаул                Высшее            [B]  Российская Федерация   \n",
       "2  Димитровград                Высшее            [B]  Российская Федерация   \n",
       "3  Нижний Тагил                Высшее            [B]  Российская Федерация   \n",
       "4       Ангарск                   NaN            NaN  Российская Федерация   \n",
       "\n",
       "              schedule  ... relocation_ready  travel_ready retraining_ready  \\\n",
       "0  Полный рабочий день  ...            False         False             True   \n",
       "1  Полный рабочий день  ...            False          True             True   \n",
       "2  Полный рабочий день  ...            False           NaN             True   \n",
       "3  Полный рабочий день  ...            False         False            False   \n",
       "4  Полный рабочий день  ...            False           NaN              NaN   \n",
       "\n",
       "   is_worldskills_participant  has_qualifications completeness_rate  \\\n",
       "0                         NaN                 NaN              64.0   \n",
       "1                         NaN                 NaN              88.0   \n",
       "2                         NaN                 NaN              78.0   \n",
       "3                         NaN                 NaN              91.0   \n",
       "4                         NaN                 NaN              58.0   \n",
       "\n",
       "  creation_date modification_date publish_date salary  \n",
       "0    2020-05-07        2020-05-08   2020-05-07  37500  \n",
       "1    2020-10-21        2020-10-27   2020-10-27  14000  \n",
       "2    2019-04-25        2020-02-04   2020-02-04  24600  \n",
       "3    2020-09-19        2020-09-20   2020-09-19  16075  \n",
       "4    2020-04-20        2020-09-09   2020-04-21  22080  \n",
       "\n",
       "[5 rows x 25 columns]"
      ],
      "text/html": "<div>\n<style scoped>\n    .dataframe tbody tr th:only-of-type {\n        vertical-align: middle;\n    }\n\n    .dataframe tbody tr th {\n        vertical-align: top;\n    }\n\n    .dataframe thead th {\n        text-align: right;\n    }\n</style>\n<table border=\"1\" class=\"dataframe\">\n  <thead>\n    <tr style=\"text-align: right;\">\n      <th></th>\n      <th>id</th>\n      <th>position</th>\n      <th>region</th>\n      <th>industry</th>\n      <th>locality</th>\n      <th>locality_name</th>\n      <th>education_type</th>\n      <th>drive_licences</th>\n      <th>citizenship</th>\n      <th>schedule</th>\n      <th>...</th>\n      <th>relocation_ready</th>\n      <th>travel_ready</th>\n      <th>retraining_ready</th>\n      <th>is_worldskills_participant</th>\n      <th>has_qualifications</th>\n      <th>completeness_rate</th>\n      <th>creation_date</th>\n      <th>modification_date</th>\n      <th>publish_date</th>\n      <th>salary</th>\n    </tr>\n  </thead>\n  <tbody>\n    <tr>\n      <th>0</th>\n      <td>0</td>\n      <td>Специалист</td>\n      <td>Тульская область</td>\n      <td>Государственная служба, некоммерческие организ...</td>\n      <td>7100000100000</td>\n      <td>Тула</td>\n      <td>Незаконченное высшее</td>\n      <td>[B]</td>\n      <td>Российская Федерация</td>\n      <td>Полный рабочий день</td>\n      <td>...</td>\n      <td>False</td>\n      <td>False</td>\n      <td>True</td>\n      <td>NaN</td>\n      <td>NaN</td>\n      <td>64.0</td>\n      <td>2020-05-07</td>\n      <td>2020-05-08</td>\n      <td>2020-05-07</td>\n      <td>37500</td>\n    </tr>\n    <tr>\n      <th>1</th>\n      <td>1</td>\n      <td>Лаборант</td>\n      <td>Алтайский край</td>\n      <td>Государственная служба, некоммерческие организ...</td>\n      <td>2200000100000</td>\n      <td>Барнаул</td>\n      <td>Высшее</td>\n      <td>[B]</td>\n      <td>Российская Федерация</td>\n      <td>Полный рабочий день</td>\n      <td>...</td>\n      <td>False</td>\n      <td>True</td>\n      <td>True</td>\n      <td>NaN</td>\n      <td>NaN</td>\n      <td>88.0</td>\n      <td>2020-10-21</td>\n      <td>2020-10-27</td>\n      <td>2020-10-27</td>\n      <td>14000</td>\n    </tr>\n    <tr>\n      <th>2</th>\n      <td>3</td>\n      <td>Специалист, администратор, бухгалтер, экономист</td>\n      <td>Ульяновская область</td>\n      <td>Административная работа, секретариат, АХО</td>\n      <td>7300000200000</td>\n      <td>Димитровград</td>\n      <td>Высшее</td>\n      <td>[B]</td>\n      <td>Российская Федерация</td>\n      <td>Полный рабочий день</td>\n      <td>...</td>\n      <td>False</td>\n      <td>NaN</td>\n      <td>True</td>\n      <td>NaN</td>\n      <td>NaN</td>\n      <td>78.0</td>\n      <td>2019-04-25</td>\n      <td>2020-02-04</td>\n      <td>2020-02-04</td>\n      <td>24600</td>\n    </tr>\n    <tr>\n      <th>3</th>\n      <td>4</td>\n      <td>Специалист</td>\n      <td>Свердловская область</td>\n      <td>Государственная служба, некоммерческие организ...</td>\n      <td>6600002300000</td>\n      <td>Нижний Тагил</td>\n      <td>Высшее</td>\n      <td>[B]</td>\n      <td>Российская Федерация</td>\n      <td>Полный рабочий день</td>\n      <td>...</td>\n      <td>False</td>\n      <td>False</td>\n      <td>False</td>\n      <td>NaN</td>\n      <td>NaN</td>\n      <td>91.0</td>\n      <td>2020-09-19</td>\n      <td>2020-09-20</td>\n      <td>2020-09-19</td>\n      <td>16075</td>\n    </tr>\n    <tr>\n      <th>4</th>\n      <td>5</td>\n      <td>Инструктор по плаванию</td>\n      <td>Иркутская область</td>\n      <td>Здравоохранение, спорт, красота, социальное об...</td>\n      <td>3800000400000</td>\n      <td>Ангарск</td>\n      <td>NaN</td>\n      <td>NaN</td>\n      <td>Российская Федерация</td>\n      <td>Полный рабочий день</td>\n      <td>...</td>\n      <td>False</td>\n      <td>NaN</td>\n      <td>NaN</td>\n      <td>NaN</td>\n      <td>NaN</td>\n      <td>58.0</td>\n      <td>2020-04-20</td>\n      <td>2020-09-09</td>\n      <td>2020-04-21</td>\n      <td>22080</td>\n    </tr>\n  </tbody>\n</table>\n<p>5 rows × 25 columns</p>\n</div>"
     },
     "metadata": {},
     "execution_count": 2
    }
   ],
   "source": [
    "raw_data_path = Path('../data/raw')\n",
    "train_df = pd.read_csv(raw_data_path / 'train.csv', sep=';')\n",
    "print(len(train_df))\n",
    "train_df.head()"
   ]
  },
  {
   "cell_type": "code",
   "execution_count": 3,
   "metadata": {},
   "outputs": [
    {
     "output_type": "stream",
     "name": "stdout",
     "text": [
      "131259\n"
     ]
    },
    {
     "output_type": "execute_result",
     "data": {
      "text/plain": [
       "   id               position                region  \\\n",
       "0   2                инженер        Алтайский край   \n",
       "1   6              монтажник  Свердловская область   \n",
       "2   7                Инженер   Ульяновская область   \n",
       "3  11                  Юрист    Краснодарский край   \n",
       "4  16  Персональный менеджер    Московская область   \n",
       "\n",
       "                                            industry       locality  \\\n",
       "0  Строительство, ремонт, стройматериалы, недвижи...  2200000100000   \n",
       "1  Строительство, ремонт, стройматериалы, недвижи...  6600000000000   \n",
       "2       Транспорт, автобизнес, логистика, склад, ВЭД  7300300002000   \n",
       "3                                      Юриспруденция  2300000000000   \n",
       "4  Финансы, кредит, страхование, пенсионное обесп...  5001300100000   \n",
       "\n",
       "   locality_name education_type drive_licences           citizenship  \\\n",
       "0        Барнаул         Высшее            [B]  Российская Федерация   \n",
       "1   Свердловская            NaN            NaN  Российская Федерация   \n",
       "2      Измайлово         Высшее      [A, B, C]  Российская Федерация   \n",
       "3  Краснодарский         Высшее            NaN  Российская Федерация   \n",
       "4    Красногорск         Высшее            NaN  Российская Федерация   \n",
       "\n",
       "              schedule  ... salary_desired  relocation_ready travel_ready  \\\n",
       "0  Полный рабочий день  ...          10288             False         True   \n",
       "1  Полный рабочий день  ...          56649               NaN         True   \n",
       "2  Полный рабочий день  ...          50000             False        False   \n",
       "3  Полный рабочий день  ...          20760             False          NaN   \n",
       "4  Полный рабочий день  ...          70000             False        False   \n",
       "\n",
       "   retraining_ready  is_worldskills_participant has_qualifications  \\\n",
       "0              True                         NaN                NaN   \n",
       "1              True                         NaN                NaN   \n",
       "2              True                         NaN                NaN   \n",
       "3              True                         NaN                NaN   \n",
       "4              True                         NaN                NaN   \n",
       "\n",
       "  completeness_rate creation_date modification_date publish_date  \n",
       "0              86.0    2017-08-26        2019-05-17   2016-05-11  \n",
       "1              47.0    2017-12-01        2019-07-10   2017-12-01  \n",
       "2              66.0    2020-04-12        2020-04-14   2020-04-14  \n",
       "3              69.0    2019-10-10        2020-08-25   2019-10-11  \n",
       "4              65.0    2020-04-20        2020-05-21   2020-05-21  \n",
       "\n",
       "[5 rows x 24 columns]"
      ],
      "text/html": "<div>\n<style scoped>\n    .dataframe tbody tr th:only-of-type {\n        vertical-align: middle;\n    }\n\n    .dataframe tbody tr th {\n        vertical-align: top;\n    }\n\n    .dataframe thead th {\n        text-align: right;\n    }\n</style>\n<table border=\"1\" class=\"dataframe\">\n  <thead>\n    <tr style=\"text-align: right;\">\n      <th></th>\n      <th>id</th>\n      <th>position</th>\n      <th>region</th>\n      <th>industry</th>\n      <th>locality</th>\n      <th>locality_name</th>\n      <th>education_type</th>\n      <th>drive_licences</th>\n      <th>citizenship</th>\n      <th>schedule</th>\n      <th>...</th>\n      <th>salary_desired</th>\n      <th>relocation_ready</th>\n      <th>travel_ready</th>\n      <th>retraining_ready</th>\n      <th>is_worldskills_participant</th>\n      <th>has_qualifications</th>\n      <th>completeness_rate</th>\n      <th>creation_date</th>\n      <th>modification_date</th>\n      <th>publish_date</th>\n    </tr>\n  </thead>\n  <tbody>\n    <tr>\n      <th>0</th>\n      <td>2</td>\n      <td>инженер</td>\n      <td>Алтайский край</td>\n      <td>Строительство, ремонт, стройматериалы, недвижи...</td>\n      <td>2200000100000</td>\n      <td>Барнаул</td>\n      <td>Высшее</td>\n      <td>[B]</td>\n      <td>Российская Федерация</td>\n      <td>Полный рабочий день</td>\n      <td>...</td>\n      <td>10288</td>\n      <td>False</td>\n      <td>True</td>\n      <td>True</td>\n      <td>NaN</td>\n      <td>NaN</td>\n      <td>86.0</td>\n      <td>2017-08-26</td>\n      <td>2019-05-17</td>\n      <td>2016-05-11</td>\n    </tr>\n    <tr>\n      <th>1</th>\n      <td>6</td>\n      <td>монтажник</td>\n      <td>Свердловская область</td>\n      <td>Строительство, ремонт, стройматериалы, недвижи...</td>\n      <td>6600000000000</td>\n      <td>Свердловская</td>\n      <td>NaN</td>\n      <td>NaN</td>\n      <td>Российская Федерация</td>\n      <td>Полный рабочий день</td>\n      <td>...</td>\n      <td>56649</td>\n      <td>NaN</td>\n      <td>True</td>\n      <td>True</td>\n      <td>NaN</td>\n      <td>NaN</td>\n      <td>47.0</td>\n      <td>2017-12-01</td>\n      <td>2019-07-10</td>\n      <td>2017-12-01</td>\n    </tr>\n    <tr>\n      <th>2</th>\n      <td>7</td>\n      <td>Инженер</td>\n      <td>Ульяновская область</td>\n      <td>Транспорт, автобизнес, логистика, склад, ВЭД</td>\n      <td>7300300002000</td>\n      <td>Измайлово</td>\n      <td>Высшее</td>\n      <td>[A, B, C]</td>\n      <td>Российская Федерация</td>\n      <td>Полный рабочий день</td>\n      <td>...</td>\n      <td>50000</td>\n      <td>False</td>\n      <td>False</td>\n      <td>True</td>\n      <td>NaN</td>\n      <td>NaN</td>\n      <td>66.0</td>\n      <td>2020-04-12</td>\n      <td>2020-04-14</td>\n      <td>2020-04-14</td>\n    </tr>\n    <tr>\n      <th>3</th>\n      <td>11</td>\n      <td>Юрист</td>\n      <td>Краснодарский край</td>\n      <td>Юриспруденция</td>\n      <td>2300000000000</td>\n      <td>Краснодарский</td>\n      <td>Высшее</td>\n      <td>NaN</td>\n      <td>Российская Федерация</td>\n      <td>Полный рабочий день</td>\n      <td>...</td>\n      <td>20760</td>\n      <td>False</td>\n      <td>NaN</td>\n      <td>True</td>\n      <td>NaN</td>\n      <td>NaN</td>\n      <td>69.0</td>\n      <td>2019-10-10</td>\n      <td>2020-08-25</td>\n      <td>2019-10-11</td>\n    </tr>\n    <tr>\n      <th>4</th>\n      <td>16</td>\n      <td>Персональный менеджер</td>\n      <td>Московская область</td>\n      <td>Финансы, кредит, страхование, пенсионное обесп...</td>\n      <td>5001300100000</td>\n      <td>Красногорск</td>\n      <td>Высшее</td>\n      <td>NaN</td>\n      <td>Российская Федерация</td>\n      <td>Полный рабочий день</td>\n      <td>...</td>\n      <td>70000</td>\n      <td>False</td>\n      <td>False</td>\n      <td>True</td>\n      <td>NaN</td>\n      <td>NaN</td>\n      <td>65.0</td>\n      <td>2020-04-20</td>\n      <td>2020-05-21</td>\n      <td>2020-05-21</td>\n    </tr>\n  </tbody>\n</table>\n<p>5 rows × 24 columns</p>\n</div>"
     },
     "metadata": {},
     "execution_count": 3
    }
   ],
   "source": [
    "test_df = pd.read_csv(raw_data_path / 'test.csv', sep=';')\n",
    "print(len(test_df))\n",
    "test_df.head()"
   ]
  },
  {
   "cell_type": "code",
   "execution_count": 4,
   "metadata": {},
   "outputs": [],
   "source": [
    "train_ids = train_df['id'].tolist()\n",
    "test_ids = test_df['id'].tolist()"
   ]
  },
  {
   "cell_type": "code",
   "execution_count": 5,
   "metadata": {},
   "outputs": [],
   "source": [
    "train_test = pd.concat((train_df, test_df), ignore_index=True)"
   ]
  },
  {
   "cell_type": "code",
   "execution_count": 6,
   "metadata": {},
   "outputs": [
    {
     "output_type": "stream",
     "name": "stdout",
     "text": [
      "Position preprocessed\n",
      "Region preprocessed\n",
      "Industry preprocessed\n",
      "Locality name preprocessed\n",
      "Education preprocessed\n",
      "Drive licenses preprocessed\n",
      "Citizenship preprocessed\n",
      "Schedule preprocessed\n",
      "Employement preprocessed\n",
      "Age preprocessed\n",
      "Gender preprocessed\n",
      "Experience preprocessed\n",
      "Salary desired preprocessed\n",
      "Relocation ready preprocessed\n",
      "Travel ready preprocessed\n",
      "Retraining ready preprocessed\n",
      "Is worldskills participant preprocessed\n",
      "Has qualifications preprocessed\n",
      "Creation date preprocessed\n",
      "Modification date preprocessed\n",
      "Publish date preprocessed\n",
      "Days between preprocessed\n"
     ]
    }
   ],
   "source": [
    "train_test = preprocess_train_test(train_test)"
   ]
  },
  {
   "cell_type": "code",
   "execution_count": 7,
   "metadata": {},
   "outputs": [],
   "source": [
    "train_test['publish_year'] = train_test['publish_date'].dt.year"
   ]
  },
  {
   "cell_type": "code",
   "execution_count": 8,
   "metadata": {},
   "outputs": [],
   "source": [
    "resourse_prices = pd.read_csv('../data/external/mineral_resources_price_history.csv', parse_dates=['date'], index_col='date')\n",
    "resourse_prices = resourse_prices.reindex(pd.date_range(resourse_prices.index.min(), resourse_prices.index.max(), freq='1D', name='date'))\n",
    "resourse_prices = resourse_prices.fillna(method='ffill').reset_index()"
   ]
  },
  {
   "cell_type": "code",
   "execution_count": 9,
   "metadata": {},
   "outputs": [],
   "source": [
    "train_test = train_test.merge(resourse_prices, how='left', left_on='publish_date', right_on='date').drop('date', axis=1)"
   ]
  },
  {
   "cell_type": "code",
   "execution_count": 10,
   "metadata": {},
   "outputs": [],
   "source": [
    "covid_daily = pd.read_csv('../data/external/covid_by_date.csv', parse_dates=['date'], index_col='date')\n",
    "covid_daily = covid_daily.reindex(pd.date_range(train_test['publish_date'].min(), covid_daily.index.max(), freq='1D', name='date'))\n",
    "covid_daily = covid_daily.fillna(0).astype('int').reset_index()"
   ]
  },
  {
   "cell_type": "code",
   "execution_count": 11,
   "metadata": {},
   "outputs": [],
   "source": [
    "train_test = train_test.merge(covid_daily, how='left', left_on='publish_date', right_on='date').drop('date', axis=1)"
   ]
  },
  {
   "cell_type": "code",
   "execution_count": 12,
   "metadata": {},
   "outputs": [],
   "source": [
    "covid_regions = pd.read_csv('../data/external/covid_by_date_and_region.csv', parse_dates=['date'])\n",
    "covid_regions['region'] = covid_regions['region'].str.lower()"
   ]
  },
  {
   "cell_type": "code",
   "execution_count": 13,
   "metadata": {},
   "outputs": [],
   "source": [
    "train_test = train_test.merge(covid_regions, how='left', left_on=['publish_date', 'region'], right_on=['date', 'region'], suffixes=['', '_region'])\n",
    "train_test = train_test.drop('date', axis=1)"
   ]
  },
  {
   "cell_type": "code",
   "execution_count": 14,
   "metadata": {},
   "outputs": [],
   "source": [
    "cov_region_cols = [col for col in train_test.columns if col.endswith('_region')]\n",
    "train_test[cov_region_cols] = train_test[cov_region_cols].fillna(0).astype('int')"
   ]
  },
  {
   "cell_type": "code",
   "execution_count": 15,
   "metadata": {},
   "outputs": [],
   "source": [
    "train_test['region'] = train_test['region'].astype('category')"
   ]
  },
  {
   "cell_type": "code",
   "execution_count": 16,
   "metadata": {},
   "outputs": [],
   "source": [
    "economic_indicators = pd.read_csv('../data/external/economic_indicators.csv')"
   ]
  },
  {
   "cell_type": "code",
   "execution_count": 17,
   "metadata": {},
   "outputs": [],
   "source": [
    "train_test = train_test.merge(economic_indicators, how='left', left_on='publish_year', right_on='year').drop('year', axis=1)"
   ]
  },
  {
   "cell_type": "code",
   "execution_count": 18,
   "metadata": {},
   "outputs": [],
   "source": [
    "employements = pd.read_pickle('../data/interim/employements_aggregated.pkl')"
   ]
  },
  {
   "cell_type": "code",
   "execution_count": 19,
   "metadata": {},
   "outputs": [],
   "source": [
    "employements = employements[['id', 'mean_work_duration', 'max_work_duration', 'min_work_duration', 'median_work_duration']]"
   ]
  },
  {
   "cell_type": "code",
   "execution_count": 20,
   "metadata": {},
   "outputs": [],
   "source": [
    "train_test = train_test.merge(employements, how='left', on='id')"
   ]
  },
  {
   "cell_type": "code",
   "execution_count": 21,
   "metadata": {},
   "outputs": [],
   "source": [
    "train_test['mean_work_duration'] = train_test['mean_work_duration'].fillna(0)\n",
    "train_test['max_work_duration'] = train_test['max_work_duration'].fillna(0)\n",
    "train_test['min_work_duration'] = train_test['min_work_duration'].fillna(0)\n",
    "train_test['median_work_duration'] = train_test['median_work_duration'].fillna(0)"
   ]
  },
  {
   "cell_type": "code",
   "execution_count": 22,
   "metadata": {},
   "outputs": [],
   "source": [
    "education = pd.read_csv('../data/raw/education.csv', sep=';')"
   ]
  },
  {
   "cell_type": "code",
   "execution_count": 23,
   "metadata": {},
   "outputs": [],
   "source": [
    "education['institution'] = education['institution'].str.lower().str.replace('\\\"', '').str.replace('№', '')\n",
    "education['institution'] = education['institution'].str.replace('(', '').str.replace(')', '')\n",
    "education['institution'] = education['institution'].fillna('NA_category')\n",
    "education['graduation_year'] = education['graduation_year'].fillna(0).astype('int')\n",
    "education['years_from_graduation'] = 2020 - education['graduation_year']\n",
    "education = education.drop('description', axis=1)\n",
    "education['is_school'] = education['institution'].str.contains('школа') | education['institution'].str.contains('сош')\n",
    "education['is_university'] = education['institution'].str.contains('университет')\n",
    "education['is_uchilishe'] = education['institution'].str.contains('училище')"
   ]
  },
  {
   "cell_type": "code",
   "execution_count": 24,
   "metadata": {},
   "outputs": [],
   "source": [
    "train_test = train_test.merge(education, how='left', on='id')"
   ]
  },
  {
   "cell_type": "code",
   "execution_count": 25,
   "metadata": {},
   "outputs": [],
   "source": [
    "train_test['graduation_year'] = train_test['graduation_year'].fillna(0).astype('int')\n",
    "train_test['institution'] = train_test['institution'].fillna('NA_category').astype('category')\n",
    "train_test['years_from_graduation'] = train_test['years_from_graduation'].fillna(0).astype('int')\n",
    "train_test['is_school'] = train_test['is_school'].fillna(False).astype('bool')\n",
    "train_test['is_university'] = train_test['is_university'].fillna(False).astype('bool')\n",
    "train_test['is_uchilishe'] = train_test['is_uchilishe'].fillna(False).astype('bool')"
   ]
  },
  {
   "cell_type": "code",
   "execution_count": 26,
   "metadata": {},
   "outputs": [
    {
     "output_type": "execute_result",
     "data": {
      "text/plain": [
       "            id                 region  \\\n",
       "0            0       тульская область   \n",
       "1            1         алтайский край   \n",
       "2            3    ульяновская область   \n",
       "3            4   свердловская область   \n",
       "4            5      иркутская область   \n",
       "...        ...                    ...   \n",
       "437524  437515  новосибирская область   \n",
       "437525  437518    республика дагестан   \n",
       "437526  437526              г. москва   \n",
       "437527  437527   свердловская область   \n",
       "437528  437528   чеченская республика   \n",
       "\n",
       "                                                 industry locality_name  \\\n",
       "0       государственная служба, некоммерческие организ...          тула   \n",
       "1       государственная служба, некоммерческие организ...       барнаул   \n",
       "2               административная работа, секретариат, ахо  димитровград   \n",
       "3       государственная служба, некоммерческие организ...  нижний тагил   \n",
       "4       здравоохранение, спорт, красота, социальное об...       ангарск   \n",
       "...                                                   ...           ...   \n",
       "437524                        безопасность, службы охраны        лянино   \n",
       "437525  строительство, ремонт, стройматериалы, недвижи...   NA_category   \n",
       "437526                        начал трудовую деятельность        москва   \n",
       "437527                              рабочие специальности  нижний тагил   \n",
       "437528                  работы, не требующие квалификации     чеченская   \n",
       "\n",
       "              education_type           citizenship  employement_type  age  \\\n",
       "0       незаконченное высшее  российская федерация  полная занятость   21   \n",
       "1                     высшее  российская федерация  полная занятость   26   \n",
       "2                     высшее  российская федерация  полная занятость   36   \n",
       "3                     высшее  российская федерация  полная занятость   34   \n",
       "4                NA_category  российская федерация  полная занятость   25   \n",
       "...                      ...                   ...               ...  ...   \n",
       "437524               среднее  российская федерация  полная занятость   40   \n",
       "437525               среднее  российская федерация  полная занятость   42   \n",
       "437526                высшее  российская федерация  полная занятость   27   \n",
       "437527               среднее  российская федерация  полная занятость   24   \n",
       "437528           NA_category  российская федерация  полная занятость   34   \n",
       "\n",
       "         gender  experience  ...  mean_work_duration max_work_duration  \\\n",
       "0       мужской           3  ...          304.750000             730.0   \n",
       "1       женский           4  ...            0.000000               0.0   \n",
       "2       женский          12  ...          994.666667            1645.0   \n",
       "3       женский           9  ...         1086.333333            1889.0   \n",
       "4       мужской           1  ...          228.000000             305.0   \n",
       "...         ...         ...  ...                 ...               ...   \n",
       "437524  мужской           2  ...          670.000000             670.0   \n",
       "437525  мужской           0  ...            0.000000               0.0   \n",
       "437526  женский           0  ...            0.000000               0.0   \n",
       "437527  мужской           1  ...          184.000000             184.0   \n",
       "437528  мужской           0  ...            0.000000               0.0   \n",
       "\n",
       "       min_work_duration median_work_duration  graduation_year  \\\n",
       "0                   31.0                229.0             2022   \n",
       "1                    0.0                  0.0             2016   \n",
       "2                  638.0                701.0             2003   \n",
       "3                  550.0                820.0             2005   \n",
       "4                  151.0                228.0                0   \n",
       "...                  ...                  ...              ...   \n",
       "437524             670.0                670.0             1996   \n",
       "437525               0.0                  0.0             1994   \n",
       "437526               0.0                  0.0             2015   \n",
       "437527             184.0                184.0             2014   \n",
       "437528               0.0                  0.0                0   \n",
       "\n",
       "                                           institution  years_from_graduation  \\\n",
       "0                 тульский государственный университет                     -2   \n",
       "1       алтайский государственный аграрный университет                      4   \n",
       "2         гоу спо димитровградский технический колледж                     17   \n",
       "3       нижнетагильский торгово-экономический техникум                     15   \n",
       "4                                          NA_category                      0   \n",
       "...                                                ...                    ...   \n",
       "437524     лянинская средняя общеобразовательная школа                     24   \n",
       "437525                               сош 4 г буйнакска                     26   \n",
       "437526                                            сгэу                      5   \n",
       "437527                                     мбоу сош 64                      6   \n",
       "437528                                     NA_category                      0   \n",
       "\n",
       "       is_school  is_university  is_uchilishe  \n",
       "0          False           True         False  \n",
       "1          False           True         False  \n",
       "2          False          False         False  \n",
       "3          False          False         False  \n",
       "4          False          False         False  \n",
       "...          ...            ...           ...  \n",
       "437524      True          False         False  \n",
       "437525      True          False         False  \n",
       "437526     False          False         False  \n",
       "437527      True          False         False  \n",
       "437528     False          False         False  \n",
       "\n",
       "[437529 rows x 70 columns]"
      ],
      "text/html": "<div>\n<style scoped>\n    .dataframe tbody tr th:only-of-type {\n        vertical-align: middle;\n    }\n\n    .dataframe tbody tr th {\n        vertical-align: top;\n    }\n\n    .dataframe thead th {\n        text-align: right;\n    }\n</style>\n<table border=\"1\" class=\"dataframe\">\n  <thead>\n    <tr style=\"text-align: right;\">\n      <th></th>\n      <th>id</th>\n      <th>region</th>\n      <th>industry</th>\n      <th>locality_name</th>\n      <th>education_type</th>\n      <th>citizenship</th>\n      <th>employement_type</th>\n      <th>age</th>\n      <th>gender</th>\n      <th>experience</th>\n      <th>...</th>\n      <th>mean_work_duration</th>\n      <th>max_work_duration</th>\n      <th>min_work_duration</th>\n      <th>median_work_duration</th>\n      <th>graduation_year</th>\n      <th>institution</th>\n      <th>years_from_graduation</th>\n      <th>is_school</th>\n      <th>is_university</th>\n      <th>is_uchilishe</th>\n    </tr>\n  </thead>\n  <tbody>\n    <tr>\n      <th>0</th>\n      <td>0</td>\n      <td>тульская область</td>\n      <td>государственная служба, некоммерческие организ...</td>\n      <td>тула</td>\n      <td>незаконченное высшее</td>\n      <td>российская федерация</td>\n      <td>полная занятость</td>\n      <td>21</td>\n      <td>мужской</td>\n      <td>3</td>\n      <td>...</td>\n      <td>304.750000</td>\n      <td>730.0</td>\n      <td>31.0</td>\n      <td>229.0</td>\n      <td>2022</td>\n      <td>тульский государственный университет</td>\n      <td>-2</td>\n      <td>False</td>\n      <td>True</td>\n      <td>False</td>\n    </tr>\n    <tr>\n      <th>1</th>\n      <td>1</td>\n      <td>алтайский край</td>\n      <td>государственная служба, некоммерческие организ...</td>\n      <td>барнаул</td>\n      <td>высшее</td>\n      <td>российская федерация</td>\n      <td>полная занятость</td>\n      <td>26</td>\n      <td>женский</td>\n      <td>4</td>\n      <td>...</td>\n      <td>0.000000</td>\n      <td>0.0</td>\n      <td>0.0</td>\n      <td>0.0</td>\n      <td>2016</td>\n      <td>алтайский государственный аграрный университет</td>\n      <td>4</td>\n      <td>False</td>\n      <td>True</td>\n      <td>False</td>\n    </tr>\n    <tr>\n      <th>2</th>\n      <td>3</td>\n      <td>ульяновская область</td>\n      <td>административная работа, секретариат, ахо</td>\n      <td>димитровград</td>\n      <td>высшее</td>\n      <td>российская федерация</td>\n      <td>полная занятость</td>\n      <td>36</td>\n      <td>женский</td>\n      <td>12</td>\n      <td>...</td>\n      <td>994.666667</td>\n      <td>1645.0</td>\n      <td>638.0</td>\n      <td>701.0</td>\n      <td>2003</td>\n      <td>гоу спо димитровградский технический колледж</td>\n      <td>17</td>\n      <td>False</td>\n      <td>False</td>\n      <td>False</td>\n    </tr>\n    <tr>\n      <th>3</th>\n      <td>4</td>\n      <td>свердловская область</td>\n      <td>государственная служба, некоммерческие организ...</td>\n      <td>нижний тагил</td>\n      <td>высшее</td>\n      <td>российская федерация</td>\n      <td>полная занятость</td>\n      <td>34</td>\n      <td>женский</td>\n      <td>9</td>\n      <td>...</td>\n      <td>1086.333333</td>\n      <td>1889.0</td>\n      <td>550.0</td>\n      <td>820.0</td>\n      <td>2005</td>\n      <td>нижнетагильский торгово-экономический техникум</td>\n      <td>15</td>\n      <td>False</td>\n      <td>False</td>\n      <td>False</td>\n    </tr>\n    <tr>\n      <th>4</th>\n      <td>5</td>\n      <td>иркутская область</td>\n      <td>здравоохранение, спорт, красота, социальное об...</td>\n      <td>ангарск</td>\n      <td>NA_category</td>\n      <td>российская федерация</td>\n      <td>полная занятость</td>\n      <td>25</td>\n      <td>мужской</td>\n      <td>1</td>\n      <td>...</td>\n      <td>228.000000</td>\n      <td>305.0</td>\n      <td>151.0</td>\n      <td>228.0</td>\n      <td>0</td>\n      <td>NA_category</td>\n      <td>0</td>\n      <td>False</td>\n      <td>False</td>\n      <td>False</td>\n    </tr>\n    <tr>\n      <th>...</th>\n      <td>...</td>\n      <td>...</td>\n      <td>...</td>\n      <td>...</td>\n      <td>...</td>\n      <td>...</td>\n      <td>...</td>\n      <td>...</td>\n      <td>...</td>\n      <td>...</td>\n      <td>...</td>\n      <td>...</td>\n      <td>...</td>\n      <td>...</td>\n      <td>...</td>\n      <td>...</td>\n      <td>...</td>\n      <td>...</td>\n      <td>...</td>\n      <td>...</td>\n      <td>...</td>\n    </tr>\n    <tr>\n      <th>437524</th>\n      <td>437515</td>\n      <td>новосибирская область</td>\n      <td>безопасность, службы охраны</td>\n      <td>лянино</td>\n      <td>среднее</td>\n      <td>российская федерация</td>\n      <td>полная занятость</td>\n      <td>40</td>\n      <td>мужской</td>\n      <td>2</td>\n      <td>...</td>\n      <td>670.000000</td>\n      <td>670.0</td>\n      <td>670.0</td>\n      <td>670.0</td>\n      <td>1996</td>\n      <td>лянинская средняя общеобразовательная школа</td>\n      <td>24</td>\n      <td>True</td>\n      <td>False</td>\n      <td>False</td>\n    </tr>\n    <tr>\n      <th>437525</th>\n      <td>437518</td>\n      <td>республика дагестан</td>\n      <td>строительство, ремонт, стройматериалы, недвижи...</td>\n      <td>NA_category</td>\n      <td>среднее</td>\n      <td>российская федерация</td>\n      <td>полная занятость</td>\n      <td>42</td>\n      <td>мужской</td>\n      <td>0</td>\n      <td>...</td>\n      <td>0.000000</td>\n      <td>0.0</td>\n      <td>0.0</td>\n      <td>0.0</td>\n      <td>1994</td>\n      <td>сош 4 г буйнакска</td>\n      <td>26</td>\n      <td>True</td>\n      <td>False</td>\n      <td>False</td>\n    </tr>\n    <tr>\n      <th>437526</th>\n      <td>437526</td>\n      <td>г. москва</td>\n      <td>начал трудовую деятельность</td>\n      <td>москва</td>\n      <td>высшее</td>\n      <td>российская федерация</td>\n      <td>полная занятость</td>\n      <td>27</td>\n      <td>женский</td>\n      <td>0</td>\n      <td>...</td>\n      <td>0.000000</td>\n      <td>0.0</td>\n      <td>0.0</td>\n      <td>0.0</td>\n      <td>2015</td>\n      <td>сгэу</td>\n      <td>5</td>\n      <td>False</td>\n      <td>False</td>\n      <td>False</td>\n    </tr>\n    <tr>\n      <th>437527</th>\n      <td>437527</td>\n      <td>свердловская область</td>\n      <td>рабочие специальности</td>\n      <td>нижний тагил</td>\n      <td>среднее</td>\n      <td>российская федерация</td>\n      <td>полная занятость</td>\n      <td>24</td>\n      <td>мужской</td>\n      <td>1</td>\n      <td>...</td>\n      <td>184.000000</td>\n      <td>184.0</td>\n      <td>184.0</td>\n      <td>184.0</td>\n      <td>2014</td>\n      <td>мбоу сош 64</td>\n      <td>6</td>\n      <td>True</td>\n      <td>False</td>\n      <td>False</td>\n    </tr>\n    <tr>\n      <th>437528</th>\n      <td>437528</td>\n      <td>чеченская республика</td>\n      <td>работы, не требующие квалификации</td>\n      <td>чеченская</td>\n      <td>NA_category</td>\n      <td>российская федерация</td>\n      <td>полная занятость</td>\n      <td>34</td>\n      <td>мужской</td>\n      <td>0</td>\n      <td>...</td>\n      <td>0.000000</td>\n      <td>0.0</td>\n      <td>0.0</td>\n      <td>0.0</td>\n      <td>0</td>\n      <td>NA_category</td>\n      <td>0</td>\n      <td>False</td>\n      <td>False</td>\n      <td>False</td>\n    </tr>\n  </tbody>\n</table>\n<p>437529 rows × 70 columns</p>\n</div>"
     },
     "metadata": {},
     "execution_count": 26
    }
   ],
   "source": [
    "train_test"
   ]
  },
  {
   "cell_type": "code",
   "execution_count": 27,
   "metadata": {},
   "outputs": [],
   "source": [
    "embeddings = pd.read_pickle('../data/interim/employements_mult_new_ft_1.pkl')\n",
    "embeddings = embeddings[~embeddings['id'].isna()]\n",
    "embeddings['id'] = embeddings['id'].astype('int')"
   ]
  },
  {
   "cell_type": "code",
   "execution_count": 28,
   "metadata": {},
   "outputs": [],
   "source": [
    "mean_embeddings = embeddings.groupby('id').mean().reset_index()"
   ]
  },
  {
   "cell_type": "code",
   "execution_count": 29,
   "metadata": {},
   "outputs": [
    {
     "output_type": "execute_result",
     "data": {
      "text/plain": [
       "            id  employer_0  employer_1  employer_2  employer_3  employer_4  \\\n",
       "0            0   -1.017649   -0.447355   -1.514316    0.469207   -0.475916   \n",
       "1            1   -0.465040    0.132992   -0.815174   -0.046692   -0.829418   \n",
       "2            2   -0.992502   -0.152183   -0.535515    0.536152    0.228275   \n",
       "3            3   -1.185013   -0.385107   -0.751889    0.312636   -0.224279   \n",
       "4            4   -0.879738   -0.233525   -1.089134    0.361406   -0.200694   \n",
       "...        ...         ...         ...         ...         ...         ...   \n",
       "343350  437521   -0.543067   -0.101195   -0.682919   -0.847683   -1.193004   \n",
       "343351  437522   -1.165832    0.001414   -1.006713    0.513116   -0.042087   \n",
       "343352  437524   -0.815103    0.064995   -0.662187    0.390056   -0.769040   \n",
       "343353  437525   -0.895925    0.187234   -0.374537   -0.122463   -0.627492   \n",
       "343354  437527   -1.300011   -0.412293   -0.882107    0.314661   -0.124805   \n",
       "\n",
       "        employer_5  employer_6  employer_7  employer_8  ...  \\\n",
       "0        -0.219186   -0.025919   -0.284017    0.213968  ...   \n",
       "1        -0.405717   -0.056264   -0.344829    0.387615  ...   \n",
       "2         0.364199   -0.302803   -0.190838    0.206788  ...   \n",
       "3        -0.002439   -0.121650    0.048960    0.366831  ...   \n",
       "4         0.042866   -0.060856   -0.311024    0.200314  ...   \n",
       "...            ...         ...         ...         ...  ...   \n",
       "343350   -0.180839    0.007399    0.981701    0.306855  ...   \n",
       "343351    0.022525   -0.396497   -0.187312   -0.149837  ...   \n",
       "343352   -0.307043   -0.368575   -0.290121   -0.145781  ...   \n",
       "343353    0.159512   -0.127963   -0.899920    0.176098  ...   \n",
       "343354   -0.198742   -0.622448   -0.564376   -0.123781  ...   \n",
       "\n",
       "        position_clean_90  position_clean_91  position_clean_92  \\\n",
       "0                0.096677           0.002415          -0.072459   \n",
       "1                0.439040          -0.134374           0.252825   \n",
       "2               -0.002466          -0.391971           0.727872   \n",
       "3                0.396558          -0.133001           0.204240   \n",
       "4                0.299617           0.093095           0.103868   \n",
       "...                   ...                ...                ...   \n",
       "343350           0.246862          -0.211687           0.145969   \n",
       "343351           0.337600           0.051778           0.278678   \n",
       "343352           0.140298           0.131908           0.124283   \n",
       "343353           0.484242          -0.059477           0.218753   \n",
       "343354           0.138823           0.219384           0.209639   \n",
       "\n",
       "        position_clean_93  position_clean_94  position_clean_95  \\\n",
       "0                0.234490          -0.031559           0.010704   \n",
       "1                0.568209           0.062679          -0.015571   \n",
       "2                0.324384          -0.107194           0.399409   \n",
       "3                0.192432           0.111202          -0.139169   \n",
       "4                0.271718          -0.017082          -0.110036   \n",
       "...                   ...                ...                ...   \n",
       "343350           0.353881          -0.005096          -0.121159   \n",
       "343351           0.263065          -0.176482          -0.130657   \n",
       "343352           0.416084           0.125908          -0.068154   \n",
       "343353          -0.158238           0.333149           0.021649   \n",
       "343354           0.492684          -0.173846          -0.131222   \n",
       "\n",
       "        position_clean_96  position_clean_97  position_clean_98  \\\n",
       "0                0.224756          -0.269307           0.012200   \n",
       "1                0.246802          -0.486952          -0.189767   \n",
       "2                0.256191           0.033960           0.298979   \n",
       "3                0.213888          -0.097405           0.324649   \n",
       "4                0.154896          -0.185698           0.103765   \n",
       "...                   ...                ...                ...   \n",
       "343350           0.087376          -0.048388          -0.097330   \n",
       "343351           0.127289           0.058634           0.216327   \n",
       "343352           0.118247          -0.269563           0.098107   \n",
       "343353           0.609135          -0.222898          -0.264985   \n",
       "343354           0.639515          -0.126282           0.366862   \n",
       "\n",
       "        position_clean_99  \n",
       "0                0.060977  \n",
       "1               -0.224585  \n",
       "2               -0.091263  \n",
       "3               -0.121138  \n",
       "4                0.051490  \n",
       "...                   ...  \n",
       "343350          -0.110976  \n",
       "343351           0.120358  \n",
       "343352           0.209056  \n",
       "343353           0.041753  \n",
       "343354           0.455068  \n",
       "\n",
       "[343355 rows x 401 columns]"
      ],
      "text/html": "<div>\n<style scoped>\n    .dataframe tbody tr th:only-of-type {\n        vertical-align: middle;\n    }\n\n    .dataframe tbody tr th {\n        vertical-align: top;\n    }\n\n    .dataframe thead th {\n        text-align: right;\n    }\n</style>\n<table border=\"1\" class=\"dataframe\">\n  <thead>\n    <tr style=\"text-align: right;\">\n      <th></th>\n      <th>id</th>\n      <th>employer_0</th>\n      <th>employer_1</th>\n      <th>employer_2</th>\n      <th>employer_3</th>\n      <th>employer_4</th>\n      <th>employer_5</th>\n      <th>employer_6</th>\n      <th>employer_7</th>\n      <th>employer_8</th>\n      <th>...</th>\n      <th>position_clean_90</th>\n      <th>position_clean_91</th>\n      <th>position_clean_92</th>\n      <th>position_clean_93</th>\n      <th>position_clean_94</th>\n      <th>position_clean_95</th>\n      <th>position_clean_96</th>\n      <th>position_clean_97</th>\n      <th>position_clean_98</th>\n      <th>position_clean_99</th>\n    </tr>\n  </thead>\n  <tbody>\n    <tr>\n      <th>0</th>\n      <td>0</td>\n      <td>-1.017649</td>\n      <td>-0.447355</td>\n      <td>-1.514316</td>\n      <td>0.469207</td>\n      <td>-0.475916</td>\n      <td>-0.219186</td>\n      <td>-0.025919</td>\n      <td>-0.284017</td>\n      <td>0.213968</td>\n      <td>...</td>\n      <td>0.096677</td>\n      <td>0.002415</td>\n      <td>-0.072459</td>\n      <td>0.234490</td>\n      <td>-0.031559</td>\n      <td>0.010704</td>\n      <td>0.224756</td>\n      <td>-0.269307</td>\n      <td>0.012200</td>\n      <td>0.060977</td>\n    </tr>\n    <tr>\n      <th>1</th>\n      <td>1</td>\n      <td>-0.465040</td>\n      <td>0.132992</td>\n      <td>-0.815174</td>\n      <td>-0.046692</td>\n      <td>-0.829418</td>\n      <td>-0.405717</td>\n      <td>-0.056264</td>\n      <td>-0.344829</td>\n      <td>0.387615</td>\n      <td>...</td>\n      <td>0.439040</td>\n      <td>-0.134374</td>\n      <td>0.252825</td>\n      <td>0.568209</td>\n      <td>0.062679</td>\n      <td>-0.015571</td>\n      <td>0.246802</td>\n      <td>-0.486952</td>\n      <td>-0.189767</td>\n      <td>-0.224585</td>\n    </tr>\n    <tr>\n      <th>2</th>\n      <td>2</td>\n      <td>-0.992502</td>\n      <td>-0.152183</td>\n      <td>-0.535515</td>\n      <td>0.536152</td>\n      <td>0.228275</td>\n      <td>0.364199</td>\n      <td>-0.302803</td>\n      <td>-0.190838</td>\n      <td>0.206788</td>\n      <td>...</td>\n      <td>-0.002466</td>\n      <td>-0.391971</td>\n      <td>0.727872</td>\n      <td>0.324384</td>\n      <td>-0.107194</td>\n      <td>0.399409</td>\n      <td>0.256191</td>\n      <td>0.033960</td>\n      <td>0.298979</td>\n      <td>-0.091263</td>\n    </tr>\n    <tr>\n      <th>3</th>\n      <td>3</td>\n      <td>-1.185013</td>\n      <td>-0.385107</td>\n      <td>-0.751889</td>\n      <td>0.312636</td>\n      <td>-0.224279</td>\n      <td>-0.002439</td>\n      <td>-0.121650</td>\n      <td>0.048960</td>\n      <td>0.366831</td>\n      <td>...</td>\n      <td>0.396558</td>\n      <td>-0.133001</td>\n      <td>0.204240</td>\n      <td>0.192432</td>\n      <td>0.111202</td>\n      <td>-0.139169</td>\n      <td>0.213888</td>\n      <td>-0.097405</td>\n      <td>0.324649</td>\n      <td>-0.121138</td>\n    </tr>\n    <tr>\n      <th>4</th>\n      <td>4</td>\n      <td>-0.879738</td>\n      <td>-0.233525</td>\n      <td>-1.089134</td>\n      <td>0.361406</td>\n      <td>-0.200694</td>\n      <td>0.042866</td>\n      <td>-0.060856</td>\n      <td>-0.311024</td>\n      <td>0.200314</td>\n      <td>...</td>\n      <td>0.299617</td>\n      <td>0.093095</td>\n      <td>0.103868</td>\n      <td>0.271718</td>\n      <td>-0.017082</td>\n      <td>-0.110036</td>\n      <td>0.154896</td>\n      <td>-0.185698</td>\n      <td>0.103765</td>\n      <td>0.051490</td>\n    </tr>\n    <tr>\n      <th>...</th>\n      <td>...</td>\n      <td>...</td>\n      <td>...</td>\n      <td>...</td>\n      <td>...</td>\n      <td>...</td>\n      <td>...</td>\n      <td>...</td>\n      <td>...</td>\n      <td>...</td>\n      <td>...</td>\n      <td>...</td>\n      <td>...</td>\n      <td>...</td>\n      <td>...</td>\n      <td>...</td>\n      <td>...</td>\n      <td>...</td>\n      <td>...</td>\n      <td>...</td>\n      <td>...</td>\n    </tr>\n    <tr>\n      <th>343350</th>\n      <td>437521</td>\n      <td>-0.543067</td>\n      <td>-0.101195</td>\n      <td>-0.682919</td>\n      <td>-0.847683</td>\n      <td>-1.193004</td>\n      <td>-0.180839</td>\n      <td>0.007399</td>\n      <td>0.981701</td>\n      <td>0.306855</td>\n      <td>...</td>\n      <td>0.246862</td>\n      <td>-0.211687</td>\n      <td>0.145969</td>\n      <td>0.353881</td>\n      <td>-0.005096</td>\n      <td>-0.121159</td>\n      <td>0.087376</td>\n      <td>-0.048388</td>\n      <td>-0.097330</td>\n      <td>-0.110976</td>\n    </tr>\n    <tr>\n      <th>343351</th>\n      <td>437522</td>\n      <td>-1.165832</td>\n      <td>0.001414</td>\n      <td>-1.006713</td>\n      <td>0.513116</td>\n      <td>-0.042087</td>\n      <td>0.022525</td>\n      <td>-0.396497</td>\n      <td>-0.187312</td>\n      <td>-0.149837</td>\n      <td>...</td>\n      <td>0.337600</td>\n      <td>0.051778</td>\n      <td>0.278678</td>\n      <td>0.263065</td>\n      <td>-0.176482</td>\n      <td>-0.130657</td>\n      <td>0.127289</td>\n      <td>0.058634</td>\n      <td>0.216327</td>\n      <td>0.120358</td>\n    </tr>\n    <tr>\n      <th>343352</th>\n      <td>437524</td>\n      <td>-0.815103</td>\n      <td>0.064995</td>\n      <td>-0.662187</td>\n      <td>0.390056</td>\n      <td>-0.769040</td>\n      <td>-0.307043</td>\n      <td>-0.368575</td>\n      <td>-0.290121</td>\n      <td>-0.145781</td>\n      <td>...</td>\n      <td>0.140298</td>\n      <td>0.131908</td>\n      <td>0.124283</td>\n      <td>0.416084</td>\n      <td>0.125908</td>\n      <td>-0.068154</td>\n      <td>0.118247</td>\n      <td>-0.269563</td>\n      <td>0.098107</td>\n      <td>0.209056</td>\n    </tr>\n    <tr>\n      <th>343353</th>\n      <td>437525</td>\n      <td>-0.895925</td>\n      <td>0.187234</td>\n      <td>-0.374537</td>\n      <td>-0.122463</td>\n      <td>-0.627492</td>\n      <td>0.159512</td>\n      <td>-0.127963</td>\n      <td>-0.899920</td>\n      <td>0.176098</td>\n      <td>...</td>\n      <td>0.484242</td>\n      <td>-0.059477</td>\n      <td>0.218753</td>\n      <td>-0.158238</td>\n      <td>0.333149</td>\n      <td>0.021649</td>\n      <td>0.609135</td>\n      <td>-0.222898</td>\n      <td>-0.264985</td>\n      <td>0.041753</td>\n    </tr>\n    <tr>\n      <th>343354</th>\n      <td>437527</td>\n      <td>-1.300011</td>\n      <td>-0.412293</td>\n      <td>-0.882107</td>\n      <td>0.314661</td>\n      <td>-0.124805</td>\n      <td>-0.198742</td>\n      <td>-0.622448</td>\n      <td>-0.564376</td>\n      <td>-0.123781</td>\n      <td>...</td>\n      <td>0.138823</td>\n      <td>0.219384</td>\n      <td>0.209639</td>\n      <td>0.492684</td>\n      <td>-0.173846</td>\n      <td>-0.131222</td>\n      <td>0.639515</td>\n      <td>-0.126282</td>\n      <td>0.366862</td>\n      <td>0.455068</td>\n    </tr>\n  </tbody>\n</table>\n<p>343355 rows × 401 columns</p>\n</div>"
     },
     "metadata": {},
     "execution_count": 29
    }
   ],
   "source": [
    "mean_embeddings"
   ]
  },
  {
   "cell_type": "code",
   "execution_count": 33,
   "metadata": {},
   "outputs": [],
   "source": [
    "train_test = train_test.merge(mean_embeddings, how='left', on='id')"
   ]
  },
  {
   "cell_type": "code",
   "execution_count": 34,
   "metadata": {},
   "outputs": [
    {
     "output_type": "stream",
     "name": "stdout",
     "text": [
      "<class 'pandas.core.frame.DataFrame'>\nInt64Index: 437529 entries, 0 to 437528\nColumns: 470 entries, id to position_clean_99\ndtypes: bool(17), category(14), datetime64[ns](1), float32(400), float64(15), int64(23)\nmemory usage: 827.0 MB\n"
     ]
    }
   ],
   "source": [
    "train_test.info()"
   ]
  },
  {
   "cell_type": "code",
   "execution_count": 35,
   "metadata": {},
   "outputs": [],
   "source": [
    "train = train_test[train_test['id'].isin(train_ids)].reset_index(drop=True)\n",
    "test = train_test[train_test['id'].isin(test_ids)].reset_index(drop=True)\n",
    "test = test.drop('salary', axis=1)"
   ]
  },
  {
   "cell_type": "code",
   "execution_count": 36,
   "metadata": {},
   "outputs": [],
   "source": [
    "train.to_pickle('../data/preprocessed/train_final.pkl')\n",
    "test.to_pickle('../data/preprocessed/test_final.pkl')"
   ]
  },
  {
   "cell_type": "code",
   "execution_count": null,
   "metadata": {},
   "outputs": [],
   "source": []
  }
 ]
}