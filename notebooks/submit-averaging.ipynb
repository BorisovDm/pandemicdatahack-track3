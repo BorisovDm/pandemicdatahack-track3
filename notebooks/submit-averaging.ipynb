{
 "metadata": {
  "language_info": {
   "codemirror_mode": {
    "name": "ipython",
    "version": 3
   },
   "file_extension": ".py",
   "mimetype": "text/x-python",
   "name": "python",
   "nbconvert_exporter": "python",
   "pygments_lexer": "ipython3",
   "version": "3.7.9-final"
  },
  "orig_nbformat": 2,
  "kernelspec": {
   "name": "python3",
   "display_name": "Python 3",
   "language": "python"
  }
 },
 "nbformat": 4,
 "nbformat_minor": 2,
 "cells": [
  {
   "cell_type": "code",
   "execution_count": 1,
   "metadata": {},
   "outputs": [],
   "source": [
    "import numpy as np\n",
    "import pandas as pd"
   ]
  },
  {
   "cell_type": "code",
   "execution_count": 11,
   "metadata": {},
   "outputs": [],
   "source": [
    "sub1 = pd.read_csv('../submits/near_ones/catboost-optuna-final.csv')\n",
    "sub2 = pd.read_csv('../submits/near_ones/rf_covid_prices.csv')\n",
    "sub3 = pd.read_csv('../submits/near_ones/catboost-2levels-5fold-covid-prices.csv')\n",
    "sub4 = pd.read_csv('../submits/near_ones/catboost-2levels-5fold-ext-emplo-3k.csv')\n",
    "sub5 = pd.read_csv('../submits/near_ones/catboost-2levels-5fold-ext-emplo-edu-2k.csv')\n",
    "sub6 = pd.read_csv('../submits/near_ones/catboost-2levels-5fold-cleaned_datas.csv')\n",
    "sub7 = pd.read_csv('../submits/near_ones/merged_linreg_rf_xgb.csv')\n",
    "sub8 = pd.read_csv('../submits/near_ones/rf_5_fold_with_0_target.csv')"
   ]
  },
  {
   "cell_type": "code",
   "execution_count": 12,
   "metadata": {},
   "outputs": [],
   "source": [
    "final_submit = sub1.copy()"
   ]
  },
  {
   "cell_type": "code",
   "execution_count": 18,
   "metadata": {},
   "outputs": [],
   "source": [
    "final_submit['salary'] = (sub1['salary'] * sub2['salary'] * sub3['salary'] * sub4['salary'] * sub5['salary'] * sub6['salary'] * sub7['salary'] * sub8['salary']) ** (1/8)"
   ]
  },
  {
   "cell_type": "code",
   "execution_count": 20,
   "metadata": {},
   "outputs": [],
   "source": [
    "final_submit.to_csv('../submits/average_2.csv', index=False)"
   ]
  },
  {
   "cell_type": "code",
   "execution_count": 19,
   "metadata": {},
   "outputs": [
    {
     "output_type": "execute_result",
     "data": {
      "text/plain": [
       "                  id         salary\n",
       "count  131259.000000  131259.000000\n",
       "mean   218912.071987   33902.453662\n",
       "std    126301.758751   15629.976481\n",
       "min         2.000000      22.700773\n",
       "25%    109499.000000   22978.973894\n",
       "50%    218986.000000   29441.810805\n",
       "75%    328305.500000   40269.068219\n",
       "max    437528.000000  138059.946156"
      ],
      "text/html": "<div>\n<style scoped>\n    .dataframe tbody tr th:only-of-type {\n        vertical-align: middle;\n    }\n\n    .dataframe tbody tr th {\n        vertical-align: top;\n    }\n\n    .dataframe thead th {\n        text-align: right;\n    }\n</style>\n<table border=\"1\" class=\"dataframe\">\n  <thead>\n    <tr style=\"text-align: right;\">\n      <th></th>\n      <th>id</th>\n      <th>salary</th>\n    </tr>\n  </thead>\n  <tbody>\n    <tr>\n      <th>count</th>\n      <td>131259.000000</td>\n      <td>131259.000000</td>\n    </tr>\n    <tr>\n      <th>mean</th>\n      <td>218912.071987</td>\n      <td>33902.453662</td>\n    </tr>\n    <tr>\n      <th>std</th>\n      <td>126301.758751</td>\n      <td>15629.976481</td>\n    </tr>\n    <tr>\n      <th>min</th>\n      <td>2.000000</td>\n      <td>22.700773</td>\n    </tr>\n    <tr>\n      <th>25%</th>\n      <td>109499.000000</td>\n      <td>22978.973894</td>\n    </tr>\n    <tr>\n      <th>50%</th>\n      <td>218986.000000</td>\n      <td>29441.810805</td>\n    </tr>\n    <tr>\n      <th>75%</th>\n      <td>328305.500000</td>\n      <td>40269.068219</td>\n    </tr>\n    <tr>\n      <th>max</th>\n      <td>437528.000000</td>\n      <td>138059.946156</td>\n    </tr>\n  </tbody>\n</table>\n</div>"
     },
     "metadata": {},
     "execution_count": 19
    }
   ],
   "source": [
    "final_submit.describe()"
   ]
  },
  {
   "cell_type": "code",
   "execution_count": null,
   "metadata": {},
   "outputs": [],
   "source": []
  }
 ]
}