{
 "cells": [
  {
   "cell_type": "code",
   "execution_count": 1,
   "metadata": {},
   "outputs": [],
   "source": [
    "import random\n",
    "import numpy as np\n",
    "import pandas as pd\n",
    "# from catboost import CatBoostRegressor\n",
    "from sklearn.model_selection import StratifiedKFold\n",
    "from pathlib import Path"
   ]
  },
  {
   "cell_type": "code",
   "execution_count": 2,
   "metadata": {},
   "outputs": [],
   "source": [
    "SEED = 14300631\n",
    "N_FOLDS = 5"
   ]
  },
  {
   "cell_type": "code",
   "execution_count": 3,
   "metadata": {},
   "outputs": [],
   "source": [
    "random.seed(SEED)\n",
    "np.random.seed(SEED)"
   ]
  },
  {
   "cell_type": "code",
   "execution_count": 4,
   "metadata": {},
   "outputs": [
    {
     "name": "stderr",
     "output_type": "stream",
     "text": [
      "/Users/borisovdm/work_env/lib/python3.8/site-packages/IPython/core/interactiveshell.py:3146: DtypeWarning: Columns (18) have mixed types.Specify dtype option on import or set low_memory=False.\n",
      "  has_raised = await self.run_ast_nodes(code_ast.body, cell_name,\n"
     ]
    }
   ],
   "source": [
    "raw_data_dir = Path('../data/raw')\n",
    "raw_train = pd.read_csv(raw_data_dir / 'train.csv', sep=';', parse_dates=['creation_date', 'modification_date', 'publish_date'])\n",
    "raw_test = pd.read_csv(raw_data_dir / 'test.csv', sep=';', parse_dates=['creation_date', 'modification_date', 'publish_date'])\n",
    "raw_education = pd.read_csv(raw_data_dir / 'education.csv', sep=';')\n",
    "raw_employements = pd.read_csv(raw_data_dir / 'employements.csv', sep=';')\n",
    "raw_worldskills = pd.read_csv(raw_data_dir / 'worldskills.csv', sep=';')"
   ]
  },
  {
   "cell_type": "code",
   "execution_count": 5,
   "metadata": {},
   "outputs": [],
   "source": [
    "def filter_experience(x):\n",
    "    if np.isnan(x) or x > 50:\n",
    "        return np.nan\n",
    "    return x\n",
    "\n",
    "def filter_age(x):\n",
    "    if np.isnan(x) or x < 14 or x > 83:\n",
    "        return np.nan\n",
    "    return x"
   ]
  },
  {
   "cell_type": "code",
   "execution_count": 6,
   "metadata": {},
   "outputs": [],
   "source": [
    "def preprocess_train_test(df):\n",
    "    df['publish_year'] = df['publish_date'].dt.year\n",
    "\n",
    "    all_drive_licences = ['A', 'B', 'C', 'D', 'E']\n",
    "    for licence_type in all_drive_licences:\n",
    "        df[f'drive_licences_{licence_type}'] = df['drive_licences'].fillna('').apply(lambda x: int(licence_type in x))\n",
    "    \n",
    "\n",
    "    all_schedules = [\n",
    "        ('vahta', 'Вахтовый метод'),\n",
    "        ('gibkiy', 'Гибкий график'),\n",
    "        ('nenorm', 'Ненормированный рабочий день'),\n",
    "        ('nepoln', 'Неполный рабочий день'),\n",
    "        ('poln', 'Полный рабочий день'),\n",
    "        ('smena', 'Сменный график'),\n",
    "    ]\n",
    "\n",
    "    for schedule_label, schedule_type in all_schedules:\n",
    "        df[f'schedule_{schedule_label}'] = df['schedule'].apply(lambda x: int(schedule_type in x))\n",
    "    \n",
    "    df['experience'] = df['experience'].apply(filter_experience)\n",
    "    df['age'] = df['age'].apply(filter_age)\n",
    "    df = df.drop([\n",
    "        'locality', 'position', 'locality_name','drive_licences',\n",
    "        'schedule', 'is_worldskills_participant', 'has_qualifications',\n",
    "        'creation_date', 'modification_date','publish_date',\n",
    "    ], axis=1)\n",
    "\n",
    "    if 'salary' in df.columns:\n",
    "        df = df[df['salary'] > 0]\n",
    "        df['salary'] = np.log(df['salary'] + 1)\n",
    "    \n",
    "    df['salary_desired'] = np.log(df['salary_desired'] + 1)\n",
    "    \n",
    "    df['region'] = df['region'].astype('category')\n",
    "    df['education_type'] = df['education_type'].astype('category')\n",
    "    df['industry'] = df['industry'].astype('category')\n",
    "    df['citizenship'] = df['citizenship'].astype('category')\n",
    "    df['employement_type'] = df['employement_type'].astype('category')\n",
    "    df['gender'] = df['gender'].astype('category')\n",
    "    df['relocation_ready'] = df['relocation_ready'].astype('boolean')\n",
    "    df['travel_ready'] = df['travel_ready'].astype('boolean')\n",
    "    df['retraining_ready'] = df['retraining_ready'].astype('boolean')\n",
    "    return df"
   ]
  },
  {
   "cell_type": "code",
   "execution_count": 7,
   "metadata": {},
   "outputs": [],
   "source": [
    "def preprocess_education(df):\n",
    "    df['graduation_year'] = df['graduation_year'].astype('category')\n",
    "    df['institution'] = df['institution'].str.lower().str.replace('\\\"', '').astype('category')\n",
    "    df = df.drop('description', axis=1)\n",
    "    return df"
   ]
  },
  {
   "cell_type": "code",
   "execution_count": 8,
   "metadata": {},
   "outputs": [],
   "source": [
    "def preprocess_employements(df):\n",
    "    df['employer'] = df['employer'].str.lower().str.replace('\\\"', '').astype('category')\n",
    "    df['position'] = df['position'].str.lower().str.replace('\\\"', '').astype('category')\n",
    "    df['start_date'] = pd.to_datetime(df['start_date'], errors='coerce')\n",
    "    df['finish_date'] = pd.to_datetime(df['finish_date'], errors='coerce')\n",
    "    df['work_duration'] = df['finish_date'] - df['start_date']\n",
    "    df['work_duration'] = df['work_duration'].dt.days\n",
    "    df = df.drop(['achievements', 'responsibilities', 'start_date', 'finish_date'], axis=1)\n",
    "    return df"
   ]
  },
  {
   "cell_type": "code",
   "execution_count": 9,
   "metadata": {},
   "outputs": [],
   "source": [
    "def preprocess_worldskills(df):\n",
    "    df['status'] = df['status'].astype('category')\n",
    "    df['int_name'] = df['int_name'].astype('category')\n",
    "    df['ru_name'] = df['ru_name'].astype('category')\n",
    "    df['code'] = df['code'].astype('category')\n",
    "    df['is_international'] = df['is_international'].astype('boolean')\n",
    "    return df"
   ]
  },
  {
   "cell_type": "code",
   "execution_count": 10,
   "metadata": {},
   "outputs": [
    {
     "name": "stderr",
     "output_type": "stream",
     "text": [
      "/Users/borisovdm/work_env/lib/python3.8/site-packages/pandas/core/series.py:726: RuntimeWarning: invalid value encountered in log\n",
      "  result = getattr(ufunc, method)(*inputs, **kwargs)\n"
     ]
    }
   ],
   "source": [
    "train = preprocess_train_test(raw_train)\n",
    "test = preprocess_train_test(raw_test)\n",
    "education = preprocess_education(raw_education)\n",
    "employements = preprocess_employements(raw_employements)\n",
    "worldskills = preprocess_worldskills(raw_worldskills)"
   ]
  },
  {
   "cell_type": "code",
   "execution_count": 11,
   "metadata": {},
   "outputs": [],
   "source": [
    "full_train = pd.merge(train, education, how='left', on='id')\n",
    "full_train = pd.merge(full_train, employements, how='left', on='id')\n",
    "full_train = pd.merge(full_train, worldskills, how='left', on='id')"
   ]
  },
  {
   "cell_type": "code",
   "execution_count": 12,
   "metadata": {},
   "outputs": [],
   "source": [
    "full_test = pd.merge(test, education, how='left', on='id')\n",
    "full_test = pd.merge(full_test, employements, how='left', on='id')\n",
    "full_test = pd.merge(full_test, worldskills, how='left', on='id')"
   ]
  },
  {
   "cell_type": "code",
   "execution_count": 13,
   "metadata": {},
   "outputs": [],
   "source": [
    "# NEW !!!\n",
    "new_drop_columns = ['status', 'code', 'is_international', 'int_name', 'ru_name']\n",
    "full_train = full_train.drop(new_drop_columns, axis=1)\n",
    "full_test = full_test.drop(new_drop_columns, axis=1)"
   ]
  },
  {
   "cell_type": "code",
   "execution_count": 14,
   "metadata": {},
   "outputs": [],
   "source": [
    "X_test = full_test.drop(['id'], axis=1)"
   ]
  },
  {
   "cell_type": "code",
   "execution_count": 15,
   "metadata": {},
   "outputs": [],
   "source": [
    "skf = StratifiedKFold(n_splits=N_FOLDS, shuffle=True, random_state=SEED)"
   ]
  },
  {
   "cell_type": "code",
   "execution_count": null,
   "metadata": {},
   "outputs": [],
   "source": []
  },
  {
   "cell_type": "code",
   "execution_count": 16,
   "metadata": {},
   "outputs": [
    {
     "data": {
      "text/html": [
       "<div>\n",
       "<style scoped>\n",
       "    .dataframe tbody tr th:only-of-type {\n",
       "        vertical-align: middle;\n",
       "    }\n",
       "\n",
       "    .dataframe tbody tr th {\n",
       "        vertical-align: top;\n",
       "    }\n",
       "\n",
       "    .dataframe thead th {\n",
       "        text-align: right;\n",
       "    }\n",
       "</style>\n",
       "<table border=\"1\" class=\"dataframe\">\n",
       "  <thead>\n",
       "    <tr style=\"text-align: right;\">\n",
       "      <th></th>\n",
       "      <th>region</th>\n",
       "      <th>industry</th>\n",
       "      <th>education_type</th>\n",
       "      <th>citizenship</th>\n",
       "      <th>employement_type</th>\n",
       "      <th>age</th>\n",
       "      <th>gender</th>\n",
       "      <th>experience</th>\n",
       "      <th>salary_desired</th>\n",
       "      <th>relocation_ready</th>\n",
       "      <th>...</th>\n",
       "      <th>schedule_gibkiy</th>\n",
       "      <th>schedule_nenorm</th>\n",
       "      <th>schedule_nepoln</th>\n",
       "      <th>schedule_poln</th>\n",
       "      <th>schedule_smena</th>\n",
       "      <th>graduation_year</th>\n",
       "      <th>institution</th>\n",
       "      <th>position</th>\n",
       "      <th>employer</th>\n",
       "      <th>work_duration</th>\n",
       "    </tr>\n",
       "  </thead>\n",
       "  <tbody>\n",
       "    <tr>\n",
       "      <th>0</th>\n",
       "      <td>Алтайский край</td>\n",
       "      <td>Строительство, ремонт, стройматериалы, недвижи...</td>\n",
       "      <td>Высшее</td>\n",
       "      <td>Российская Федерация</td>\n",
       "      <td>Полная занятость</td>\n",
       "      <td>27.0</td>\n",
       "      <td>Женский</td>\n",
       "      <td>0.0</td>\n",
       "      <td>9.238831</td>\n",
       "      <td>False</td>\n",
       "      <td>...</td>\n",
       "      <td>0</td>\n",
       "      <td>0</td>\n",
       "      <td>0</td>\n",
       "      <td>1</td>\n",
       "      <td>0</td>\n",
       "      <td>2014.0</td>\n",
       "      <td>алтайский государственный технический универси...</td>\n",
       "      <td>стажер</td>\n",
       "      <td>комитет по управлению муниципальной собственно...</td>\n",
       "      <td>30.0</td>\n",
       "    </tr>\n",
       "    <tr>\n",
       "      <th>1</th>\n",
       "      <td>Свердловская область</td>\n",
       "      <td>Строительство, ремонт, стройматериалы, недвижи...</td>\n",
       "      <td>NaN</td>\n",
       "      <td>Российская Федерация</td>\n",
       "      <td>Полная занятость</td>\n",
       "      <td>NaN</td>\n",
       "      <td>NaN</td>\n",
       "      <td>0.0</td>\n",
       "      <td>10.944647</td>\n",
       "      <td>&lt;NA&gt;</td>\n",
       "      <td>...</td>\n",
       "      <td>0</td>\n",
       "      <td>0</td>\n",
       "      <td>0</td>\n",
       "      <td>1</td>\n",
       "      <td>0</td>\n",
       "      <td>NaN</td>\n",
       "      <td>NaN</td>\n",
       "      <td>NaN</td>\n",
       "      <td>NaN</td>\n",
       "      <td>NaN</td>\n",
       "    </tr>\n",
       "    <tr>\n",
       "      <th>2</th>\n",
       "      <td>Ульяновская область</td>\n",
       "      <td>Транспорт, автобизнес, логистика, склад, ВЭД</td>\n",
       "      <td>Высшее</td>\n",
       "      <td>Российская Федерация</td>\n",
       "      <td>Полная занятость</td>\n",
       "      <td>51.0</td>\n",
       "      <td>Мужской</td>\n",
       "      <td>17.0</td>\n",
       "      <td>10.819798</td>\n",
       "      <td>False</td>\n",
       "      <td>...</td>\n",
       "      <td>0</td>\n",
       "      <td>0</td>\n",
       "      <td>0</td>\n",
       "      <td>1</td>\n",
       "      <td>0</td>\n",
       "      <td>2003.0</td>\n",
       "      <td>сибирский государственный университет путей со...</td>\n",
       "      <td>технический инспектор труда</td>\n",
       "      <td>дорпрофжел на красноярской железной железной д...</td>\n",
       "      <td>6270.0</td>\n",
       "    </tr>\n",
       "  </tbody>\n",
       "</table>\n",
       "<p>3 rows × 30 columns</p>\n",
       "</div>"
      ],
      "text/plain": [
       "                 region                                           industry  \\\n",
       "0        Алтайский край  Строительство, ремонт, стройматериалы, недвижи...   \n",
       "1  Свердловская область  Строительство, ремонт, стройматериалы, недвижи...   \n",
       "2   Ульяновская область       Транспорт, автобизнес, логистика, склад, ВЭД   \n",
       "\n",
       "  education_type           citizenship  employement_type   age   gender  \\\n",
       "0         Высшее  Российская Федерация  Полная занятость  27.0  Женский   \n",
       "1            NaN  Российская Федерация  Полная занятость   NaN      NaN   \n",
       "2         Высшее  Российская Федерация  Полная занятость  51.0  Мужской   \n",
       "\n",
       "   experience  salary_desired  relocation_ready  ...  schedule_gibkiy  \\\n",
       "0         0.0        9.238831             False  ...                0   \n",
       "1         0.0       10.944647              <NA>  ...                0   \n",
       "2        17.0       10.819798             False  ...                0   \n",
       "\n",
       "   schedule_nenorm  schedule_nepoln  schedule_poln  schedule_smena  \\\n",
       "0                0                0              1               0   \n",
       "1                0                0              1               0   \n",
       "2                0                0              1               0   \n",
       "\n",
       "   graduation_year                                        institution  \\\n",
       "0           2014.0  алтайский государственный технический универси...   \n",
       "1              NaN                                                NaN   \n",
       "2           2003.0  сибирский государственный университет путей со...   \n",
       "\n",
       "                      position  \\\n",
       "0                       стажер   \n",
       "1                          NaN   \n",
       "2  технический инспектор труда   \n",
       "\n",
       "                                            employer  work_duration  \n",
       "0  комитет по управлению муниципальной собственно...           30.0  \n",
       "1                                                NaN            NaN  \n",
       "2  дорпрофжел на красноярской железной железной д...         6270.0  \n",
       "\n",
       "[3 rows x 30 columns]"
      ]
     },
     "execution_count": 16,
     "metadata": {},
     "output_type": "execute_result"
    }
   ],
   "source": [
    "X_test.head(3)"
   ]
  },
  {
   "cell_type": "code",
   "execution_count": 17,
   "metadata": {},
   "outputs": [],
   "source": [
    "from category_encoders.cat_boost import CatBoostEncoder\n",
    "from sklearn.ensemble import RandomForestRegressor\n",
    "from sklearn.metrics import mean_squared_error"
   ]
  },
  {
   "cell_type": "code",
   "execution_count": 18,
   "metadata": {},
   "outputs": [],
   "source": [
    "cat_columns = full_test.select_dtypes(include=['category', 'boolean']).columns"
   ]
  },
  {
   "cell_type": "code",
   "execution_count": 19,
   "metadata": {},
   "outputs": [],
   "source": [
    "cat_encoder = CatBoostEncoder(\n",
    "    cols=cat_columns,\n",
    ")"
   ]
  },
  {
   "cell_type": "code",
   "execution_count": 20,
   "metadata": {},
   "outputs": [],
   "source": [
    "# full_test.info()"
   ]
  },
  {
   "cell_type": "code",
   "execution_count": 21,
   "metadata": {},
   "outputs": [],
   "source": [
    "from tqdm import tqdm"
   ]
  },
  {
   "cell_type": "code",
   "execution_count": 22,
   "metadata": {},
   "outputs": [
    {
     "name": "stderr",
     "output_type": "stream",
     "text": [
      "0it [00:00, ?it/s]/Users/borisovdm/work_env/lib/python3.8/site-packages/category_encoders/utils.py:21: FutureWarning: is_categorical is deprecated and will be removed in a future version.  Use is_categorical_dtype instead\n",
      "  elif pd.api.types.is_categorical(cols):\n"
     ]
    },
    {
     "name": "stdout",
     "output_type": "stream",
     "text": [
      "0\n",
      "0.1982935063133184\n"
     ]
    },
    {
     "name": "stderr",
     "output_type": "stream",
     "text": [
      "1it [03:25, 205.65s/it]/Users/borisovdm/work_env/lib/python3.8/site-packages/category_encoders/utils.py:21: FutureWarning: is_categorical is deprecated and will be removed in a future version.  Use is_categorical_dtype instead\n",
      "  elif pd.api.types.is_categorical(cols):\n"
     ]
    },
    {
     "name": "stdout",
     "output_type": "stream",
     "text": [
      "1\n",
      "0.1954240930398406\n"
     ]
    },
    {
     "name": "stderr",
     "output_type": "stream",
     "text": [
      "2it [06:55, 206.92s/it]/Users/borisovdm/work_env/lib/python3.8/site-packages/category_encoders/utils.py:21: FutureWarning: is_categorical is deprecated and will be removed in a future version.  Use is_categorical_dtype instead\n",
      "  elif pd.api.types.is_categorical(cols):\n"
     ]
    },
    {
     "name": "stdout",
     "output_type": "stream",
     "text": [
      "2\n",
      "0.19586554012490207\n"
     ]
    },
    {
     "name": "stderr",
     "output_type": "stream",
     "text": [
      "3it [10:47, 214.44s/it]"
     ]
    },
    {
     "name": "stdout",
     "output_type": "stream",
     "text": [
      "3\n"
     ]
    },
    {
     "name": "stderr",
     "output_type": "stream",
     "text": [
      "/Users/borisovdm/work_env/lib/python3.8/site-packages/category_encoders/utils.py:21: FutureWarning: is_categorical is deprecated and will be removed in a future version.  Use is_categorical_dtype instead\n",
      "  elif pd.api.types.is_categorical(cols):\n"
     ]
    },
    {
     "name": "stdout",
     "output_type": "stream",
     "text": [
      "0.1923767832697474\n"
     ]
    },
    {
     "name": "stderr",
     "output_type": "stream",
     "text": [
      "4it [15:09, 228.71s/it]"
     ]
    },
    {
     "name": "stdout",
     "output_type": "stream",
     "text": [
      "4\n"
     ]
    },
    {
     "name": "stderr",
     "output_type": "stream",
     "text": [
      "/Users/borisovdm/work_env/lib/python3.8/site-packages/category_encoders/utils.py:21: FutureWarning: is_categorical is deprecated and will be removed in a future version.  Use is_categorical_dtype instead\n",
      "  elif pd.api.types.is_categorical(cols):\n"
     ]
    },
    {
     "name": "stdout",
     "output_type": "stream",
     "text": [
      "0.1972556202386966\n"
     ]
    },
    {
     "name": "stderr",
     "output_type": "stream",
     "text": [
      "5it [19:48, 237.64s/it]\n"
     ]
    }
   ],
   "source": [
    "cv_metrics = []\n",
    "test_preds = []\n",
    "\n",
    "idx = 0\n",
    "for train_indexes, val_indexes in tqdm(skf.split(full_train, full_train['publish_year'])):\n",
    "    print(idx)\n",
    "    idx += 1\n",
    "\n",
    "    X_train = full_train.loc[train_indexes]\n",
    "    y_train = X_train['salary']\n",
    "    X_train = X_train.drop(['id', 'salary'], axis=1)\n",
    "    X_train = cat_encoder.fit_transform(X_train, y_train)\n",
    "    \n",
    "\n",
    "    X_val = full_train.loc[val_indexes]\n",
    "    y_val = X_val['salary']\n",
    "    X_val = X_val.drop(['id', 'salary'], axis=1)\n",
    "    X_val = cat_encoder.transform(X_val)\n",
    "    \n",
    "    X_test_temp = cat_encoder.transform(X_test)\n",
    "    \n",
    "    for col in X_train.columns:\n",
    "        mean_value = X_train[col].mean()\n",
    "        X_train[col] = X_train[col].fillna(mean_value)\n",
    "        X_val[col] = X_val[col].fillna(mean_value)\n",
    "        X_test_temp[col] = X_test_temp[col].fillna(mean_value)\n",
    "\n",
    "    model = RandomForestRegressor(random_state=SEED, n_jobs=-1)\n",
    "    model.fit(\n",
    "        X_train,\n",
    "        y_train,\n",
    "    )\n",
    "    \n",
    "    val_pred = model.predict(X_val)\n",
    "    val_score = mean_squared_error(y_val, val_pred)\n",
    "    cv_metrics.append(val_score)\n",
    "    print(val_score)\n",
    "\n",
    "    test_pred = model.predict(X_test_temp)\n",
    "    test_preds.append(np.exp(test_pred) - 1) "
   ]
  },
  {
   "cell_type": "code",
   "execution_count": 23,
   "metadata": {},
   "outputs": [
    {
     "data": {
      "text/plain": [
       "0.195843108597301"
      ]
     },
     "execution_count": 23,
     "metadata": {},
     "output_type": "execute_result"
    }
   ],
   "source": [
    "np.mean(cv_metrics)"
   ]
  },
  {
   "cell_type": "code",
   "execution_count": 24,
   "metadata": {},
   "outputs": [
    {
     "data": {
      "text/plain": [
       "5"
      ]
     },
     "execution_count": 24,
     "metadata": {},
     "output_type": "execute_result"
    }
   ],
   "source": [
    "len(test_preds)"
   ]
  },
  {
   "cell_type": "code",
   "execution_count": 28,
   "metadata": {},
   "outputs": [
    {
     "data": {
      "text/plain": [
       "((5, 131259),\n",
       " array([[25729.11133219, 73147.42017402, 35182.47072189, ...,\n",
       "         36987.46957955, 28134.88491159, 23329.50067665],\n",
       "        [24051.31258526, 73426.91007214, 43845.92892185, ...,\n",
       "         34110.21796704, 25732.16674226, 21351.58306573],\n",
       "        [22716.75342094, 71087.14607886, 31282.56140034, ...,\n",
       "         38816.06501107, 30572.47324197, 17821.42239838],\n",
       "        [21558.31695879, 73384.51201181, 33108.24751687, ...,\n",
       "         36606.36139153, 31526.82375601, 19307.64182055],\n",
       "        [26201.92016111, 65206.9611378 , 38149.26239302, ...,\n",
       "         33984.49239365, 25498.14197989, 22427.18986576]]))"
      ]
     },
     "execution_count": 28,
     "metadata": {},
     "output_type": "execute_result"
    }
   ],
   "source": [
    "np.array(test_preds).shape, np.array(test_preds)"
   ]
  },
  {
   "cell_type": "code",
   "execution_count": 30,
   "metadata": {},
   "outputs": [
    {
     "data": {
      "text/plain": [
       "array([24051.48289166, 71250.58989493, 36313.69419079, ...,\n",
       "       36100.92126857, 28292.89812634, 20847.46756541])"
      ]
     },
     "execution_count": 30,
     "metadata": {},
     "output_type": "execute_result"
    }
   ],
   "source": [
    "test_pred = np.array(test_preds).mean(axis=0)\n",
    "test_pred"
   ]
  },
  {
   "cell_type": "code",
   "execution_count": 34,
   "metadata": {},
   "outputs": [
    {
     "name": "stderr",
     "output_type": "stream",
     "text": [
      "<ipython-input-34-f98c98084a1c>:2: SettingWithCopyWarning: \n",
      "A value is trying to be set on a copy of a slice from a DataFrame.\n",
      "Try using .loc[row_indexer,col_indexer] = value instead\n",
      "\n",
      "See the caveats in the documentation: https://pandas.pydata.org/pandas-docs/stable/user_guide/indexing.html#returning-a-view-versus-a-copy\n",
      "  new_test['salary'] = test_pred\n"
     ]
    },
    {
     "data": {
      "text/html": [
       "<div>\n",
       "<style scoped>\n",
       "    .dataframe tbody tr th:only-of-type {\n",
       "        vertical-align: middle;\n",
       "    }\n",
       "\n",
       "    .dataframe tbody tr th {\n",
       "        vertical-align: top;\n",
       "    }\n",
       "\n",
       "    .dataframe thead th {\n",
       "        text-align: right;\n",
       "    }\n",
       "</style>\n",
       "<table border=\"1\" class=\"dataframe\">\n",
       "  <thead>\n",
       "    <tr style=\"text-align: right;\">\n",
       "      <th></th>\n",
       "      <th>id</th>\n",
       "      <th>salary</th>\n",
       "    </tr>\n",
       "  </thead>\n",
       "  <tbody>\n",
       "    <tr>\n",
       "      <th>0</th>\n",
       "      <td>2</td>\n",
       "      <td>24051.482892</td>\n",
       "    </tr>\n",
       "    <tr>\n",
       "      <th>1</th>\n",
       "      <td>6</td>\n",
       "      <td>71250.589895</td>\n",
       "    </tr>\n",
       "    <tr>\n",
       "      <th>2</th>\n",
       "      <td>7</td>\n",
       "      <td>36313.694191</td>\n",
       "    </tr>\n",
       "    <tr>\n",
       "      <th>3</th>\n",
       "      <td>11</td>\n",
       "      <td>26893.798079</td>\n",
       "    </tr>\n",
       "    <tr>\n",
       "      <th>4</th>\n",
       "      <td>16</td>\n",
       "      <td>46249.270337</td>\n",
       "    </tr>\n",
       "  </tbody>\n",
       "</table>\n",
       "</div>"
      ],
      "text/plain": [
       "   id        salary\n",
       "0   2  24051.482892\n",
       "1   6  71250.589895\n",
       "2   7  36313.694191\n",
       "3  11  26893.798079\n",
       "4  16  46249.270337"
      ]
     },
     "execution_count": 34,
     "metadata": {},
     "output_type": "execute_result"
    }
   ],
   "source": [
    "new_test = full_test[['id']]\n",
    "new_test['salary'] = test_pred\n",
    "new_test.head()"
   ]
  },
  {
   "cell_type": "code",
   "execution_count": 35,
   "metadata": {},
   "outputs": [],
   "source": [
    "new_test.to_csv('rf_5_fold.csv', index=False)"
   ]
  },
  {
   "cell_type": "markdown",
   "metadata": {},
   "source": [
    "LB: 1.01514"
   ]
  }
 ],
 "metadata": {
  "kernelspec": {
   "display_name": "Python 3",
   "language": "python",
   "name": "python3"
  },
  "language_info": {
   "codemirror_mode": {
    "name": "ipython",
    "version": 3
   },
   "file_extension": ".py",
   "mimetype": "text/x-python",
   "name": "python",
   "nbconvert_exporter": "python",
   "pygments_lexer": "ipython3",
   "version": "3.8.6"
  }
 },
 "nbformat": 4,
 "nbformat_minor": 4
}
