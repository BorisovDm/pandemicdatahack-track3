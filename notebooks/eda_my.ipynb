{
 "cells": [
  {
   "cell_type": "code",
   "execution_count": 1,
   "metadata": {},
   "outputs": [],
   "source": [
    "from pathlib import Path\n",
    "import pandas as pd\n",
    "pd.set_option('display.max_columns', 500)"
   ]
  },
  {
   "cell_type": "code",
   "execution_count": 2,
   "metadata": {},
   "outputs": [],
   "source": [
    "import numpy as np"
   ]
  },
  {
   "cell_type": "code",
   "execution_count": 3,
   "metadata": {},
   "outputs": [],
   "source": [
    "data_path = Path(\"../data/raw\")"
   ]
  },
  {
   "cell_type": "code",
   "execution_count": 26,
   "metadata": {},
   "outputs": [
    {
     "name": "stderr",
     "output_type": "stream",
     "text": [
      "/home/alexander/anaconda3/envs/pand/lib/python3.6/site-packages/IPython/core/interactiveshell.py:3072: DtypeWarning: Columns (18) have mixed types.Specify dtype option on import or set low_memory=False.\n",
      "  interactivity=interactivity, compiler=compiler, result=result)\n"
     ]
    }
   ],
   "source": [
    "train = pd.read_csv(data_path/\"train.csv\", sep=\";\")\n",
    "test = pd.read_csv(data_path/\"test.csv\", sep=\";\")\n",
    "edu = pd.read_csv(data_path/\"education.csv\", sep=\";\")\n",
    "empl = pd.read_csv(data_path/\"employements.csv\", sep=\";\")\n",
    "world = pd.read_csv(data_path/\"worldskills.csv\", sep=\";\")\n",
    "edu_mult = pd.read_csv(data_path/\"education_mult.csv\", sep=\";\")\n",
    "empl_mult = pd.read_csv(data_path/\"employements_mult.csv\", sep=\";\")\n",
    "world_mult = pd.read_csv(data_path/\"worldskills_mult.csv\", sep=\";\")"
   ]
  },
  {
   "cell_type": "markdown",
   "metadata": {},
   "source": [
    "## train date features"
   ]
  },
  {
   "cell_type": "code",
   "execution_count": 12,
   "metadata": {},
   "outputs": [],
   "source": [
    "train[\"creation_date\"] = pd.to_datetime(train[\"creation_date\"])"
   ]
  },
  {
   "cell_type": "code",
   "execution_count": 16,
   "metadata": {},
   "outputs": [
    {
     "data": {
      "text/plain": [
       "0          5.0\n",
       "1         10.0\n",
       "2          4.0\n",
       "3          9.0\n",
       "4          4.0\n",
       "          ... \n",
       "306265     5.0\n",
       "306266     4.0\n",
       "306267    11.0\n",
       "306268     6.0\n",
       "306269     4.0\n",
       "Name: creation_date, Length: 306270, dtype: float64"
      ]
     },
     "execution_count": 16,
     "metadata": {},
     "output_type": "execute_result"
    }
   ],
   "source": [
    "train[\"creation_date\"].dt.month"
   ]
  },
  {
   "cell_type": "code",
   "execution_count": 17,
   "metadata": {},
   "outputs": [],
   "source": [
    "new_time_features = pd.DataFrame()"
   ]
  },
  {
   "cell_type": "code",
   "execution_count": 18,
   "metadata": {},
   "outputs": [],
   "source": []
  },
  {
   "cell_type": "code",
   "execution_count": null,
   "metadata": {},
   "outputs": [],
   "source": [
    "for col in date_cols:\n",
    "    new_time_features[f\"col_day\"] = train[col].dt.day\n",
    "    new_time_features[f\"col_month\"] = train[col].dt.month\n",
    "    new_time_features[f\"col_year\"] = train[col].dt.year"
   ]
  },
  {
   "cell_type": "code",
   "execution_count": 25,
   "metadata": {},
   "outputs": [
    {
     "data": {
      "text/plain": [
       "0           1.0\n",
       "1           6.0\n",
       "2         285.0\n",
       "3           1.0\n",
       "4         142.0\n",
       "          ...  \n",
       "306265      3.0\n",
       "306266      3.0\n",
       "306267    906.0\n",
       "306268      1.0\n",
       "306269      9.0\n",
       "Length: 306270, dtype: float64"
      ]
     },
     "execution_count": 25,
     "metadata": {},
     "output_type": "execute_result"
    }
   ],
   "source": [
    "((pd.to_datetime(train[\"creation_date\"]) - pd.to_datetime(train[\"modification_date\"])).dt.days).abs()"
   ]
  },
  {
   "cell_type": "code",
   "execution_count": 35,
   "metadata": {},
   "outputs": [],
   "source": [
    "def date_preprocess(train):\n",
    "    train = train.copy()\n",
    "    date_cols = [\"creation_date\", \"modification_date\", \"publish_date\"]\n",
    "    for col in date_cols:\n",
    "        train[col] = pd.to_datetime(train[col], format=\"%Y-%m-%d\")\n",
    "    new_time_features = pd.DataFrame()\n",
    "    for col in date_cols:\n",
    "        new_time_features[f\"{col}_day\"] = train[col].dt.day\n",
    "        new_time_features[f\"{col}_month\"] = train[col].dt.month\n",
    "        new_time_features[f\"{col}_year\"] = train[col].dt.year\n",
    "        \n",
    "    for i in range(len(date_cols)):\n",
    "        for j in range(i, len(date_cols)):\n",
    "            col1 = date_cols[i]\n",
    "            col2 = date_cols[j]\n",
    "            new_time_features[f\"{col1}_minus_{col2}\"] = (train[col1] - train[col2]).dt.days.abs()\n",
    "    return new_time_features"
   ]
  },
  {
   "cell_type": "code",
   "execution_count": 36,
   "metadata": {},
   "outputs": [],
   "source": [
    "res = date_preprocess(train)"
   ]
  },
  {
   "cell_type": "code",
   "execution_count": 37,
   "metadata": {},
   "outputs": [
    {
     "data": {
      "text/html": [
       "<div>\n",
       "<style scoped>\n",
       "    .dataframe tbody tr th:only-of-type {\n",
       "        vertical-align: middle;\n",
       "    }\n",
       "\n",
       "    .dataframe tbody tr th {\n",
       "        vertical-align: top;\n",
       "    }\n",
       "\n",
       "    .dataframe thead th {\n",
       "        text-align: right;\n",
       "    }\n",
       "</style>\n",
       "<table border=\"1\" class=\"dataframe\">\n",
       "  <thead>\n",
       "    <tr style=\"text-align: right;\">\n",
       "      <th></th>\n",
       "      <th>creation_date_day</th>\n",
       "      <th>creation_date_month</th>\n",
       "      <th>creation_date_year</th>\n",
       "      <th>modification_date_day</th>\n",
       "      <th>modification_date_month</th>\n",
       "      <th>modification_date_year</th>\n",
       "      <th>publish_date_day</th>\n",
       "      <th>publish_date_month</th>\n",
       "      <th>publish_date_year</th>\n",
       "      <th>creation_date_minus_creation_date</th>\n",
       "      <th>creation_date_minus_modification_date</th>\n",
       "      <th>creation_date_minus_publish_date</th>\n",
       "      <th>modification_date_minus_modification_date</th>\n",
       "      <th>modification_date_minus_publish_date</th>\n",
       "      <th>publish_date_minus_publish_date</th>\n",
       "    </tr>\n",
       "  </thead>\n",
       "  <tbody>\n",
       "    <tr>\n",
       "      <th>0</th>\n",
       "      <td>7.0</td>\n",
       "      <td>5.0</td>\n",
       "      <td>2020.0</td>\n",
       "      <td>8.0</td>\n",
       "      <td>5.0</td>\n",
       "      <td>2020.0</td>\n",
       "      <td>7</td>\n",
       "      <td>5</td>\n",
       "      <td>2020</td>\n",
       "      <td>0.0</td>\n",
       "      <td>1.0</td>\n",
       "      <td>0.0</td>\n",
       "      <td>0.0</td>\n",
       "      <td>1.0</td>\n",
       "      <td>0</td>\n",
       "    </tr>\n",
       "    <tr>\n",
       "      <th>1</th>\n",
       "      <td>21.0</td>\n",
       "      <td>10.0</td>\n",
       "      <td>2020.0</td>\n",
       "      <td>27.0</td>\n",
       "      <td>10.0</td>\n",
       "      <td>2020.0</td>\n",
       "      <td>27</td>\n",
       "      <td>10</td>\n",
       "      <td>2020</td>\n",
       "      <td>0.0</td>\n",
       "      <td>6.0</td>\n",
       "      <td>6.0</td>\n",
       "      <td>0.0</td>\n",
       "      <td>0.0</td>\n",
       "      <td>0</td>\n",
       "    </tr>\n",
       "    <tr>\n",
       "      <th>2</th>\n",
       "      <td>25.0</td>\n",
       "      <td>4.0</td>\n",
       "      <td>2019.0</td>\n",
       "      <td>4.0</td>\n",
       "      <td>2.0</td>\n",
       "      <td>2020.0</td>\n",
       "      <td>4</td>\n",
       "      <td>2</td>\n",
       "      <td>2020</td>\n",
       "      <td>0.0</td>\n",
       "      <td>285.0</td>\n",
       "      <td>285.0</td>\n",
       "      <td>0.0</td>\n",
       "      <td>0.0</td>\n",
       "      <td>0</td>\n",
       "    </tr>\n",
       "    <tr>\n",
       "      <th>3</th>\n",
       "      <td>19.0</td>\n",
       "      <td>9.0</td>\n",
       "      <td>2020.0</td>\n",
       "      <td>20.0</td>\n",
       "      <td>9.0</td>\n",
       "      <td>2020.0</td>\n",
       "      <td>19</td>\n",
       "      <td>9</td>\n",
       "      <td>2020</td>\n",
       "      <td>0.0</td>\n",
       "      <td>1.0</td>\n",
       "      <td>0.0</td>\n",
       "      <td>0.0</td>\n",
       "      <td>1.0</td>\n",
       "      <td>0</td>\n",
       "    </tr>\n",
       "    <tr>\n",
       "      <th>4</th>\n",
       "      <td>20.0</td>\n",
       "      <td>4.0</td>\n",
       "      <td>2020.0</td>\n",
       "      <td>9.0</td>\n",
       "      <td>9.0</td>\n",
       "      <td>2020.0</td>\n",
       "      <td>21</td>\n",
       "      <td>4</td>\n",
       "      <td>2020</td>\n",
       "      <td>0.0</td>\n",
       "      <td>142.0</td>\n",
       "      <td>1.0</td>\n",
       "      <td>0.0</td>\n",
       "      <td>141.0</td>\n",
       "      <td>0</td>\n",
       "    </tr>\n",
       "  </tbody>\n",
       "</table>\n",
       "</div>"
      ],
      "text/plain": [
       "   creation_date_day  creation_date_month  creation_date_year  \\\n",
       "0                7.0                  5.0              2020.0   \n",
       "1               21.0                 10.0              2020.0   \n",
       "2               25.0                  4.0              2019.0   \n",
       "3               19.0                  9.0              2020.0   \n",
       "4               20.0                  4.0              2020.0   \n",
       "\n",
       "   modification_date_day  modification_date_month  modification_date_year  \\\n",
       "0                    8.0                      5.0                  2020.0   \n",
       "1                   27.0                     10.0                  2020.0   \n",
       "2                    4.0                      2.0                  2020.0   \n",
       "3                   20.0                      9.0                  2020.0   \n",
       "4                    9.0                      9.0                  2020.0   \n",
       "\n",
       "   publish_date_day  publish_date_month  publish_date_year  \\\n",
       "0                 7                   5               2020   \n",
       "1                27                  10               2020   \n",
       "2                 4                   2               2020   \n",
       "3                19                   9               2020   \n",
       "4                21                   4               2020   \n",
       "\n",
       "   creation_date_minus_creation_date  creation_date_minus_modification_date  \\\n",
       "0                                0.0                                    1.0   \n",
       "1                                0.0                                    6.0   \n",
       "2                                0.0                                  285.0   \n",
       "3                                0.0                                    1.0   \n",
       "4                                0.0                                  142.0   \n",
       "\n",
       "   creation_date_minus_publish_date  \\\n",
       "0                               0.0   \n",
       "1                               6.0   \n",
       "2                             285.0   \n",
       "3                               0.0   \n",
       "4                               1.0   \n",
       "\n",
       "   modification_date_minus_modification_date  \\\n",
       "0                                        0.0   \n",
       "1                                        0.0   \n",
       "2                                        0.0   \n",
       "3                                        0.0   \n",
       "4                                        0.0   \n",
       "\n",
       "   modification_date_minus_publish_date  publish_date_minus_publish_date  \n",
       "0                                   1.0                                0  \n",
       "1                                   0.0                                0  \n",
       "2                                   0.0                                0  \n",
       "3                                   1.0                                0  \n",
       "4                                 141.0                                0  "
      ]
     },
     "execution_count": 37,
     "metadata": {},
     "output_type": "execute_result"
    }
   ],
   "source": [
    "res.head()"
   ]
  },
  {
   "cell_type": "code",
   "execution_count": 38,
   "metadata": {},
   "outputs": [
    {
     "name": "stdout",
     "output_type": "stream",
     "text": [
      "<class 'pandas.core.frame.DataFrame'>\n",
      "RangeIndex: 306270 entries, 0 to 306269\n",
      "Data columns (total 15 columns):\n",
      " #   Column                                     Non-Null Count   Dtype  \n",
      "---  ------                                     --------------   -----  \n",
      " 0   creation_date_day                          306263 non-null  float64\n",
      " 1   creation_date_month                        306263 non-null  float64\n",
      " 2   creation_date_year                         306263 non-null  float64\n",
      " 3   modification_date_day                      306263 non-null  float64\n",
      " 4   modification_date_month                    306263 non-null  float64\n",
      " 5   modification_date_year                     306263 non-null  float64\n",
      " 6   publish_date_day                           306270 non-null  int64  \n",
      " 7   publish_date_month                         306270 non-null  int64  \n",
      " 8   publish_date_year                          306270 non-null  int64  \n",
      " 9   creation_date_minus_creation_date          306263 non-null  float64\n",
      " 10  creation_date_minus_modification_date      306263 non-null  float64\n",
      " 11  creation_date_minus_publish_date           306263 non-null  float64\n",
      " 12  modification_date_minus_modification_date  306263 non-null  float64\n",
      " 13  modification_date_minus_publish_date       306263 non-null  float64\n",
      " 14  publish_date_minus_publish_date            306270 non-null  int64  \n",
      "dtypes: float64(11), int64(4)\n",
      "memory usage: 35.0 MB\n"
     ]
    }
   ],
   "source": [
    "res.info()"
   ]
  },
  {
   "cell_type": "code",
   "execution_count": 44,
   "metadata": {},
   "outputs": [
    {
     "data": {
      "text/plain": [
       "0"
      ]
     },
     "execution_count": 44,
     "metadata": {},
     "output_type": "execute_result"
    }
   ],
   "source": [
    "train[date_cols[2]].isna().sum()"
   ]
  },
  {
   "cell_type": "markdown",
   "metadata": {},
   "source": [
    "## EDA"
   ]
  },
  {
   "cell_type": "markdown",
   "metadata": {},
   "source": [
    "### train"
   ]
  },
  {
   "cell_type": "code",
   "execution_count": 6,
   "metadata": {},
   "outputs": [],
   "source": [
    "train_cat = [\n",
    "    \"region\",\n",
    "    \"industry\",\n",
    "    \"education_type\",\n",
    "    \"drive_licences\", # \n",
    "    \"citizenship\",\n",
    "    \"schedule\",\n",
    "    \"employement_type\",\n",
    "    \"gender\"\n",
    "]\n",
    "\n",
    "train_binary = [\n",
    "    \"relocation_ready\",\n",
    "    \"travel_ready\",\n",
    "    \"retraining_ready\",\n",
    "    \"is_worldskills_participant\",\n",
    "    \"has_qualifications\"\n",
    "]\n",
    "\n",
    "train_text = [\n",
    "    \"position\",\n",
    "]\n",
    "\n",
    "train_float = [\n",
    "    \"age\",\n",
    "    \"experience\",\n",
    "    \"salary_desired\", #\n",
    "    \"completeness_rate\"\n",
    "]\n",
    "\n",
    "train_idk = [\n",
    "    \"locality\",\n",
    "    \"locality_name\"\n",
    "]\n",
    "\n",
    "train_dates = [\n",
    "    \"creation_date\",\n",
    "    \"modification_date\",\n",
    "    \"publish_date\"\n",
    "]"
   ]
  },
  {
   "cell_type": "code",
   "execution_count": 10,
   "metadata": {},
   "outputs": [
    {
     "data": {
      "text/plain": [
       "{'id', 'salary'}"
      ]
     },
     "execution_count": 10,
     "metadata": {},
     "output_type": "execute_result"
    }
   ],
   "source": [
    "(set(train_binary) | set(train_cat) | set(train_text) | set(train_float) | set(train_idk) | set(train_dates) ).symmetric_difference(set(train.columns))"
   ]
  },
  {
   "cell_type": "code",
   "execution_count": 11,
   "metadata": {},
   "outputs": [
    {
     "name": "stdout",
     "output_type": "stream",
     "text": [
      "id 306270\n",
      "position 77762\n",
      "region 86\n",
      "industry 33\n",
      "locality 12365\n",
      "locality_name 8684\n",
      "education_type 4\n",
      "drive_licences 29\n",
      "citizenship 12\n",
      "schedule 63\n",
      "employement_type 6\n",
      "age 79\n",
      "gender 2\n",
      "experience 73\n",
      "salary_desired 2046\n",
      "relocation_ready 2\n",
      "travel_ready 2\n",
      "retraining_ready 2\n",
      "is_worldskills_participant 2\n",
      "has_qualifications 1\n",
      "completeness_rate 57\n",
      "creation_date 1504\n",
      "modification_date 579\n",
      "publish_date 1893\n",
      "salary 19203\n"
     ]
    }
   ],
   "source": [
    "for col in train.columns:\n",
    "    print(col, train[col].nunique())"
   ]
  },
  {
   "cell_type": "code",
   "execution_count": 12,
   "metadata": {},
   "outputs": [
    {
     "data": {
      "text/html": [
       "<div>\n",
       "<style scoped>\n",
       "    .dataframe tbody tr th:only-of-type {\n",
       "        vertical-align: middle;\n",
       "    }\n",
       "\n",
       "    .dataframe tbody tr th {\n",
       "        vertical-align: top;\n",
       "    }\n",
       "\n",
       "    .dataframe thead th {\n",
       "        text-align: right;\n",
       "    }\n",
       "</style>\n",
       "<table border=\"1\" class=\"dataframe\">\n",
       "  <thead>\n",
       "    <tr style=\"text-align: right;\">\n",
       "      <th></th>\n",
       "      <th>id</th>\n",
       "      <th>position</th>\n",
       "      <th>region</th>\n",
       "      <th>industry</th>\n",
       "      <th>locality</th>\n",
       "      <th>locality_name</th>\n",
       "      <th>education_type</th>\n",
       "      <th>drive_licences</th>\n",
       "      <th>citizenship</th>\n",
       "      <th>schedule</th>\n",
       "      <th>employement_type</th>\n",
       "      <th>age</th>\n",
       "      <th>gender</th>\n",
       "      <th>experience</th>\n",
       "      <th>salary_desired</th>\n",
       "      <th>relocation_ready</th>\n",
       "      <th>travel_ready</th>\n",
       "      <th>retraining_ready</th>\n",
       "      <th>is_worldskills_participant</th>\n",
       "      <th>has_qualifications</th>\n",
       "      <th>completeness_rate</th>\n",
       "      <th>creation_date</th>\n",
       "      <th>modification_date</th>\n",
       "      <th>publish_date</th>\n",
       "      <th>salary</th>\n",
       "    </tr>\n",
       "  </thead>\n",
       "  <tbody>\n",
       "    <tr>\n",
       "      <th>0</th>\n",
       "      <td>0</td>\n",
       "      <td>Специалист</td>\n",
       "      <td>Тульская область</td>\n",
       "      <td>Государственная служба, некоммерческие организ...</td>\n",
       "      <td>7100000100000</td>\n",
       "      <td>Тула</td>\n",
       "      <td>Незаконченное высшее</td>\n",
       "      <td>[B]</td>\n",
       "      <td>Российская Федерация</td>\n",
       "      <td>Полный рабочий день</td>\n",
       "      <td>Полная занятость</td>\n",
       "      <td>21.0</td>\n",
       "      <td>Мужской</td>\n",
       "      <td>3</td>\n",
       "      <td>35000</td>\n",
       "      <td>False</td>\n",
       "      <td>False</td>\n",
       "      <td>True</td>\n",
       "      <td>NaN</td>\n",
       "      <td>NaN</td>\n",
       "      <td>64.0</td>\n",
       "      <td>2020-05-07</td>\n",
       "      <td>2020-05-08</td>\n",
       "      <td>2020-05-07</td>\n",
       "      <td>37500</td>\n",
       "    </tr>\n",
       "    <tr>\n",
       "      <th>1</th>\n",
       "      <td>1</td>\n",
       "      <td>Лаборант</td>\n",
       "      <td>Алтайский край</td>\n",
       "      <td>Государственная служба, некоммерческие организ...</td>\n",
       "      <td>2200000100000</td>\n",
       "      <td>Барнаул</td>\n",
       "      <td>Высшее</td>\n",
       "      <td>[B]</td>\n",
       "      <td>Российская Федерация</td>\n",
       "      <td>Полный рабочий день</td>\n",
       "      <td>Полная занятость</td>\n",
       "      <td>26.0</td>\n",
       "      <td>Женский</td>\n",
       "      <td>4</td>\n",
       "      <td>15000</td>\n",
       "      <td>False</td>\n",
       "      <td>True</td>\n",
       "      <td>True</td>\n",
       "      <td>NaN</td>\n",
       "      <td>NaN</td>\n",
       "      <td>88.0</td>\n",
       "      <td>2020-10-21</td>\n",
       "      <td>2020-10-27</td>\n",
       "      <td>2020-10-27</td>\n",
       "      <td>14000</td>\n",
       "    </tr>\n",
       "    <tr>\n",
       "      <th>2</th>\n",
       "      <td>3</td>\n",
       "      <td>Специалист, администратор, бухгалтер, экономист</td>\n",
       "      <td>Ульяновская область</td>\n",
       "      <td>Административная работа, секретариат, АХО</td>\n",
       "      <td>7300000200000</td>\n",
       "      <td>Димитровград</td>\n",
       "      <td>Высшее</td>\n",
       "      <td>[B]</td>\n",
       "      <td>Российская Федерация</td>\n",
       "      <td>Полный рабочий день</td>\n",
       "      <td>Полная занятость</td>\n",
       "      <td>36.0</td>\n",
       "      <td>Женский</td>\n",
       "      <td>12</td>\n",
       "      <td>20000</td>\n",
       "      <td>False</td>\n",
       "      <td>NaN</td>\n",
       "      <td>True</td>\n",
       "      <td>NaN</td>\n",
       "      <td>NaN</td>\n",
       "      <td>78.0</td>\n",
       "      <td>2019-04-25</td>\n",
       "      <td>2020-02-04</td>\n",
       "      <td>2020-02-04</td>\n",
       "      <td>24600</td>\n",
       "    </tr>\n",
       "    <tr>\n",
       "      <th>3</th>\n",
       "      <td>4</td>\n",
       "      <td>Специалист</td>\n",
       "      <td>Свердловская область</td>\n",
       "      <td>Государственная служба, некоммерческие организ...</td>\n",
       "      <td>6600002300000</td>\n",
       "      <td>Нижний Тагил</td>\n",
       "      <td>Высшее</td>\n",
       "      <td>[B]</td>\n",
       "      <td>Российская Федерация</td>\n",
       "      <td>Полный рабочий день</td>\n",
       "      <td>Полная занятость</td>\n",
       "      <td>34.0</td>\n",
       "      <td>Женский</td>\n",
       "      <td>9</td>\n",
       "      <td>30000</td>\n",
       "      <td>False</td>\n",
       "      <td>False</td>\n",
       "      <td>False</td>\n",
       "      <td>NaN</td>\n",
       "      <td>NaN</td>\n",
       "      <td>91.0</td>\n",
       "      <td>2020-09-19</td>\n",
       "      <td>2020-09-20</td>\n",
       "      <td>2020-09-19</td>\n",
       "      <td>16075</td>\n",
       "    </tr>\n",
       "    <tr>\n",
       "      <th>4</th>\n",
       "      <td>5</td>\n",
       "      <td>Инструктор по плаванию</td>\n",
       "      <td>Иркутская область</td>\n",
       "      <td>Здравоохранение, спорт, красота, социальное об...</td>\n",
       "      <td>3800000400000</td>\n",
       "      <td>Ангарск</td>\n",
       "      <td>NaN</td>\n",
       "      <td>NaN</td>\n",
       "      <td>Российская Федерация</td>\n",
       "      <td>Полный рабочий день</td>\n",
       "      <td>Полная занятость</td>\n",
       "      <td>25.0</td>\n",
       "      <td>Мужской</td>\n",
       "      <td>1</td>\n",
       "      <td>40000</td>\n",
       "      <td>False</td>\n",
       "      <td>NaN</td>\n",
       "      <td>NaN</td>\n",
       "      <td>NaN</td>\n",
       "      <td>NaN</td>\n",
       "      <td>58.0</td>\n",
       "      <td>2020-04-20</td>\n",
       "      <td>2020-09-09</td>\n",
       "      <td>2020-04-21</td>\n",
       "      <td>22080</td>\n",
       "    </tr>\n",
       "  </tbody>\n",
       "</table>\n",
       "</div>"
      ],
      "text/plain": [
       "   id                                         position                region  \\\n",
       "0   0                                       Специалист      Тульская область   \n",
       "1   1                                         Лаборант        Алтайский край   \n",
       "2   3  Специалист, администратор, бухгалтер, экономист   Ульяновская область   \n",
       "3   4                                       Специалист  Свердловская область   \n",
       "4   5                           Инструктор по плаванию     Иркутская область   \n",
       "\n",
       "                                            industry       locality  \\\n",
       "0  Государственная служба, некоммерческие организ...  7100000100000   \n",
       "1  Государственная служба, некоммерческие организ...  2200000100000   \n",
       "2          Административная работа, секретариат, АХО  7300000200000   \n",
       "3  Государственная служба, некоммерческие организ...  6600002300000   \n",
       "4  Здравоохранение, спорт, красота, социальное об...  3800000400000   \n",
       "\n",
       "  locality_name        education_type drive_licences           citizenship  \\\n",
       "0          Тула  Незаконченное высшее            [B]  Российская Федерация   \n",
       "1       Барнаул                Высшее            [B]  Российская Федерация   \n",
       "2  Димитровград                Высшее            [B]  Российская Федерация   \n",
       "3  Нижний Тагил                Высшее            [B]  Российская Федерация   \n",
       "4       Ангарск                   NaN            NaN  Российская Федерация   \n",
       "\n",
       "              schedule  employement_type   age   gender  experience  \\\n",
       "0  Полный рабочий день  Полная занятость  21.0  Мужской           3   \n",
       "1  Полный рабочий день  Полная занятость  26.0  Женский           4   \n",
       "2  Полный рабочий день  Полная занятость  36.0  Женский          12   \n",
       "3  Полный рабочий день  Полная занятость  34.0  Женский           9   \n",
       "4  Полный рабочий день  Полная занятость  25.0  Мужской           1   \n",
       "\n",
       "   salary_desired relocation_ready travel_ready retraining_ready  \\\n",
       "0           35000            False        False             True   \n",
       "1           15000            False         True             True   \n",
       "2           20000            False          NaN             True   \n",
       "3           30000            False        False            False   \n",
       "4           40000            False          NaN              NaN   \n",
       "\n",
       "  is_worldskills_participant has_qualifications  completeness_rate  \\\n",
       "0                        NaN                NaN               64.0   \n",
       "1                        NaN                NaN               88.0   \n",
       "2                        NaN                NaN               78.0   \n",
       "3                        NaN                NaN               91.0   \n",
       "4                        NaN                NaN               58.0   \n",
       "\n",
       "  creation_date modification_date publish_date  salary  \n",
       "0    2020-05-07        2020-05-08   2020-05-07   37500  \n",
       "1    2020-10-21        2020-10-27   2020-10-27   14000  \n",
       "2    2019-04-25        2020-02-04   2020-02-04   24600  \n",
       "3    2020-09-19        2020-09-20   2020-09-19   16075  \n",
       "4    2020-04-20        2020-09-09   2020-04-21   22080  "
      ]
     },
     "execution_count": 12,
     "metadata": {},
     "output_type": "execute_result"
    }
   ],
   "source": [
    "train.head()"
   ]
  },
  {
   "cell_type": "code",
   "execution_count": 11,
   "metadata": {},
   "outputs": [
    {
     "name": "stdout",
     "output_type": "stream",
     "text": [
      "id 0\n",
      "position 0\n",
      "region 12\n",
      "industry 0\n",
      "locality 0\n",
      "locality_name 15492\n",
      "education_type 40032\n",
      "drive_licences 184345\n",
      "citizenship 0\n",
      "schedule 0\n",
      "employement_type 0\n",
      "age 7811\n",
      "gender 7773\n",
      "experience 0\n",
      "salary_desired 0\n",
      "relocation_ready 72703\n",
      "travel_ready 69216\n",
      "retraining_ready 57126\n",
      "is_worldskills_participant 306076\n",
      "has_qualifications 303736\n",
      "completeness_rate 0\n",
      "creation_date 7\n",
      "modification_date 7\n",
      "publish_date 0\n",
      "salary 0\n"
     ]
    }
   ],
   "source": [
    "for col in train.columns:\n",
    "    print(col, len(train[col]) - len(train[col].dropna()))"
   ]
  },
  {
   "cell_type": "code",
   "execution_count": 12,
   "metadata": {},
   "outputs": [
    {
     "data": {
      "text/plain": [
       "306270"
      ]
     },
     "execution_count": 12,
     "metadata": {},
     "output_type": "execute_result"
    }
   ],
   "source": [
    "len(train)"
   ]
  },
  {
   "cell_type": "markdown",
   "metadata": {},
   "source": [
    "### world"
   ]
  },
  {
   "cell_type": "code",
   "execution_count": 14,
   "metadata": {},
   "outputs": [
    {
     "name": "stdout",
     "output_type": "stream",
     "text": [
      "1322\n"
     ]
    },
    {
     "data": {
      "text/html": [
       "<div>\n",
       "<style scoped>\n",
       "    .dataframe tbody tr th:only-of-type {\n",
       "        vertical-align: middle;\n",
       "    }\n",
       "\n",
       "    .dataframe tbody tr th {\n",
       "        vertical-align: top;\n",
       "    }\n",
       "\n",
       "    .dataframe thead th {\n",
       "        text-align: right;\n",
       "    }\n",
       "</style>\n",
       "<table border=\"1\" class=\"dataframe\">\n",
       "  <thead>\n",
       "    <tr style=\"text-align: right;\">\n",
       "      <th></th>\n",
       "      <th>id</th>\n",
       "      <th>status</th>\n",
       "      <th>code</th>\n",
       "      <th>is_international</th>\n",
       "      <th>int_name</th>\n",
       "      <th>ru_name</th>\n",
       "    </tr>\n",
       "  </thead>\n",
       "  <tbody>\n",
       "    <tr>\n",
       "      <th>0</th>\n",
       "      <td>166</td>\n",
       "      <td>Данные подтверждены</td>\n",
       "      <td>R4</td>\n",
       "      <td>False</td>\n",
       "      <td>Preschool Education</td>\n",
       "      <td>Дошкольное воспитание</td>\n",
       "    </tr>\n",
       "    <tr>\n",
       "      <th>1</th>\n",
       "      <td>425</td>\n",
       "      <td>Данные в процессе проверки</td>\n",
       "      <td>17</td>\n",
       "      <td>True</td>\n",
       "      <td>Web Design and Development</td>\n",
       "      <td>Веб-дизайн и разработка</td>\n",
       "    </tr>\n",
       "    <tr>\n",
       "      <th>2</th>\n",
       "      <td>498</td>\n",
       "      <td>Данные в процессе проверки</td>\n",
       "      <td>33</td>\n",
       "      <td>True</td>\n",
       "      <td>Automobile Technology</td>\n",
       "      <td>Ремонт и обслуживание легковых автомобилей</td>\n",
       "    </tr>\n",
       "    <tr>\n",
       "      <th>3</th>\n",
       "      <td>596</td>\n",
       "      <td>Данные в процессе проверки</td>\n",
       "      <td>R45</td>\n",
       "      <td>False</td>\n",
       "      <td>NaN</td>\n",
       "      <td>Специалист по организационному и документацион...</td>\n",
       "    </tr>\n",
       "    <tr>\n",
       "      <th>4</th>\n",
       "      <td>1256</td>\n",
       "      <td>Данные в процессе проверки</td>\n",
       "      <td>NaN</td>\n",
       "      <td>NaN</td>\n",
       "      <td>NaN</td>\n",
       "      <td>NaN</td>\n",
       "    </tr>\n",
       "  </tbody>\n",
       "</table>\n",
       "</div>"
      ],
      "text/plain": [
       "     id                      status code is_international  \\\n",
       "0   166         Данные подтверждены   R4            False   \n",
       "1   425  Данные в процессе проверки   17             True   \n",
       "2   498  Данные в процессе проверки   33             True   \n",
       "3   596  Данные в процессе проверки  R45            False   \n",
       "4  1256  Данные в процессе проверки  NaN              NaN   \n",
       "\n",
       "                     int_name  \\\n",
       "0         Preschool Education   \n",
       "1  Web Design and Development   \n",
       "2       Automobile Technology   \n",
       "3                         NaN   \n",
       "4                         NaN   \n",
       "\n",
       "                                             ru_name  \n",
       "0                              Дошкольное воспитание  \n",
       "1                            Веб-дизайн и разработка  \n",
       "2         Ремонт и обслуживание легковых автомобилей  \n",
       "3  Специалист по организационному и документацион...  \n",
       "4                                                NaN  "
      ]
     },
     "execution_count": 14,
     "metadata": {},
     "output_type": "execute_result"
    }
   ],
   "source": [
    "print(len(world))\n",
    "world.head()"
   ]
  },
  {
   "cell_type": "code",
   "execution_count": 21,
   "metadata": {},
   "outputs": [
    {
     "name": "stdout",
     "output_type": "stream",
     "text": [
      "id 1322\n",
      "status 2\n",
      "code 199\n",
      "is_international 2\n",
      "int_name 132\n",
      "ru_name 199\n"
     ]
    }
   ],
   "source": [
    "for col in world.columns:\n",
    "    print(col, world[col].nunique())"
   ]
  },
  {
   "cell_type": "code",
   "execution_count": 20,
   "metadata": {},
   "outputs": [
    {
     "name": "stdout",
     "output_type": "stream",
     "text": [
      "id 0\n",
      "status 0\n",
      "code 335\n",
      "is_international 314\n",
      "int_name 427\n",
      "ru_name 314\n"
     ]
    }
   ],
   "source": [
    "for col in world.columns:\n",
    "    print(col, len(world[col]) - len(world[col].dropna()))"
   ]
  },
  {
   "cell_type": "code",
   "execution_count": 16,
   "metadata": {},
   "outputs": [
    {
     "data": {
      "text/plain": [
       "1322"
      ]
     },
     "execution_count": 16,
     "metadata": {},
     "output_type": "execute_result"
    }
   ],
   "source": [
    "len(world)"
   ]
  },
  {
   "cell_type": "markdown",
   "metadata": {},
   "source": [
    "### edu"
   ]
  },
  {
   "cell_type": "code",
   "execution_count": 22,
   "metadata": {},
   "outputs": [
    {
     "data": {
      "text/html": [
       "<div>\n",
       "<style scoped>\n",
       "    .dataframe tbody tr th:only-of-type {\n",
       "        vertical-align: middle;\n",
       "    }\n",
       "\n",
       "    .dataframe tbody tr th {\n",
       "        vertical-align: top;\n",
       "    }\n",
       "\n",
       "    .dataframe thead th {\n",
       "        text-align: right;\n",
       "    }\n",
       "</style>\n",
       "<table border=\"1\" class=\"dataframe\">\n",
       "  <thead>\n",
       "    <tr style=\"text-align: right;\">\n",
       "      <th></th>\n",
       "      <th>id</th>\n",
       "      <th>graduation_year</th>\n",
       "      <th>institution</th>\n",
       "      <th>description</th>\n",
       "    </tr>\n",
       "  </thead>\n",
       "  <tbody>\n",
       "    <tr>\n",
       "      <th>0</th>\n",
       "      <td>0</td>\n",
       "      <td>2022.0</td>\n",
       "      <td>\"Тульский государственный университет\"</td>\n",
       "      <td>NaN</td>\n",
       "    </tr>\n",
       "    <tr>\n",
       "      <th>1</th>\n",
       "      <td>1</td>\n",
       "      <td>2016.0</td>\n",
       "      <td>\"Алтайский государственный аграрный университет\"</td>\n",
       "      <td>NaN</td>\n",
       "    </tr>\n",
       "    <tr>\n",
       "      <th>2</th>\n",
       "      <td>2</td>\n",
       "      <td>2014.0</td>\n",
       "      <td>\"Алтайский государственный технический универс...</td>\n",
       "      <td>NaN</td>\n",
       "    </tr>\n",
       "    <tr>\n",
       "      <th>3</th>\n",
       "      <td>3</td>\n",
       "      <td>2003.0</td>\n",
       "      <td>ГОУ СПО ДИМИТРОВГРАДСКИЙ ТЕХНИЧЕСКИЙ КОЛЛЕДЖ</td>\n",
       "      <td>NaN</td>\n",
       "    </tr>\n",
       "    <tr>\n",
       "      <th>4</th>\n",
       "      <td>4</td>\n",
       "      <td>2005.0</td>\n",
       "      <td>Нижнетагильский торгово-экономический техникум</td>\n",
       "      <td>NaN</td>\n",
       "    </tr>\n",
       "  </tbody>\n",
       "</table>\n",
       "</div>"
      ],
      "text/plain": [
       "   id  graduation_year                                        institution  \\\n",
       "0   0           2022.0             \"Тульский государственный университет\"   \n",
       "1   1           2016.0   \"Алтайский государственный аграрный университет\"   \n",
       "2   2           2014.0  \"Алтайский государственный технический универс...   \n",
       "3   3           2003.0       ГОУ СПО ДИМИТРОВГРАДСКИЙ ТЕХНИЧЕСКИЙ КОЛЛЕДЖ   \n",
       "4   4           2005.0     Нижнетагильский торгово-экономический техникум   \n",
       "\n",
       "  description  \n",
       "0         NaN  \n",
       "1         NaN  \n",
       "2         NaN  \n",
       "3         NaN  \n",
       "4         NaN  "
      ]
     },
     "execution_count": 22,
     "metadata": {},
     "output_type": "execute_result"
    }
   ],
   "source": [
    "edu.head()"
   ]
  },
  {
   "cell_type": "code",
   "execution_count": 25,
   "metadata": {},
   "outputs": [
    {
     "data": {
      "text/plain": [
       "375364"
      ]
     },
     "execution_count": 25,
     "metadata": {},
     "output_type": "execute_result"
    }
   ],
   "source": [
    "len(edu)"
   ]
  },
  {
   "cell_type": "code",
   "execution_count": 24,
   "metadata": {},
   "outputs": [
    {
     "name": "stdout",
     "output_type": "stream",
     "text": [
      "id 375364\n",
      "graduation_year 90\n",
      "institution 151226\n",
      "description 34\n"
     ]
    }
   ],
   "source": [
    "for col in edu.columns:\n",
    "    print(col, edu[col].nunique())"
   ]
  },
  {
   "cell_type": "code",
   "execution_count": 23,
   "metadata": {},
   "outputs": [
    {
     "name": "stdout",
     "output_type": "stream",
     "text": [
      "id 0\n",
      "graduation_year 1\n",
      "institution 362\n",
      "description 375299\n"
     ]
    }
   ],
   "source": [
    "for col in edu.columns:\n",
    "    print(col, len(edu[col]) - len(edu[col].dropna()))"
   ]
  },
  {
   "cell_type": "markdown",
   "metadata": {},
   "source": [
    "### edu_mult"
   ]
  },
  {
   "cell_type": "code",
   "execution_count": 27,
   "metadata": {},
   "outputs": [
    {
     "data": {
      "text/html": [
       "<div>\n",
       "<style scoped>\n",
       "    .dataframe tbody tr th:only-of-type {\n",
       "        vertical-align: middle;\n",
       "    }\n",
       "\n",
       "    .dataframe tbody tr th {\n",
       "        vertical-align: top;\n",
       "    }\n",
       "\n",
       "    .dataframe thead th {\n",
       "        text-align: right;\n",
       "    }\n",
       "</style>\n",
       "<table border=\"1\" class=\"dataframe\">\n",
       "  <thead>\n",
       "    <tr style=\"text-align: right;\">\n",
       "      <th></th>\n",
       "      <th>id</th>\n",
       "      <th>graduation_year</th>\n",
       "      <th>institution</th>\n",
       "      <th>description</th>\n",
       "    </tr>\n",
       "  </thead>\n",
       "  <tbody>\n",
       "    <tr>\n",
       "      <th>0</th>\n",
       "      <td>0.0</td>\n",
       "      <td>2022.0</td>\n",
       "      <td>\"Тульский государственный университет\"</td>\n",
       "      <td>NaN</td>\n",
       "    </tr>\n",
       "    <tr>\n",
       "      <th>1</th>\n",
       "      <td>1.0</td>\n",
       "      <td>2016.0</td>\n",
       "      <td>\"Алтайский государственный аграрный университет\"</td>\n",
       "      <td>NaN</td>\n",
       "    </tr>\n",
       "    <tr>\n",
       "      <th>2</th>\n",
       "      <td>10.0</td>\n",
       "      <td>2018.0</td>\n",
       "      <td>Байкальский Государственный Университет г. Ирк...</td>\n",
       "      <td>NaN</td>\n",
       "    </tr>\n",
       "    <tr>\n",
       "      <th>3</th>\n",
       "      <td>10.0</td>\n",
       "      <td>2014.0</td>\n",
       "      <td>якутский колледж инновационных технологий</td>\n",
       "      <td>NaN</td>\n",
       "    </tr>\n",
       "    <tr>\n",
       "      <th>4</th>\n",
       "      <td>100.0</td>\n",
       "      <td>2009.0</td>\n",
       "      <td>\"Московский гуманитарный университет\"</td>\n",
       "      <td>NaN</td>\n",
       "    </tr>\n",
       "  </tbody>\n",
       "</table>\n",
       "</div>"
      ],
      "text/plain": [
       "      id  graduation_year                                        institution  \\\n",
       "0    0.0           2022.0             \"Тульский государственный университет\"   \n",
       "1    1.0           2016.0   \"Алтайский государственный аграрный университет\"   \n",
       "2   10.0           2018.0  Байкальский Государственный Университет г. Ирк...   \n",
       "3   10.0           2014.0          якутский колледж инновационных технологий   \n",
       "4  100.0           2009.0              \"Московский гуманитарный университет\"   \n",
       "\n",
       "  description  \n",
       "0         NaN  \n",
       "1         NaN  \n",
       "2         NaN  \n",
       "3         NaN  \n",
       "4         NaN  "
      ]
     },
     "execution_count": 27,
     "metadata": {},
     "output_type": "execute_result"
    }
   ],
   "source": [
    "edu_mult.head()"
   ]
  },
  {
   "cell_type": "code",
   "execution_count": 28,
   "metadata": {},
   "outputs": [
    {
     "data": {
      "text/plain": [
       "453210"
      ]
     },
     "execution_count": 28,
     "metadata": {},
     "output_type": "execute_result"
    }
   ],
   "source": [
    "len(edu_mult)"
   ]
  },
  {
   "cell_type": "code",
   "execution_count": 29,
   "metadata": {},
   "outputs": [
    {
     "name": "stdout",
     "output_type": "stream",
     "text": [
      "id 375364\n",
      "graduation_year 90\n",
      "institution 151226\n",
      "description 34\n"
     ]
    }
   ],
   "source": [
    "for col in edu.columns:\n",
    "    print(col, edu[col].nunique())"
   ]
  },
  {
   "cell_type": "code",
   "execution_count": 30,
   "metadata": {},
   "outputs": [
    {
     "name": "stdout",
     "output_type": "stream",
     "text": [
      "id 0\n",
      "graduation_year 1\n",
      "institution 362\n",
      "description 375299\n"
     ]
    }
   ],
   "source": [
    "for col in edu.columns:\n",
    "    print(col, len(edu[col]) - len(edu[col].dropna()))"
   ]
  },
  {
   "cell_type": "code",
   "execution_count": null,
   "metadata": {},
   "outputs": [],
   "source": []
  }
 ],
 "metadata": {
  "kernelspec": {
   "display_name": "Python 3",
   "language": "python",
   "name": "python3"
  },
  "language_info": {
   "codemirror_mode": {
    "name": "ipython",
    "version": 3
   },
   "file_extension": ".py",
   "mimetype": "text/x-python",
   "name": "python",
   "nbconvert_exporter": "python",
   "pygments_lexer": "ipython3",
   "version": "3.6.10"
  }
 },
 "nbformat": 4,
 "nbformat_minor": 4
}
