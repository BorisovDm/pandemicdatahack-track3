{
 "metadata": {
  "language_info": {
   "codemirror_mode": {
    "name": "ipython",
    "version": 3
   },
   "file_extension": ".py",
   "mimetype": "text/x-python",
   "name": "python",
   "nbconvert_exporter": "python",
   "pygments_lexer": "ipython3",
   "version": "3.7.9-final"
  },
  "orig_nbformat": 2,
  "kernelspec": {
   "name": "python3",
   "display_name": "Python 3",
   "language": "python"
  }
 },
 "nbformat": 4,
 "nbformat_minor": 2,
 "cells": [
  {
   "cell_type": "code",
   "execution_count": 1,
   "metadata": {},
   "outputs": [],
   "source": [
    "import numpy as np\n",
    "import pandas as pd\n",
    "import matplotlib.pyplot as plt\n",
    "import seaborn as sns\n",
    "\n",
    "from pathlib import Path\n",
    "from preprocess import preprocess_train_test"
   ]
  },
  {
   "cell_type": "code",
   "execution_count": 2,
   "metadata": {},
   "outputs": [
    {
     "output_type": "stream",
     "name": "stdout",
     "text": [
      "306270\n"
     ]
    },
    {
     "output_type": "execute_result",
     "data": {
      "text/plain": [
       "   id                                         position                region  \\\n",
       "0   0                                       Специалист      Тульская область   \n",
       "1   1                                         Лаборант        Алтайский край   \n",
       "2   3  Специалист, администратор, бухгалтер, экономист   Ульяновская область   \n",
       "3   4                                       Специалист  Свердловская область   \n",
       "4   5                           Инструктор по плаванию     Иркутская область   \n",
       "\n",
       "                                            industry       locality  \\\n",
       "0  Государственная служба, некоммерческие организ...  7100000100000   \n",
       "1  Государственная служба, некоммерческие организ...  2200000100000   \n",
       "2          Административная работа, секретариат, АХО  7300000200000   \n",
       "3  Государственная служба, некоммерческие организ...  6600002300000   \n",
       "4  Здравоохранение, спорт, красота, социальное об...  3800000400000   \n",
       "\n",
       "  locality_name        education_type drive_licences           citizenship  \\\n",
       "0          Тула  Незаконченное высшее            [B]  Российская Федерация   \n",
       "1       Барнаул                Высшее            [B]  Российская Федерация   \n",
       "2  Димитровград                Высшее            [B]  Российская Федерация   \n",
       "3  Нижний Тагил                Высшее            [B]  Российская Федерация   \n",
       "4       Ангарск                   NaN            NaN  Российская Федерация   \n",
       "\n",
       "              schedule  ... relocation_ready  travel_ready retraining_ready  \\\n",
       "0  Полный рабочий день  ...            False         False             True   \n",
       "1  Полный рабочий день  ...            False          True             True   \n",
       "2  Полный рабочий день  ...            False           NaN             True   \n",
       "3  Полный рабочий день  ...            False         False            False   \n",
       "4  Полный рабочий день  ...            False           NaN              NaN   \n",
       "\n",
       "   is_worldskills_participant  has_qualifications completeness_rate  \\\n",
       "0                         NaN                 NaN              64.0   \n",
       "1                         NaN                 NaN              88.0   \n",
       "2                         NaN                 NaN              78.0   \n",
       "3                         NaN                 NaN              91.0   \n",
       "4                         NaN                 NaN              58.0   \n",
       "\n",
       "  creation_date modification_date publish_date salary  \n",
       "0    2020-05-07        2020-05-08   2020-05-07  37500  \n",
       "1    2020-10-21        2020-10-27   2020-10-27  14000  \n",
       "2    2019-04-25        2020-02-04   2020-02-04  24600  \n",
       "3    2020-09-19        2020-09-20   2020-09-19  16075  \n",
       "4    2020-04-20        2020-09-09   2020-04-21  22080  \n",
       "\n",
       "[5 rows x 25 columns]"
      ],
      "text/html": "<div>\n<style scoped>\n    .dataframe tbody tr th:only-of-type {\n        vertical-align: middle;\n    }\n\n    .dataframe tbody tr th {\n        vertical-align: top;\n    }\n\n    .dataframe thead th {\n        text-align: right;\n    }\n</style>\n<table border=\"1\" class=\"dataframe\">\n  <thead>\n    <tr style=\"text-align: right;\">\n      <th></th>\n      <th>id</th>\n      <th>position</th>\n      <th>region</th>\n      <th>industry</th>\n      <th>locality</th>\n      <th>locality_name</th>\n      <th>education_type</th>\n      <th>drive_licences</th>\n      <th>citizenship</th>\n      <th>schedule</th>\n      <th>...</th>\n      <th>relocation_ready</th>\n      <th>travel_ready</th>\n      <th>retraining_ready</th>\n      <th>is_worldskills_participant</th>\n      <th>has_qualifications</th>\n      <th>completeness_rate</th>\n      <th>creation_date</th>\n      <th>modification_date</th>\n      <th>publish_date</th>\n      <th>salary</th>\n    </tr>\n  </thead>\n  <tbody>\n    <tr>\n      <th>0</th>\n      <td>0</td>\n      <td>Специалист</td>\n      <td>Тульская область</td>\n      <td>Государственная служба, некоммерческие организ...</td>\n      <td>7100000100000</td>\n      <td>Тула</td>\n      <td>Незаконченное высшее</td>\n      <td>[B]</td>\n      <td>Российская Федерация</td>\n      <td>Полный рабочий день</td>\n      <td>...</td>\n      <td>False</td>\n      <td>False</td>\n      <td>True</td>\n      <td>NaN</td>\n      <td>NaN</td>\n      <td>64.0</td>\n      <td>2020-05-07</td>\n      <td>2020-05-08</td>\n      <td>2020-05-07</td>\n      <td>37500</td>\n    </tr>\n    <tr>\n      <th>1</th>\n      <td>1</td>\n      <td>Лаборант</td>\n      <td>Алтайский край</td>\n      <td>Государственная служба, некоммерческие организ...</td>\n      <td>2200000100000</td>\n      <td>Барнаул</td>\n      <td>Высшее</td>\n      <td>[B]</td>\n      <td>Российская Федерация</td>\n      <td>Полный рабочий день</td>\n      <td>...</td>\n      <td>False</td>\n      <td>True</td>\n      <td>True</td>\n      <td>NaN</td>\n      <td>NaN</td>\n      <td>88.0</td>\n      <td>2020-10-21</td>\n      <td>2020-10-27</td>\n      <td>2020-10-27</td>\n      <td>14000</td>\n    </tr>\n    <tr>\n      <th>2</th>\n      <td>3</td>\n      <td>Специалист, администратор, бухгалтер, экономист</td>\n      <td>Ульяновская область</td>\n      <td>Административная работа, секретариат, АХО</td>\n      <td>7300000200000</td>\n      <td>Димитровград</td>\n      <td>Высшее</td>\n      <td>[B]</td>\n      <td>Российская Федерация</td>\n      <td>Полный рабочий день</td>\n      <td>...</td>\n      <td>False</td>\n      <td>NaN</td>\n      <td>True</td>\n      <td>NaN</td>\n      <td>NaN</td>\n      <td>78.0</td>\n      <td>2019-04-25</td>\n      <td>2020-02-04</td>\n      <td>2020-02-04</td>\n      <td>24600</td>\n    </tr>\n    <tr>\n      <th>3</th>\n      <td>4</td>\n      <td>Специалист</td>\n      <td>Свердловская область</td>\n      <td>Государственная служба, некоммерческие организ...</td>\n      <td>6600002300000</td>\n      <td>Нижний Тагил</td>\n      <td>Высшее</td>\n      <td>[B]</td>\n      <td>Российская Федерация</td>\n      <td>Полный рабочий день</td>\n      <td>...</td>\n      <td>False</td>\n      <td>False</td>\n      <td>False</td>\n      <td>NaN</td>\n      <td>NaN</td>\n      <td>91.0</td>\n      <td>2020-09-19</td>\n      <td>2020-09-20</td>\n      <td>2020-09-19</td>\n      <td>16075</td>\n    </tr>\n    <tr>\n      <th>4</th>\n      <td>5</td>\n      <td>Инструктор по плаванию</td>\n      <td>Иркутская область</td>\n      <td>Здравоохранение, спорт, красота, социальное об...</td>\n      <td>3800000400000</td>\n      <td>Ангарск</td>\n      <td>NaN</td>\n      <td>NaN</td>\n      <td>Российская Федерация</td>\n      <td>Полный рабочий день</td>\n      <td>...</td>\n      <td>False</td>\n      <td>NaN</td>\n      <td>NaN</td>\n      <td>NaN</td>\n      <td>NaN</td>\n      <td>58.0</td>\n      <td>2020-04-20</td>\n      <td>2020-09-09</td>\n      <td>2020-04-21</td>\n      <td>22080</td>\n    </tr>\n  </tbody>\n</table>\n<p>5 rows × 25 columns</p>\n</div>"
     },
     "metadata": {},
     "execution_count": 2
    }
   ],
   "source": [
    "raw_data_path = Path('../data/raw')\n",
    "train_df = pd.read_csv(raw_data_path / 'train.csv', sep=';')\n",
    "print(len(train_df))\n",
    "train_df.head()"
   ]
  },
  {
   "cell_type": "code",
   "execution_count": 3,
   "metadata": {},
   "outputs": [
    {
     "output_type": "stream",
     "name": "stdout",
     "text": [
      "131259\n"
     ]
    },
    {
     "output_type": "execute_result",
     "data": {
      "text/plain": [
       "   id               position                region  \\\n",
       "0   2                инженер        Алтайский край   \n",
       "1   6              монтажник  Свердловская область   \n",
       "2   7                Инженер   Ульяновская область   \n",
       "3  11                  Юрист    Краснодарский край   \n",
       "4  16  Персональный менеджер    Московская область   \n",
       "\n",
       "                                            industry       locality  \\\n",
       "0  Строительство, ремонт, стройматериалы, недвижи...  2200000100000   \n",
       "1  Строительство, ремонт, стройматериалы, недвижи...  6600000000000   \n",
       "2       Транспорт, автобизнес, логистика, склад, ВЭД  7300300002000   \n",
       "3                                      Юриспруденция  2300000000000   \n",
       "4  Финансы, кредит, страхование, пенсионное обесп...  5001300100000   \n",
       "\n",
       "   locality_name education_type drive_licences           citizenship  \\\n",
       "0        Барнаул         Высшее            [B]  Российская Федерация   \n",
       "1   Свердловская            NaN            NaN  Российская Федерация   \n",
       "2      Измайлово         Высшее      [A, B, C]  Российская Федерация   \n",
       "3  Краснодарский         Высшее            NaN  Российская Федерация   \n",
       "4    Красногорск         Высшее            NaN  Российская Федерация   \n",
       "\n",
       "              schedule  ... salary_desired  relocation_ready travel_ready  \\\n",
       "0  Полный рабочий день  ...          10288             False         True   \n",
       "1  Полный рабочий день  ...          56649               NaN         True   \n",
       "2  Полный рабочий день  ...          50000             False        False   \n",
       "3  Полный рабочий день  ...          20760             False          NaN   \n",
       "4  Полный рабочий день  ...          70000             False        False   \n",
       "\n",
       "   retraining_ready  is_worldskills_participant has_qualifications  \\\n",
       "0              True                         NaN                NaN   \n",
       "1              True                         NaN                NaN   \n",
       "2              True                         NaN                NaN   \n",
       "3              True                         NaN                NaN   \n",
       "4              True                         NaN                NaN   \n",
       "\n",
       "  completeness_rate creation_date modification_date publish_date  \n",
       "0              86.0    2017-08-26        2019-05-17   2016-05-11  \n",
       "1              47.0    2017-12-01        2019-07-10   2017-12-01  \n",
       "2              66.0    2020-04-12        2020-04-14   2020-04-14  \n",
       "3              69.0    2019-10-10        2020-08-25   2019-10-11  \n",
       "4              65.0    2020-04-20        2020-05-21   2020-05-21  \n",
       "\n",
       "[5 rows x 24 columns]"
      ],
      "text/html": "<div>\n<style scoped>\n    .dataframe tbody tr th:only-of-type {\n        vertical-align: middle;\n    }\n\n    .dataframe tbody tr th {\n        vertical-align: top;\n    }\n\n    .dataframe thead th {\n        text-align: right;\n    }\n</style>\n<table border=\"1\" class=\"dataframe\">\n  <thead>\n    <tr style=\"text-align: right;\">\n      <th></th>\n      <th>id</th>\n      <th>position</th>\n      <th>region</th>\n      <th>industry</th>\n      <th>locality</th>\n      <th>locality_name</th>\n      <th>education_type</th>\n      <th>drive_licences</th>\n      <th>citizenship</th>\n      <th>schedule</th>\n      <th>...</th>\n      <th>salary_desired</th>\n      <th>relocation_ready</th>\n      <th>travel_ready</th>\n      <th>retraining_ready</th>\n      <th>is_worldskills_participant</th>\n      <th>has_qualifications</th>\n      <th>completeness_rate</th>\n      <th>creation_date</th>\n      <th>modification_date</th>\n      <th>publish_date</th>\n    </tr>\n  </thead>\n  <tbody>\n    <tr>\n      <th>0</th>\n      <td>2</td>\n      <td>инженер</td>\n      <td>Алтайский край</td>\n      <td>Строительство, ремонт, стройматериалы, недвижи...</td>\n      <td>2200000100000</td>\n      <td>Барнаул</td>\n      <td>Высшее</td>\n      <td>[B]</td>\n      <td>Российская Федерация</td>\n      <td>Полный рабочий день</td>\n      <td>...</td>\n      <td>10288</td>\n      <td>False</td>\n      <td>True</td>\n      <td>True</td>\n      <td>NaN</td>\n      <td>NaN</td>\n      <td>86.0</td>\n      <td>2017-08-26</td>\n      <td>2019-05-17</td>\n      <td>2016-05-11</td>\n    </tr>\n    <tr>\n      <th>1</th>\n      <td>6</td>\n      <td>монтажник</td>\n      <td>Свердловская область</td>\n      <td>Строительство, ремонт, стройматериалы, недвижи...</td>\n      <td>6600000000000</td>\n      <td>Свердловская</td>\n      <td>NaN</td>\n      <td>NaN</td>\n      <td>Российская Федерация</td>\n      <td>Полный рабочий день</td>\n      <td>...</td>\n      <td>56649</td>\n      <td>NaN</td>\n      <td>True</td>\n      <td>True</td>\n      <td>NaN</td>\n      <td>NaN</td>\n      <td>47.0</td>\n      <td>2017-12-01</td>\n      <td>2019-07-10</td>\n      <td>2017-12-01</td>\n    </tr>\n    <tr>\n      <th>2</th>\n      <td>7</td>\n      <td>Инженер</td>\n      <td>Ульяновская область</td>\n      <td>Транспорт, автобизнес, логистика, склад, ВЭД</td>\n      <td>7300300002000</td>\n      <td>Измайлово</td>\n      <td>Высшее</td>\n      <td>[A, B, C]</td>\n      <td>Российская Федерация</td>\n      <td>Полный рабочий день</td>\n      <td>...</td>\n      <td>50000</td>\n      <td>False</td>\n      <td>False</td>\n      <td>True</td>\n      <td>NaN</td>\n      <td>NaN</td>\n      <td>66.0</td>\n      <td>2020-04-12</td>\n      <td>2020-04-14</td>\n      <td>2020-04-14</td>\n    </tr>\n    <tr>\n      <th>3</th>\n      <td>11</td>\n      <td>Юрист</td>\n      <td>Краснодарский край</td>\n      <td>Юриспруденция</td>\n      <td>2300000000000</td>\n      <td>Краснодарский</td>\n      <td>Высшее</td>\n      <td>NaN</td>\n      <td>Российская Федерация</td>\n      <td>Полный рабочий день</td>\n      <td>...</td>\n      <td>20760</td>\n      <td>False</td>\n      <td>NaN</td>\n      <td>True</td>\n      <td>NaN</td>\n      <td>NaN</td>\n      <td>69.0</td>\n      <td>2019-10-10</td>\n      <td>2020-08-25</td>\n      <td>2019-10-11</td>\n    </tr>\n    <tr>\n      <th>4</th>\n      <td>16</td>\n      <td>Персональный менеджер</td>\n      <td>Московская область</td>\n      <td>Финансы, кредит, страхование, пенсионное обесп...</td>\n      <td>5001300100000</td>\n      <td>Красногорск</td>\n      <td>Высшее</td>\n      <td>NaN</td>\n      <td>Российская Федерация</td>\n      <td>Полный рабочий день</td>\n      <td>...</td>\n      <td>70000</td>\n      <td>False</td>\n      <td>False</td>\n      <td>True</td>\n      <td>NaN</td>\n      <td>NaN</td>\n      <td>65.0</td>\n      <td>2020-04-20</td>\n      <td>2020-05-21</td>\n      <td>2020-05-21</td>\n    </tr>\n  </tbody>\n</table>\n<p>5 rows × 24 columns</p>\n</div>"
     },
     "metadata": {},
     "execution_count": 3
    }
   ],
   "source": [
    "test_df = pd.read_csv(raw_data_path / 'test.csv', sep=';')\n",
    "print(len(test_df))\n",
    "test_df.head()"
   ]
  },
  {
   "cell_type": "code",
   "execution_count": 4,
   "metadata": {},
   "outputs": [],
   "source": [
    "train_ids = train_df['id'].tolist()\n",
    "test_ids = test_df['id'].tolist()"
   ]
  },
  {
   "cell_type": "code",
   "execution_count": 5,
   "metadata": {},
   "outputs": [],
   "source": [
    "train_test = pd.concat((train_df, test_df), ignore_index=True)"
   ]
  },
  {
   "cell_type": "code",
   "execution_count": 6,
   "metadata": {},
   "outputs": [
    {
     "output_type": "stream",
     "name": "stdout",
     "text": [
      "Position preprocessed\n",
      "Region preprocessed\n",
      "Industry preprocessed\n",
      "Locality name preprocessed\n",
      "Education preprocessed\n",
      "Drive licenses preprocessed\n",
      "Citizenship preprocessed\n",
      "Schedule preprocessed\n",
      "Employement preprocessed\n",
      "Age preprocessed\n",
      "Gender preprocessed\n",
      "Experience preprocessed\n",
      "Salary desired preprocessed\n",
      "Relocation ready preprocessed\n",
      "Travel ready preprocessed\n",
      "Retraining ready preprocessed\n",
      "Is worldskills participant preprocessed\n",
      "Has qualifications preprocessed\n",
      "Creation date preprocessed\n",
      "Modification date preprocessed\n",
      "Publish date preprocessed\n",
      "Days between preprocessed\n"
     ]
    }
   ],
   "source": [
    "train_test = preprocess_train_test(train_test)"
   ]
  },
  {
   "cell_type": "code",
   "execution_count": 7,
   "metadata": {},
   "outputs": [
    {
     "output_type": "stream",
     "name": "stdout",
     "text": [
      "<class 'pandas.core.frame.DataFrame'>\nRangeIndex: 437529 entries, 0 to 437528\nData columns (total 38 columns):\n #   Column                      Non-Null Count   Dtype         \n---  ------                      --------------   -----         \n 0   id                          437529 non-null  int64         \n 1   region                      437529 non-null  category      \n 2   industry                    437529 non-null  category      \n 3   locality_name               437529 non-null  category      \n 4   education_type              437529 non-null  category      \n 5   citizenship                 437529 non-null  category      \n 6   employement_type            437529 non-null  category      \n 7   age                         437529 non-null  int64         \n 8   gender                      437529 non-null  category      \n 9   experience                  437529 non-null  int64         \n 10  salary_desired              437529 non-null  float64       \n 11  relocation_ready            437529 non-null  category      \n 12  travel_ready                437529 non-null  category      \n 13  retraining_ready            437529 non-null  category      \n 14  is_worldskills_participant  437529 non-null  bool          \n 15  has_qualifications          437529 non-null  bool          \n 16  completeness_rate           437529 non-null  int64         \n 17  publish_date                437529 non-null  datetime64[ns]\n 18  salary                      437529 non-null  float64       \n 19  number_nans                 437529 non-null  int64         \n 20  positions_first             437529 non-null  category      \n 21  positions_second            437529 non-null  category      \n 22  positions_other             437529 non-null  category      \n 23  has_drive                   437529 non-null  bool          \n 24  has_license_A               437529 non-null  bool          \n 25  has_license_B               437529 non-null  bool          \n 26  has_license_C               437529 non-null  bool          \n 27  has_license_D               437529 non-null  bool          \n 28  has_license_E               437529 non-null  bool          \n 29  watch_yes                   437529 non-null  bool          \n 30  flexible_yes                437529 non-null  bool          \n 31  irregular_yes               437529 non-null  bool          \n 32  parttime_yes                437529 non-null  bool          \n 33  fulltime_yes                437529 non-null  bool          \n 34  shift_yes                   437529 non-null  bool          \n 35  days_between_c_m            437529 non-null  int64         \n 36  days_between_m_p            437529 non-null  int64         \n 37  days_between_c_p            437529 non-null  int64         \ndtypes: bool(14), category(13), datetime64[ns](1), float64(2), int64(8)\nmemory usage: 53.6 MB\n"
     ]
    }
   ],
   "source": [
    "train_test.info()"
   ]
  },
  {
   "cell_type": "code",
   "execution_count": 8,
   "metadata": {},
   "outputs": [],
   "source": [
    "train = train_test[train_test['id'].isin(train_ids)].reset_index(drop=True)\n",
    "test = train_test[train_test['id'].isin(test_ids)].reset_index(drop=True)\n",
    "test = test.drop('salary', axis=1)"
   ]
  },
  {
   "cell_type": "code",
   "execution_count": 9,
   "metadata": {},
   "outputs": [],
   "source": [
    "train.to_pickle('../data/interim/train_clean.pkl')\n",
    "test.to_pickle('../data/interim/test_clean.pkl')"
   ]
  },
  {
   "cell_type": "code",
   "execution_count": 7,
   "metadata": {},
   "outputs": [
    {
     "output_type": "display_data",
     "data": {
      "text/plain": "HBox(children=(HTML(value='Summarize dataset'), FloatProgress(value=0.0, max=50.0), HTML(value='')))",
      "application/vnd.jupyter.widget-view+json": {
       "version_major": 2,
       "version_minor": 0,
       "model_id": "34fbf23cc81a4cf6b12ecffed52c2104"
      }
     },
     "metadata": {}
    },
    {
     "output_type": "stream",
     "name": "stdout",
     "text": [
      "\n"
     ]
    },
    {
     "output_type": "display_data",
     "data": {
      "text/plain": "HBox(children=(HTML(value='Generate report structure'), FloatProgress(value=0.0, max=1.0), HTML(value='')))",
      "application/vnd.jupyter.widget-view+json": {
       "version_major": 2,
       "version_minor": 0,
       "model_id": "ff42e1ae787648bfb109f57fdd5e7ac0"
      }
     },
     "metadata": {}
    },
    {
     "output_type": "stream",
     "name": "stdout",
     "text": [
      "\n"
     ]
    },
    {
     "output_type": "display_data",
     "data": {
      "text/plain": "HBox(children=(HTML(value='Render widgets'), FloatProgress(value=0.0, max=1.0), HTML(value='')))",
      "application/vnd.jupyter.widget-view+json": {
       "version_major": 2,
       "version_minor": 0,
       "model_id": "ab911900570342b496f09f7e75a1445d"
      }
     },
     "metadata": {}
    },
    {
     "output_type": "display_data",
     "data": {
      "text/plain": "VBox(children=(Tab(children=(Tab(children=(GridBox(children=(VBox(children=(GridspecLayout(children=(HTML(valu…",
      "application/vnd.jupyter.widget-view+json": {
       "version_major": 2,
       "version_minor": 0,
       "model_id": "61e2fb0708a04e3882b02c6e935886e3"
      }
     },
     "metadata": {}
    }
   ],
   "source": [
    "from pandas_profiling import ProfileReport\n",
    "\n",
    "profile = ProfileReport(train_test, title=\"Pandas Profiling Report\")\n",
    "profile.to_widgets()"
   ]
  },
  {
   "cell_type": "code",
   "execution_count": 3,
   "metadata": {},
   "outputs": [
    {
     "output_type": "stream",
     "name": "stdout",
     "text": [
      "375364\n"
     ]
    },
    {
     "output_type": "execute_result",
     "data": {
      "text/plain": [
       "   id  graduation_year                                        institution  \\\n",
       "0   0           2022.0             \"Тульский государственный университет\"   \n",
       "1   1           2016.0   \"Алтайский государственный аграрный университет\"   \n",
       "2   2           2014.0  \"Алтайский государственный технический универс...   \n",
       "3   3           2003.0       ГОУ СПО ДИМИТРОВГРАДСКИЙ ТЕХНИЧЕСКИЙ КОЛЛЕДЖ   \n",
       "4   4           2005.0     Нижнетагильский торгово-экономический техникум   \n",
       "\n",
       "  description  \n",
       "0         NaN  \n",
       "1         NaN  \n",
       "2         NaN  \n",
       "3         NaN  \n",
       "4         NaN  "
      ],
      "text/html": "<div>\n<style scoped>\n    .dataframe tbody tr th:only-of-type {\n        vertical-align: middle;\n    }\n\n    .dataframe tbody tr th {\n        vertical-align: top;\n    }\n\n    .dataframe thead th {\n        text-align: right;\n    }\n</style>\n<table border=\"1\" class=\"dataframe\">\n  <thead>\n    <tr style=\"text-align: right;\">\n      <th></th>\n      <th>id</th>\n      <th>graduation_year</th>\n      <th>institution</th>\n      <th>description</th>\n    </tr>\n  </thead>\n  <tbody>\n    <tr>\n      <th>0</th>\n      <td>0</td>\n      <td>2022.0</td>\n      <td>\"Тульский государственный университет\"</td>\n      <td>NaN</td>\n    </tr>\n    <tr>\n      <th>1</th>\n      <td>1</td>\n      <td>2016.0</td>\n      <td>\"Алтайский государственный аграрный университет\"</td>\n      <td>NaN</td>\n    </tr>\n    <tr>\n      <th>2</th>\n      <td>2</td>\n      <td>2014.0</td>\n      <td>\"Алтайский государственный технический универс...</td>\n      <td>NaN</td>\n    </tr>\n    <tr>\n      <th>3</th>\n      <td>3</td>\n      <td>2003.0</td>\n      <td>ГОУ СПО ДИМИТРОВГРАДСКИЙ ТЕХНИЧЕСКИЙ КОЛЛЕДЖ</td>\n      <td>NaN</td>\n    </tr>\n    <tr>\n      <th>4</th>\n      <td>4</td>\n      <td>2005.0</td>\n      <td>Нижнетагильский торгово-экономический техникум</td>\n      <td>NaN</td>\n    </tr>\n  </tbody>\n</table>\n</div>"
     },
     "metadata": {},
     "execution_count": 3
    }
   ],
   "source": [
    "edu_df = pd.read_csv(raw_data_path / 'education_ьгде.csv', sep=';')\n",
    "print(len(edu_df))\n",
    "edu_df.head()"
   ]
  },
  {
   "cell_type": "code",
   "execution_count": 4,
   "metadata": {},
   "outputs": [
    {
     "output_type": "stream",
     "name": "stdout",
     "text": [
      "343328\n"
     ]
    },
    {
     "output_type": "execute_result",
     "data": {
      "text/plain": [
       "   id                                    position  \\\n",
       "0   0                                         NaN   \n",
       "1   1                         Копирайтер/рерайтер   \n",
       "2   2                                      стажер   \n",
       "3   3                                 Консультант   \n",
       "4   4  Старший специалист по привлечению клиентов   \n",
       "\n",
       "                                            employer  \\\n",
       "0                                      ПАО \"МегаФон\"   \n",
       "1                                     WorkHardOnline   \n",
       "2  Комитет по управлению муниципальной собственно...   \n",
       "3                                     ПАО Почта Банк   \n",
       "4                                ОАО Банк \"Открытие\"   \n",
       "\n",
       "                     achievements  \\\n",
       "0                             NaN   \n",
       "1                             NaN   \n",
       "2                             NaN   \n",
       "3                             NaN   \n",
       "4  <p>Расширила базу клиентов</p>   \n",
       "\n",
       "                                    responsibilities  start_date finish_date  \n",
       "0  <p>Консультирование клиентов по телефону. Прод...  2019-06-01  2020-04-01  \n",
       "1  <p><strong>✑</strong><strong>Фриланс</strong><...  2019-10-01         NaN  \n",
       "2  <p>Прохождение производственной практики (30.0...  2014-06-01  2014-07-01  \n",
       "3    <p>Работа с клиентами, оформление договоров</p>  2016-04-01         NaN  \n",
       "4  <p>Обслуживание физических лиц, активное привл...  2011-07-01  2013-01-01  "
      ],
      "text/html": "<div>\n<style scoped>\n    .dataframe tbody tr th:only-of-type {\n        vertical-align: middle;\n    }\n\n    .dataframe tbody tr th {\n        vertical-align: top;\n    }\n\n    .dataframe thead th {\n        text-align: right;\n    }\n</style>\n<table border=\"1\" class=\"dataframe\">\n  <thead>\n    <tr style=\"text-align: right;\">\n      <th></th>\n      <th>id</th>\n      <th>position</th>\n      <th>employer</th>\n      <th>achievements</th>\n      <th>responsibilities</th>\n      <th>start_date</th>\n      <th>finish_date</th>\n    </tr>\n  </thead>\n  <tbody>\n    <tr>\n      <th>0</th>\n      <td>0</td>\n      <td>NaN</td>\n      <td>ПАО \"МегаФон\"</td>\n      <td>NaN</td>\n      <td>&lt;p&gt;Консультирование клиентов по телефону. Прод...</td>\n      <td>2019-06-01</td>\n      <td>2020-04-01</td>\n    </tr>\n    <tr>\n      <th>1</th>\n      <td>1</td>\n      <td>Копирайтер/рерайтер</td>\n      <td>WorkHardOnline</td>\n      <td>NaN</td>\n      <td>&lt;p&gt;&lt;strong&gt;✑&lt;/strong&gt;&lt;strong&gt;Фриланс&lt;/strong&gt;&lt;...</td>\n      <td>2019-10-01</td>\n      <td>NaN</td>\n    </tr>\n    <tr>\n      <th>2</th>\n      <td>2</td>\n      <td>стажер</td>\n      <td>Комитет по управлению муниципальной собственно...</td>\n      <td>NaN</td>\n      <td>&lt;p&gt;Прохождение производственной практики (30.0...</td>\n      <td>2014-06-01</td>\n      <td>2014-07-01</td>\n    </tr>\n    <tr>\n      <th>3</th>\n      <td>3</td>\n      <td>Консультант</td>\n      <td>ПАО Почта Банк</td>\n      <td>NaN</td>\n      <td>&lt;p&gt;Работа с клиентами, оформление договоров&lt;/p&gt;</td>\n      <td>2016-04-01</td>\n      <td>NaN</td>\n    </tr>\n    <tr>\n      <th>4</th>\n      <td>4</td>\n      <td>Старший специалист по привлечению клиентов</td>\n      <td>ОАО Банк \"Открытие\"</td>\n      <td>&lt;p&gt;Расширила базу клиентов&lt;/p&gt;</td>\n      <td>&lt;p&gt;Обслуживание физических лиц, активное привл...</td>\n      <td>2011-07-01</td>\n      <td>2013-01-01</td>\n    </tr>\n  </tbody>\n</table>\n</div>"
     },
     "metadata": {},
     "execution_count": 4
    }
   ],
   "source": [
    "employements_df = pd.read_csv(raw_data_path / 'employements.csv', sep=';')\n",
    "print(len(employements_df))\n",
    "employements_df.head()"
   ]
  },
  {
   "cell_type": "code",
   "execution_count": 5,
   "metadata": {},
   "outputs": [
    {
     "output_type": "stream",
     "name": "stdout",
     "text": [
      "1322\n"
     ]
    },
    {
     "output_type": "execute_result",
     "data": {
      "text/plain": [
       "     id                      status code is_international  \\\n",
       "0   166         Данные подтверждены   R4            False   \n",
       "1   425  Данные в процессе проверки   17             True   \n",
       "2   498  Данные в процессе проверки   33             True   \n",
       "3   596  Данные в процессе проверки  R45            False   \n",
       "4  1256  Данные в процессе проверки  NaN              NaN   \n",
       "\n",
       "                     int_name  \\\n",
       "0         Preschool Education   \n",
       "1  Web Design and Development   \n",
       "2       Automobile Technology   \n",
       "3                         NaN   \n",
       "4                         NaN   \n",
       "\n",
       "                                             ru_name  \n",
       "0                              Дошкольное воспитание  \n",
       "1                            Веб-дизайн и разработка  \n",
       "2         Ремонт и обслуживание легковых автомобилей  \n",
       "3  Специалист по организационному и документацион...  \n",
       "4                                                NaN  "
      ],
      "text/html": "<div>\n<style scoped>\n    .dataframe tbody tr th:only-of-type {\n        vertical-align: middle;\n    }\n\n    .dataframe tbody tr th {\n        vertical-align: top;\n    }\n\n    .dataframe thead th {\n        text-align: right;\n    }\n</style>\n<table border=\"1\" class=\"dataframe\">\n  <thead>\n    <tr style=\"text-align: right;\">\n      <th></th>\n      <th>id</th>\n      <th>status</th>\n      <th>code</th>\n      <th>is_international</th>\n      <th>int_name</th>\n      <th>ru_name</th>\n    </tr>\n  </thead>\n  <tbody>\n    <tr>\n      <th>0</th>\n      <td>166</td>\n      <td>Данные подтверждены</td>\n      <td>R4</td>\n      <td>False</td>\n      <td>Preschool Education</td>\n      <td>Дошкольное воспитание</td>\n    </tr>\n    <tr>\n      <th>1</th>\n      <td>425</td>\n      <td>Данные в процессе проверки</td>\n      <td>17</td>\n      <td>True</td>\n      <td>Web Design and Development</td>\n      <td>Веб-дизайн и разработка</td>\n    </tr>\n    <tr>\n      <th>2</th>\n      <td>498</td>\n      <td>Данные в процессе проверки</td>\n      <td>33</td>\n      <td>True</td>\n      <td>Automobile Technology</td>\n      <td>Ремонт и обслуживание легковых автомобилей</td>\n    </tr>\n    <tr>\n      <th>3</th>\n      <td>596</td>\n      <td>Данные в процессе проверки</td>\n      <td>R45</td>\n      <td>False</td>\n      <td>NaN</td>\n      <td>Специалист по организационному и документацион...</td>\n    </tr>\n    <tr>\n      <th>4</th>\n      <td>1256</td>\n      <td>Данные в процессе проверки</td>\n      <td>NaN</td>\n      <td>NaN</td>\n      <td>NaN</td>\n      <td>NaN</td>\n    </tr>\n  </tbody>\n</table>\n</div>"
     },
     "metadata": {},
     "execution_count": 5
    }
   ],
   "source": [
    "ws_df = pd.read_csv(raw_data_path / 'worldskills.csv', sep=';')\n",
    "print(len(ws_df))\n",
    "ws_df.head()"
   ]
  },
  {
   "cell_type": "code",
   "execution_count": 6,
   "metadata": {},
   "outputs": [],
   "source": [
    "full_train = pd.merge(train_df, edu_df, how='left', on='id')\n",
    "full_train = pd.merge(full_train, employements_df, how='left', on='id')\n",
    "full_train = pd.merge(full_train, ws_df, how='left', on='id')"
   ]
  },
  {
   "cell_type": "code",
   "execution_count": 7,
   "metadata": {},
   "outputs": [],
   "source": [
    "from pandas_profiling import ProfileReport\n",
    "\n",
    "profile = ProfileReport(full_train, title=\"Pandas Profiling Report\")"
   ]
  },
  {
   "cell_type": "code",
   "execution_count": 8,
   "metadata": {},
   "outputs": [
    {
     "output_type": "display_data",
     "data": {
      "text/plain": "HBox(children=(HTML(value='Summarize dataset'), FloatProgress(value=0.0, max=53.0), HTML(value='')))",
      "application/vnd.jupyter.widget-view+json": {
       "version_major": 2,
       "version_minor": 0,
       "model_id": "7ece1139687644f09d140278ce51a126"
      }
     },
     "metadata": {}
    },
    {
     "output_type": "stream",
     "name": "stdout",
     "text": [
      "\n"
     ]
    },
    {
     "output_type": "display_data",
     "data": {
      "text/plain": "HBox(children=(HTML(value='Generate report structure'), FloatProgress(value=0.0, max=1.0), HTML(value='')))",
      "application/vnd.jupyter.widget-view+json": {
       "version_major": 2,
       "version_minor": 0,
       "model_id": "083308ce548d49eea5fe1f173748130d"
      }
     },
     "metadata": {}
    },
    {
     "output_type": "stream",
     "name": "stdout",
     "text": [
      "\n"
     ]
    },
    {
     "output_type": "display_data",
     "data": {
      "text/plain": "HBox(children=(HTML(value='Render widgets'), FloatProgress(value=0.0, max=1.0), HTML(value='')))",
      "application/vnd.jupyter.widget-view+json": {
       "version_major": 2,
       "version_minor": 0,
       "model_id": "17dac6e7611d41958855208c23c4476e"
      }
     },
     "metadata": {}
    },
    {
     "output_type": "display_data",
     "data": {
      "text/plain": "VBox(children=(Tab(children=(Tab(children=(GridBox(children=(VBox(children=(GridspecLayout(children=(HTML(valu…",
      "application/vnd.jupyter.widget-view+json": {
       "version_major": 2,
       "version_minor": 0,
       "model_id": "b0fba405d1c44e0aaf5270351c44159a"
      }
     },
     "metadata": {}
    }
   ],
   "source": [
    "profile.to_widgets()"
   ]
  },
  {
   "cell_type": "code",
   "execution_count": null,
   "metadata": {},
   "outputs": [],
   "source": []
  }
 ]
}