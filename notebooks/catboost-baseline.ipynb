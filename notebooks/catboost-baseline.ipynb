{
 "cells": [
  {
   "cell_type": "code",
   "execution_count": 1,
   "metadata": {},
   "outputs": [],
   "source": [
    "import random\n",
    "import numpy as np\n",
    "import pandas as pd\n",
    "from catboost import CatBoostRegressor, CatBoostClassifier\n",
    "from sklearn.model_selection import StratifiedKFold\n",
    "from pathlib import Path"
   ]
  },
  {
   "cell_type": "code",
   "execution_count": 4,
   "metadata": {},
   "outputs": [],
   "source": [
    "SEED = 14300631\n",
    "N_FOLDS = 5"
   ]
  },
  {
   "cell_type": "code",
   "execution_count": 5,
   "metadata": {},
   "outputs": [],
   "source": [
    "random.seed(SEED)\n",
    "np.random.seed(SEED)"
   ]
  },
  {
   "cell_type": "code",
   "execution_count": 6,
   "metadata": {},
   "outputs": [],
   "source": [
    "train = pd.read_pickle('../data/preprocessed/train_final.pkl')\n",
    "test = pd.read_pickle('../data/preprocessed/test_final.pkl')"
   ]
  },
  {
   "cell_type": "code",
   "execution_count": 7,
   "metadata": {},
   "outputs": [
    {
     "name": "stdout",
     "output_type": "stream",
     "text": [
      "<class 'pandas.core.frame.DataFrame'>\n",
      "RangeIndex: 306270 entries, 0 to 306269\n",
      "Columns: 470 entries, id to position_clean_99\n",
      "dtypes: bool(17), category(14), datetime64[ns](1), float32(400), float64(15), int64(23)\n",
      "memory usage: 571.8 MB\n"
     ]
    }
   ],
   "source": [
    "train.info()"
   ]
  },
  {
   "cell_type": "code",
   "execution_count": 8,
   "metadata": {},
   "outputs": [
    {
     "name": "stdout",
     "output_type": "stream",
     "text": [
      "<class 'pandas.core.frame.DataFrame'>\n",
      "RangeIndex: 131259 entries, 0 to 131258\n",
      "Columns: 469 entries, id to position_clean_99\n",
      "dtypes: bool(17), category(14), datetime64[ns](1), float32(400), float64(14), int64(23)\n",
      "memory usage: 245.0 MB\n"
     ]
    }
   ],
   "source": [
    "test.info()"
   ]
  },
  {
   "cell_type": "code",
   "execution_count": 9,
   "metadata": {},
   "outputs": [],
   "source": [
    "X_test = test.drop(['id', 'publish_date', 'publish_year'], axis=1)\n",
    "train = train.drop(['id', 'publish_date'], axis=1)"
   ]
  },
  {
   "cell_type": "code",
   "execution_count": 10,
   "metadata": {
    "tags": []
   },
   "outputs": [
    {
     "name": "stdout",
     "output_type": "stream",
     "text": [
      "--------- Train zeros classifier ---------\n",
      "0:\tlearn: 0.5814150\ttotal: 46ms\tremaining: 6.98s\n",
      "152:\tlearn: 0.0368327\ttotal: 5.9s\tremaining: 0us\n",
      "--------- Train regressor ---------\n",
      "0:\tlearn: 0.5844261\ttotal: 74.1ms\tremaining: 5m 11s\n",
      "250:\tlearn: 0.3811674\ttotal: 12.4s\tremaining: 3m 14s\n",
      "500:\tlearn: 0.3537467\ttotal: 23.9s\tremaining: 2m 56s\n",
      "750:\tlearn: 0.3288636\ttotal: 36.2s\tremaining: 2m 46s\n",
      "1000:\tlearn: 0.3060553\ttotal: 48.6s\tremaining: 2m 35s\n",
      "1250:\tlearn: 0.2859334\ttotal: 1m 1s\tremaining: 2m 24s\n",
      "1500:\tlearn: 0.2672285\ttotal: 1m 14s\tremaining: 2m 13s\n",
      "1750:\tlearn: 0.2503100\ttotal: 1m 27s\tremaining: 2m 2s\n",
      "2000:\tlearn: 0.2351839\ttotal: 1m 40s\tremaining: 1m 50s\n",
      "2250:\tlearn: 0.2214685\ttotal: 1m 53s\tremaining: 1m 38s\n",
      "2500:\tlearn: 0.2081780\ttotal: 2m 7s\tremaining: 1m 26s\n",
      "2750:\tlearn: 0.1961402\ttotal: 2m 20s\tremaining: 1m 14s\n",
      "3000:\tlearn: 0.1849097\ttotal: 2m 34s\tremaining: 1m 1s\n",
      "3250:\tlearn: 0.1744188\ttotal: 2m 47s\tremaining: 48.9s\n",
      "3500:\tlearn: 0.1648196\ttotal: 3m 1s\tremaining: 36.2s\n",
      "3750:\tlearn: 0.1556641\ttotal: 3m 14s\tremaining: 23.3s\n",
      "4000:\tlearn: 0.1470158\ttotal: 3m 28s\tremaining: 10.4s\n",
      "4199:\tlearn: 0.1405561\ttotal: 3m 39s\tremaining: 0us\n"
     ]
    }
   ],
   "source": [
    "from sklearn.metrics import mean_squared_error\n",
    "\n",
    "\n",
    "X_train = train.drop(['publish_year', 'salary'], axis=1)\n",
    "y_train = train['salary']\n",
    "\n",
    "cat_features = X_train.select_dtypes('category').columns.values\n",
    "# 1st model - zeros classifier\n",
    "y_clf_train = (y_train > 0).astype('int')\n",
    "\n",
    "clf_model = CatBoostClassifier(\n",
    "    iterations=153,\n",
    "    random_seed=SEED,\n",
    "    task_type='GPU',\n",
    "    learning_rate=0.04757119641099874,\n",
    "    l2_leaf_reg=7.5608065020565025,\n",
    "    bootstrap_type='Bayesian',\n",
    "    depth=10,\n",
    "    grow_policy='Depthwise',\n",
    "    one_hot_max_size=2,\n",
    "    nan_mode='Max',\n",
    "    border_count=64,\n",
    "    bagging_temperature=1.5892818323044354,\n",
    "    min_data_in_leaf=1,\n",
    ")\n",
    "print('--------- Train zeros classifier ---------')\n",
    "clf_model.fit(\n",
    "    X_train,\n",
    "    y_clf_train,\n",
    "    cat_features=cat_features,\n",
    "    verbose_eval=250,\n",
    ")\n",
    "# 2nd model - regressor\n",
    "X_reg_train = X_train[y_train > 0]\n",
    "y_reg_train = y_train[y_train > 0]\n",
    "reg_model = CatBoostRegressor(\n",
    "    iterations=4200,\n",
    "    random_seed=SEED,\n",
    "    task_type='GPU',\n",
    "    learning_rate=0.0647310802468728,\n",
    "    l2_leaf_reg=7.5608065020565025,\n",
    "    bootstrap_type='Bayesian',\n",
    "    depth=10,\n",
    "    grow_policy='Depthwise',\n",
    "    one_hot_max_size=2,\n",
    "    nan_mode='Max',\n",
    "    border_count=64,\n",
    "    bagging_temperature=1.5892818323044354,\n",
    "    min_data_in_leaf=1,\n",
    ")\n",
    "print('--------- Train regressor ---------')\n",
    "reg_model.fit(\n",
    "    X_reg_train,\n",
    "    y_reg_train,\n",
    "    cat_features=cat_features,\n",
    "    verbose_eval=250,\n",
    ")\n",
    "test_zero_probes = clf_model.predict_proba(X_test)[:, 1]\n",
    "y_test_reg = reg_model.predict(X_test)\n",
    "test_predictions = np.exp(y_test_reg * test_zero_probes) - 1"
   ]
  },
  {
   "cell_type": "code",
   "execution_count": 14,
   "metadata": {},
   "outputs": [],
   "source": [
    "submit = pd.DataFrame({\n",
    "    'id': test['id'],\n",
    "    'salary': test_predictions,\n",
    "})"
   ]
  },
  {
   "cell_type": "code",
   "execution_count": 15,
   "metadata": {},
   "outputs": [
    {
     "data": {
      "text/html": [
       "<div>\n",
       "<style scoped>\n",
       "    .dataframe tbody tr th:only-of-type {\n",
       "        vertical-align: middle;\n",
       "    }\n",
       "\n",
       "    .dataframe tbody tr th {\n",
       "        vertical-align: top;\n",
       "    }\n",
       "\n",
       "    .dataframe thead th {\n",
       "        text-align: right;\n",
       "    }\n",
       "</style>\n",
       "<table border=\"1\" class=\"dataframe\">\n",
       "  <thead>\n",
       "    <tr style=\"text-align: right;\">\n",
       "      <th></th>\n",
       "      <th>id</th>\n",
       "      <th>salary</th>\n",
       "    </tr>\n",
       "  </thead>\n",
       "  <tbody>\n",
       "    <tr>\n",
       "      <th>count</th>\n",
       "      <td>131259.000000</td>\n",
       "      <td>131259.000000</td>\n",
       "    </tr>\n",
       "    <tr>\n",
       "      <th>mean</th>\n",
       "      <td>218912.071987</td>\n",
       "      <td>34581.253842</td>\n",
       "    </tr>\n",
       "    <tr>\n",
       "      <th>std</th>\n",
       "      <td>126301.758751</td>\n",
       "      <td>18448.246242</td>\n",
       "    </tr>\n",
       "    <tr>\n",
       "      <th>min</th>\n",
       "      <td>2.000000</td>\n",
       "      <td>13.896539</td>\n",
       "    </tr>\n",
       "    <tr>\n",
       "      <th>25%</th>\n",
       "      <td>109499.000000</td>\n",
       "      <td>22697.887759</td>\n",
       "    </tr>\n",
       "    <tr>\n",
       "      <th>50%</th>\n",
       "      <td>218986.000000</td>\n",
       "      <td>29275.223192</td>\n",
       "    </tr>\n",
       "    <tr>\n",
       "      <th>75%</th>\n",
       "      <td>328305.500000</td>\n",
       "      <td>40297.366372</td>\n",
       "    </tr>\n",
       "    <tr>\n",
       "      <th>max</th>\n",
       "      <td>437528.000000</td>\n",
       "      <td>301135.728827</td>\n",
       "    </tr>\n",
       "  </tbody>\n",
       "</table>\n",
       "</div>"
      ],
      "text/plain": [
       "                  id         salary\n",
       "count  131259.000000  131259.000000\n",
       "mean   218912.071987   34581.253842\n",
       "std    126301.758751   18448.246242\n",
       "min         2.000000      13.896539\n",
       "25%    109499.000000   22697.887759\n",
       "50%    218986.000000   29275.223192\n",
       "75%    328305.500000   40297.366372\n",
       "max    437528.000000  301135.728827"
      ]
     },
     "execution_count": 15,
     "metadata": {},
     "output_type": "execute_result"
    }
   ],
   "source": [
    "submit.describe()"
   ]
  },
  {
   "cell_type": "code",
   "execution_count": 16,
   "metadata": {},
   "outputs": [],
   "source": [
    "submit.to_csv('../submits/catboost-optuna-final.csv', index=False)"
   ]
  },
  {
   "cell_type": "code",
   "execution_count": 13,
   "metadata": {},
   "outputs": [
    {
     "data": {
      "text/plain": [
       "array([22697.19481817, 50636.99456966, 31264.37598074, ...,\n",
       "       39634.71558829, 33293.84812411, 24420.5652425 ])"
      ]
     },
     "execution_count": 13,
     "metadata": {},
     "output_type": "execute_result"
    }
   ],
   "source": [
    "test_predictions"
   ]
  },
  {
   "cell_type": "code",
   "execution_count": null,
   "metadata": {},
   "outputs": [],
   "source": []
  }
 ],
 "metadata": {
  "kernelspec": {
   "display_name": "Python 3",
   "language": "python",
   "name": "python3"
  },
  "language_info": {
   "codemirror_mode": {
    "name": "ipython",
    "version": 3
   },
   "file_extension": ".py",
   "mimetype": "text/x-python",
   "name": "python",
   "nbconvert_exporter": "python",
   "pygments_lexer": "ipython3",
   "version": "3.6.10"
  }
 },
 "nbformat": 4,
 "nbformat_minor": 2
}
