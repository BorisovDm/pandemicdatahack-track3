{
 "metadata": {
  "language_info": {
   "codemirror_mode": {
    "name": "ipython",
    "version": 3
   },
   "file_extension": ".py",
   "mimetype": "text/x-python",
   "name": "python",
   "nbconvert_exporter": "python",
   "pygments_lexer": "ipython3",
   "version": "3.7.9-final"
  },
  "orig_nbformat": 2,
  "kernelspec": {
   "name": "python3",
   "display_name": "Python 3.7.9 64-bit ('pdh3': conda)",
   "metadata": {
    "interpreter": {
     "hash": "23ef1c5d0bfaeb9afee084a81c60230b790066b271fea1960d23e25256463ab8"
    }
   }
  }
 },
 "nbformat": 4,
 "nbformat_minor": 2,
 "cells": [
  {
   "cell_type": "code",
   "execution_count": 1,
   "metadata": {},
   "outputs": [],
   "source": [
    "import random\n",
    "import numpy as np\n",
    "import pandas as pd\n",
    "from catboost import CatBoostRegressor, CatBoostClassifier\n",
    "from sklearn.model_selection import StratifiedKFold\n",
    "from pathlib import Path"
   ]
  },
  {
   "cell_type": "code",
   "execution_count": 2,
   "metadata": {},
   "outputs": [],
   "source": [
    "SEED = 14300631\n",
    "N_FOLDS = 5"
   ]
  },
  {
   "cell_type": "code",
   "execution_count": 3,
   "metadata": {},
   "outputs": [],
   "source": [
    "random.seed(SEED)\n",
    "np.random.seed(SEED)"
   ]
  },
  {
   "cell_type": "code",
   "execution_count": 4,
   "metadata": {},
   "outputs": [],
   "source": [
    "# raw_data_dir = Path('../data/raw')\n",
    "# raw_train = pd.read_csv(raw_data_dir / 'train.csv', sep=';')\n",
    "# raw_test = pd.read_csv(raw_data_dir / 'test.csv', sep=';')\n",
    "# raw_education = pd.read_csv(raw_data_dir / 'education.csv', sep=';')\n",
    "# raw_employements = pd.read_csv(raw_data_dir / 'employements.csv', sep=';')\n",
    "# raw_worldskills = pd.read_csv(raw_data_dir / 'worldskills.csv', sep=';')\n",
    "train = pd.read_pickle('../data/interim/train_clean.pkl')\n",
    "test = pd.read_pickle('../data/interim/test_clean.pkl')\n",
    "# train_test_clean = pd.read_csv('../data/interim/train_test_clean.csv', parse_dates=['publish_date'], keep_default_na=False)"
   ]
  },
  {
   "cell_type": "code",
   "execution_count": 7,
   "metadata": {},
   "outputs": [],
   "source": [
    "train['publish_year'] = train['publish_date'].dt.year\n",
    "train = train.drop('publish_date', axis=1)\n",
    "test = test.drop('publish_date', axis=1)"
   ]
  },
  {
   "cell_type": "code",
   "execution_count": 7,
   "metadata": {},
   "outputs": [],
   "source": [
    "# def preprocess_education(df):\n",
    "#     df['institution'] = df['institution'].str.lower().str.replace('\\\"', '')\n",
    "#     df = df.drop('description', axis=1)\n",
    "#     return df"
   ]
  },
  {
   "cell_type": "code",
   "execution_count": 8,
   "metadata": {},
   "outputs": [],
   "source": [
    "# def preprocess_employements(df):\n",
    "#     df['employer'] = df['employer'].str.lower().str.replace('\\\"', '').fillna('N/A').astype('category')\n",
    "#     df['position'] = df['position'].str.lower().str.replace('\\\"', '').fillna('N/A').astype('category')\n",
    "#     df['start_date'] = pd.to_datetime(df['start_date'], errors='coerce')\n",
    "#     df['finish_date'] = pd.to_datetime(df['finish_date'], errors='coerce')\n",
    "#     df['work_duration'] = df['finish_date'] - df['start_date']\n",
    "#     df['work_duration'] = df['work_duration'].dt.days\n",
    "#     df = df.drop(['achievements', 'responsibilities', 'start_date', 'finish_date'], axis=1)\n",
    "#     return df"
   ]
  },
  {
   "cell_type": "code",
   "execution_count": 9,
   "metadata": {},
   "outputs": [],
   "source": [
    "# def preprocess_worldskills(df):\n",
    "#     df['status'] = df['status'].fillna('N/A').astype('category')\n",
    "#     df['int_name'] = df['int_name'].fillna('N/A').astype('category')\n",
    "#     df['ru_name'] = df['ru_name'].fillna('N/A').astype('category')\n",
    "#     df['code'] = df['code'].fillna('N/A').astype('category')\n",
    "#     df['is_international'] = df['is_international'].fillna('N/A').astype('category')\n",
    "#     return df"
   ]
  },
  {
   "cell_type": "code",
   "execution_count": 10,
   "metadata": {},
   "outputs": [],
   "source": [
    "# def postprocess_megred_dataset(df):\n",
    "#     df['graduation_year'] = df['graduation_year'].fillna(-1).astype('int').astype('category')\n",
    "#     df['institution'] = df['institution'].fillna('N/A').astype('category')\n",
    "#     df['employer'] = df['employer'].fillna('N/A').astype('category')\n",
    "#     df['position'] = df['position'].fillna('N/A').astype('category')\n",
    "#     return df"
   ]
  },
  {
   "cell_type": "code",
   "execution_count": 11,
   "metadata": {},
   "outputs": [],
   "source": [
    "# train = preprocess_train_test(raw_train)\n",
    "# test = preprocess_train_test(raw_test)\n",
    "# education = preprocess_education(raw_education)\n",
    "# employements = preprocess_employements(raw_employements)\n",
    "# # worldskills = preprocess_worldskills(raw_worldskills)"
   ]
  },
  {
   "cell_type": "code",
   "execution_count": 12,
   "metadata": {},
   "outputs": [],
   "source": [
    "# full_train = pd.merge(train, education, how='left', on='id')\n",
    "# full_train = pd.merge(full_train, employements, how='left', on='id')\n",
    "# # full_train = pd.merge(full_train, worldskills, how='left', on='id')\n",
    "# full_train = postprocess_megred_dataset(full_train)"
   ]
  },
  {
   "cell_type": "code",
   "execution_count": 13,
   "metadata": {},
   "outputs": [],
   "source": [
    "# full_test = pd.merge(test, education, how='left', on='id')\n",
    "# full_test = pd.merge(full_test, employements, how='left', on='id')\n",
    "# # full_test = pd.merge(full_test, worldskills, how='left', on='id')\n",
    "# full_test = postprocess_megred_dataset(full_test)"
   ]
  },
  {
   "cell_type": "code",
   "execution_count": 8,
   "metadata": {},
   "outputs": [],
   "source": [
    "X_test = test.drop('id', axis=1)\n",
    "train = train.drop('id', axis=1)"
   ]
  },
  {
   "cell_type": "code",
   "execution_count": 9,
   "metadata": {},
   "outputs": [],
   "source": [
    "skf = StratifiedKFold(n_splits=N_FOLDS, shuffle=True, random_state=SEED)"
   ]
  },
  {
   "cell_type": "code",
   "execution_count": 10,
   "metadata": {
    "tags": []
   },
   "outputs": [
    {
     "output_type": "stream",
     "name": "stdout",
     "text": [
      "--------- Train zeros classifier ---------\n",
      "Learning rate set to 0.033482\n",
      "0:\tlearn: 0.6164779\ttest: 0.6161844\tbest: 0.6161844 (0)\ttotal: 32.9ms\tremaining: 1m 5s\n",
      "250:\tlearn: 0.0423027\ttest: 0.0425762\tbest: 0.0425762 (250)\ttotal: 7.21s\tremaining: 50.3s\n",
      "500:\tlearn: 0.0414173\ttest: 0.0421593\tbest: 0.0421585 (498)\ttotal: 14.4s\tremaining: 43.1s\n",
      "750:\tlearn: 0.0407736\ttest: 0.0420138\tbest: 0.0420138 (750)\ttotal: 21.5s\tremaining: 35.8s\n",
      "1000:\tlearn: 0.0401758\ttest: 0.0419619\tbest: 0.0419500 (978)\ttotal: 28.7s\tremaining: 28.6s\n",
      "1250:\tlearn: 0.0396179\ttest: 0.0418936\tbest: 0.0418934 (1249)\ttotal: 35.9s\tremaining: 21.5s\n",
      "1500:\tlearn: 0.0390901\ttest: 0.0419155\tbest: 0.0418872 (1258)\ttotal: 43.3s\tremaining: 14.4s\n",
      "1750:\tlearn: 0.0385957\ttest: 0.0419218\tbest: 0.0418872 (1258)\ttotal: 50.7s\tremaining: 7.21s\n",
      "1999:\tlearn: 0.0380507\ttest: 0.0419529\tbest: 0.0418872 (1258)\ttotal: 58s\tremaining: 0us\n",
      "bestTest = 0.04188718001\n",
      "bestIteration = 1258\n",
      "Shrink model to first 1259 iterations.\n",
      "--------- Train regressor ---------\n",
      "Learning rate set to 0.068579\n",
      "0:\tlearn: 0.5967093\ttest: 0.5937022\tbest: 0.5937022 (0)\ttotal: 24.4ms\tremaining: 48.8s\n",
      "250:\tlearn: 0.4427084\ttest: 0.4383765\tbest: 0.4383765 (250)\ttotal: 5.83s\tremaining: 40.6s\n",
      "500:\tlearn: 0.4390076\ttest: 0.4355059\tbest: 0.4355059 (500)\ttotal: 11.7s\tremaining: 34.9s\n",
      "750:\tlearn: 0.4387973\ttest: 0.4353944\tbest: 0.4353944 (750)\ttotal: 17s\tremaining: 28.2s\n",
      "1000:\tlearn: 0.4387968\ttest: 0.4353932\tbest: 0.4353931 (957)\ttotal: 22.2s\tremaining: 22.2s\n",
      "1250:\tlearn: 0.4387969\ttest: 0.4353934\tbest: 0.4353931 (957)\ttotal: 27.4s\tremaining: 16.4s\n",
      "1500:\tlearn: 0.4387968\ttest: 0.4353934\tbest: 0.4353931 (957)\ttotal: 32.4s\tremaining: 10.8s\n",
      "1750:\tlearn: 0.4387968\ttest: 0.4353935\tbest: 0.4353931 (957)\ttotal: 37.6s\tremaining: 5.34s\n",
      "1999:\tlearn: 0.4387968\ttest: 0.4353935\tbest: 0.4353931 (957)\ttotal: 42.7s\tremaining: 0us\n",
      "bestTest = 0.4353931164\n",
      "bestIteration = 957\n",
      "Shrink model to first 958 iterations.\n",
      "Fold 1:: RMSLE = 1.0102355873330415\n",
      "--------- Train zeros classifier ---------\n",
      "Learning rate set to 0.033482\n",
      "0:\tlearn: 0.6166604\ttest: 0.6164863\tbest: 0.6164863 (0)\ttotal: 28.9ms\tremaining: 57.9s\n",
      "250:\tlearn: 0.0424535\ttest: 0.0426292\tbest: 0.0426292 (250)\ttotal: 7.37s\tremaining: 51.4s\n",
      "500:\tlearn: 0.0415639\ttest: 0.0422980\tbest: 0.0422948 (479)\ttotal: 14.7s\tremaining: 44.1s\n",
      "750:\tlearn: 0.0409293\ttest: 0.0421067\tbest: 0.0421051 (748)\ttotal: 22s\tremaining: 36.6s\n",
      "1000:\tlearn: 0.0403433\ttest: 0.0419858\tbest: 0.0419858 (1000)\ttotal: 29.4s\tremaining: 29.3s\n",
      "1250:\tlearn: 0.0397438\ttest: 0.0419265\tbest: 0.0419255 (1222)\ttotal: 36.8s\tremaining: 22s\n",
      "1500:\tlearn: 0.0392467\ttest: 0.0418780\tbest: 0.0418780 (1499)\ttotal: 44.2s\tremaining: 14.7s\n",
      "1750:\tlearn: 0.0387412\ttest: 0.0418690\tbest: 0.0418647 (1577)\ttotal: 51.6s\tremaining: 7.33s\n",
      "1999:\tlearn: 0.0382460\ttest: 0.0418626\tbest: 0.0418613 (1754)\ttotal: 58.9s\tremaining: 0us\n",
      "bestTest = 0.04186129283\n",
      "bestIteration = 1754\n",
      "Shrink model to first 1755 iterations.\n",
      "--------- Train regressor ---------\n",
      "Learning rate set to 0.068579\n",
      "0:\tlearn: 0.5984151\ttest: 0.5971740\tbest: 0.5971740 (0)\ttotal: 23.6ms\tremaining: 47.3s\n",
      "250:\tlearn: 0.4435797\ttest: 0.4402177\tbest: 0.4402177 (250)\ttotal: 5.6s\tremaining: 39s\n",
      "500:\tlearn: 0.4398923\ttest: 0.4372686\tbest: 0.4372678 (476)\ttotal: 11.3s\tremaining: 33.7s\n",
      "750:\tlearn: 0.4398245\ttest: 0.4372536\tbest: 0.4372525 (638)\ttotal: 16.8s\tremaining: 27.9s\n",
      "1000:\tlearn: 0.4398235\ttest: 0.4372550\tbest: 0.4372525 (638)\ttotal: 22.4s\tremaining: 22.4s\n",
      "1250:\tlearn: 0.4398231\ttest: 0.4372560\tbest: 0.4372525 (638)\ttotal: 28.1s\tremaining: 16.8s\n",
      "1500:\tlearn: 0.4398229\ttest: 0.4372568\tbest: 0.4372525 (638)\ttotal: 33.8s\tremaining: 11.2s\n",
      "1750:\tlearn: 0.4398229\ttest: 0.4372575\tbest: 0.4372525 (638)\ttotal: 39.4s\tremaining: 5.6s\n",
      "1999:\tlearn: 0.4398229\ttest: 0.4372579\tbest: 0.4372525 (638)\ttotal: 45.1s\tremaining: 0us\n",
      "bestTest = 0.4372524773\n",
      "bestIteration = 638\n",
      "Shrink model to first 639 iterations.\n",
      "Fold 2:: RMSLE = 1.0098231120064747\n",
      "--------- Train zeros classifier ---------\n",
      "Learning rate set to 0.033482\n",
      "0:\tlearn: 0.6166762\ttest: 0.6161777\tbest: 0.6161777 (0)\ttotal: 30.9ms\tremaining: 1m 1s\n",
      "250:\tlearn: 0.0424598\ttest: 0.0416763\tbest: 0.0416729 (247)\ttotal: 7.24s\tremaining: 50.5s\n",
      "500:\tlearn: 0.0414794\ttest: 0.0414268\tbest: 0.0414264 (494)\ttotal: 14.6s\tremaining: 43.8s\n",
      "750:\tlearn: 0.0407745\ttest: 0.0413902\tbest: 0.0413839 (646)\ttotal: 22s\tremaining: 36.6s\n",
      "1000:\tlearn: 0.0401815\ttest: 0.0413656\tbest: 0.0413510 (918)\ttotal: 29.5s\tremaining: 29.4s\n",
      "1250:\tlearn: 0.0396211\ttest: 0.0413404\tbest: 0.0413163 (1118)\ttotal: 36.9s\tremaining: 22.1s\n",
      "1500:\tlearn: 0.0391394\ttest: 0.0413661\tbest: 0.0413163 (1118)\ttotal: 44.4s\tremaining: 14.8s\n",
      "1750:\tlearn: 0.0386013\ttest: 0.0414106\tbest: 0.0413163 (1118)\ttotal: 51.9s\tremaining: 7.38s\n",
      "1999:\tlearn: 0.0381117\ttest: 0.0414376\tbest: 0.0413163 (1118)\ttotal: 59.3s\tremaining: 0us\n",
      "bestTest = 0.04131632682\n",
      "bestIteration = 1118\n",
      "Shrink model to first 1119 iterations.\n",
      "--------- Train regressor ---------\n",
      "Learning rate set to 0.068579\n",
      "0:\tlearn: 0.5958566\ttest: 0.5972058\tbest: 0.5972058 (0)\ttotal: 23.3ms\tremaining: 46.6s\n",
      "250:\tlearn: 0.4425206\ttest: 0.4401975\tbest: 0.4401975 (250)\ttotal: 5.96s\tremaining: 41.5s\n",
      "500:\tlearn: 0.4367638\ttest: 0.4360051\tbest: 0.4360051 (500)\ttotal: 12s\tremaining: 36.1s\n",
      "750:\tlearn: 0.4356278\ttest: 0.4352702\tbest: 0.4352702 (749)\ttotal: 17.7s\tremaining: 29.4s\n",
      "1000:\tlearn: 0.4350949\ttest: 0.4350039\tbest: 0.4350008 (995)\ttotal: 23.1s\tremaining: 23.1s\n",
      "1250:\tlearn: 0.4346518\ttest: 0.4347932\tbest: 0.4347862 (1246)\ttotal: 28.7s\tremaining: 17.2s\n",
      "1500:\tlearn: 0.4345997\ttest: 0.4347989\tbest: 0.4347862 (1246)\ttotal: 34s\tremaining: 11.3s\n",
      "1750:\tlearn: 0.4340677\ttest: 0.4345320\tbest: 0.4345310 (1745)\ttotal: 39.4s\tremaining: 5.61s\n",
      "1999:\tlearn: 0.4338838\ttest: 0.4344929\tbest: 0.4344909 (1966)\ttotal: 44.9s\tremaining: 0us\n",
      "bestTest = 0.434490896\n",
      "bestIteration = 1966\n",
      "Shrink model to first 1967 iterations.\n",
      "Fold 3:: RMSLE = 1.0008385038568617\n",
      "--------- Train zeros classifier ---------\n",
      "Learning rate set to 0.033482\n",
      "0:\tlearn: 0.6167599\ttest: 0.6164717\tbest: 0.6164717 (0)\ttotal: 28.6ms\tremaining: 57.2s\n",
      "250:\tlearn: 0.0422915\ttest: 0.0419881\tbest: 0.0419881 (250)\ttotal: 7.15s\tremaining: 49.8s\n",
      "500:\tlearn: 0.0413433\ttest: 0.0416083\tbest: 0.0416076 (497)\ttotal: 14.5s\tremaining: 43.3s\n",
      "750:\tlearn: 0.0407259\ttest: 0.0415035\tbest: 0.0415029 (748)\ttotal: 22s\tremaining: 36.6s\n",
      "1000:\tlearn: 0.0401831\ttest: 0.0414323\tbest: 0.0414305 (997)\ttotal: 29.5s\tremaining: 29.4s\n",
      "1250:\tlearn: 0.0396506\ttest: 0.0414089\tbest: 0.0414042 (1211)\ttotal: 36.8s\tremaining: 22s\n",
      "1500:\tlearn: 0.0391018\ttest: 0.0414014\tbest: 0.0413999 (1496)\ttotal: 44.1s\tremaining: 14.6s\n",
      "1750:\tlearn: 0.0385792\ttest: 0.0414034\tbest: 0.0413860 (1544)\ttotal: 51.4s\tremaining: 7.31s\n",
      "1999:\tlearn: 0.0381018\ttest: 0.0414278\tbest: 0.0413860 (1544)\ttotal: 58.7s\tremaining: 0us\n",
      "bestTest = 0.04138600897\n",
      "bestIteration = 1544\n",
      "Shrink model to first 1545 iterations.\n",
      "--------- Train regressor ---------\n",
      "Learning rate set to 0.068579\n",
      "0:\tlearn: 0.5988505\ttest: 0.6023745\tbest: 0.6023745 (0)\ttotal: 21.3ms\tremaining: 42.6s\n",
      "250:\tlearn: 0.4428184\ttest: 0.4420368\tbest: 0.4420368 (250)\ttotal: 5.76s\tremaining: 40.1s\n",
      "500:\tlearn: 0.4368521\ttest: 0.4363261\tbest: 0.4363261 (500)\ttotal: 11.6s\tremaining: 34.8s\n",
      "750:\tlearn: 0.4359914\ttest: 0.4357342\tbest: 0.4357342 (745)\ttotal: 17.4s\tremaining: 28.9s\n",
      "1000:\tlearn: 0.4358752\ttest: 0.4356975\tbest: 0.4356959 (987)\ttotal: 23.1s\tremaining: 23s\n",
      "1250:\tlearn: 0.4358390\ttest: 0.4356841\tbest: 0.4356820 (1161)\ttotal: 28.8s\tremaining: 17.2s\n",
      "1500:\tlearn: 0.4358119\ttest: 0.4356777\tbest: 0.4356777 (1499)\ttotal: 34.5s\tremaining: 11.5s\n",
      "1750:\tlearn: 0.4357937\ttest: 0.4356691\tbest: 0.4356690 (1740)\ttotal: 40.2s\tremaining: 5.72s\n",
      "1999:\tlearn: 0.4357782\ttest: 0.4356583\tbest: 0.4356583 (1999)\ttotal: 46s\tremaining: 0us\n",
      "bestTest = 0.4356583346\n",
      "bestIteration = 1999\n",
      "Fold 4:: RMSLE = 1.0067864601287038\n",
      "--------- Train zeros classifier ---------\n",
      "Learning rate set to 0.033482\n",
      "0:\tlearn: 0.6164665\ttest: 0.6163606\tbest: 0.6163606 (0)\ttotal: 29.7ms\tremaining: 59.3s\n",
      "250:\tlearn: 0.0417820\ttest: 0.0445696\tbest: 0.0445696 (250)\ttotal: 7.28s\tremaining: 50.7s\n",
      "500:\tlearn: 0.0409367\ttest: 0.0442843\tbest: 0.0442843 (500)\ttotal: 14.7s\tremaining: 43.9s\n",
      "750:\tlearn: 0.0403539\ttest: 0.0441919\tbest: 0.0441919 (750)\ttotal: 21.9s\tremaining: 36.4s\n",
      "1000:\tlearn: 0.0397994\ttest: 0.0441450\tbest: 0.0441442 (992)\ttotal: 29.2s\tremaining: 29.1s\n",
      "1250:\tlearn: 0.0392551\ttest: 0.0440917\tbest: 0.0440835 (1235)\ttotal: 36.4s\tremaining: 21.8s\n",
      "1500:\tlearn: 0.0387629\ttest: 0.0440680\tbest: 0.0440601 (1437)\ttotal: 43.8s\tremaining: 14.6s\n",
      "1750:\tlearn: 0.0382963\ttest: 0.0440717\tbest: 0.0440584 (1700)\ttotal: 51.1s\tremaining: 7.27s\n",
      "1999:\tlearn: 0.0377938\ttest: 0.0440855\tbest: 0.0440584 (1700)\ttotal: 58.6s\tremaining: 0us\n",
      "bestTest = 0.04405836714\n",
      "bestIteration = 1700\n",
      "Shrink model to first 1701 iterations.\n",
      "--------- Train regressor ---------\n",
      "Learning rate set to 0.06858\n",
      "0:\tlearn: 0.5983054\ttest: 0.5977776\tbest: 0.5977776 (0)\ttotal: 31.8ms\tremaining: 1m 3s\n",
      "250:\tlearn: 0.4434424\ttest: 0.4440734\tbest: 0.4440734 (250)\ttotal: 5.75s\tremaining: 40s\n",
      "500:\tlearn: 0.4373665\ttest: 0.4392778\tbest: 0.4392620 (442)\ttotal: 11.8s\tremaining: 35.3s\n",
      "750:\tlearn: 0.4373536\ttest: 0.4392964\tbest: 0.4392620 (442)\ttotal: 17.6s\tremaining: 29.3s\n",
      "1000:\tlearn: 0.4373517\ttest: 0.4392972\tbest: 0.4392620 (442)\ttotal: 23.4s\tremaining: 23.4s\n",
      "1250:\tlearn: 0.4373515\ttest: 0.4392980\tbest: 0.4392620 (442)\ttotal: 29.2s\tremaining: 17.5s\n",
      "1500:\tlearn: 0.4373515\ttest: 0.4392984\tbest: 0.4392620 (442)\ttotal: 35s\tremaining: 11.6s\n",
      "1750:\tlearn: 0.4373515\ttest: 0.4392986\tbest: 0.4392620 (442)\ttotal: 41s\tremaining: 5.83s\n",
      "1999:\tlearn: 0.4373514\ttest: 0.4392988\tbest: 0.4392620 (442)\ttotal: 46.7s\tremaining: 0us\n",
      "bestTest = 0.4392619759\n",
      "bestIteration = 442\n",
      "Shrink model to first 443 iterations.\n",
      "Fold 5:: RMSLE = 1.0323940083301022\n",
      "RMSLE by folds: [1.0102355873330415, 1.0098231120064747, 1.0008385038568617, 1.0067864601287038, 1.0323940083301022]\n",
      "Mean CV RMSLE: 1.0120155343310366\n"
     ]
    }
   ],
   "source": [
    "from sklearn.metrics import mean_squared_error\n",
    "\n",
    "cv_metrics = []\n",
    "test_predictions = []\n",
    "for idx, (train_indexes, val_indexes) in enumerate(skf.split(train, train['publish_year'])):\n",
    "    X_train = train.loc[train_indexes].drop(['publish_year', 'salary'], axis=1)\n",
    "    y_train = train.loc[train_indexes, 'salary']\n",
    "    \n",
    "    X_val = train.loc[val_indexes].drop(['publish_year', 'salary'], axis=1)\n",
    "    y_val = train.loc[val_indexes, 'salary']\n",
    "\n",
    "    cat_features = X_train.select_dtypes('category').columns.values\n",
    "    # 1st model - zeros classifier\n",
    "    y_clf_train = (y_train > 0).astype('int')\n",
    "    y_clf_val = (y_val > 0).astype('int')\n",
    "\n",
    "    clf_model = CatBoostClassifier(\n",
    "        iterations=2000,\n",
    "        random_seed=SEED,\n",
    "        task_type='GPU',\n",
    "        use_best_model=True,\n",
    "    )\n",
    "    print('--------- Train zeros classifier ---------')\n",
    "    clf_model.fit(\n",
    "        X_train,\n",
    "        y_clf_train,\n",
    "        eval_set=(X_val, y_clf_val),\n",
    "        cat_features=cat_features,\n",
    "        verbose_eval=250,\n",
    "    )\n",
    "    val_zero_probes = clf_model.predict_proba(X_val)[:, 1]\n",
    "    # 2nd model - regressor\n",
    "    X_reg_train = X_train[y_train > 0]\n",
    "    y_reg_train = y_train[y_train > 0]\n",
    "\n",
    "    X_reg_val = X_val[y_val > 0]\n",
    "    y_reg_val = y_val[y_val > 0]\n",
    "    \n",
    "    reg_model = CatBoostRegressor(\n",
    "        iterations=2000,\n",
    "        random_seed=SEED,\n",
    "        task_type='GPU',\n",
    "        use_best_model=True,\n",
    "    )\n",
    "    print('--------- Train regressor ---------')\n",
    "    reg_model.fit(\n",
    "        X_reg_train,\n",
    "        y_reg_train,\n",
    "        eval_set=(X_reg_val, y_reg_val),\n",
    "        cat_features=cat_features,\n",
    "        verbose_eval=250,\n",
    "    )\n",
    "    y_val_reg = reg_model.predict(X_val)\n",
    "    y_val_pred = y_val_reg * val_zero_probes\n",
    "    val_rmsle = np.sqrt(mean_squared_error(y_val, y_val_pred))\n",
    "    cv_metrics.append(val_rmsle)\n",
    "    print(f'Fold {idx + 1}:: RMSLE = {val_rmsle}')\n",
    "\n",
    "    test_zero_probes = clf_model.predict_proba(X_test)[:, 1]\n",
    "    y_test_reg = reg_model.predict(X_test)\n",
    "    test_predictions.append(np.exp(y_test_reg * test_zero_probes) - 1)\n",
    "\n",
    "print('RMSLE by folds:', cv_metrics)\n",
    "print(f'Mean CV RMSLE: {np.mean(cv_metrics)}')"
   ]
  },
  {
   "cell_type": "code",
   "execution_count": 12,
   "metadata": {},
   "outputs": [],
   "source": [
    "submit = pd.DataFrame({\n",
    "    'id': test['id'],\n",
    "    'salary': np.mean(test_predictions, axis=0)\n",
    "})"
   ]
  },
  {
   "cell_type": "code",
   "execution_count": 13,
   "metadata": {},
   "outputs": [
    {
     "output_type": "execute_result",
     "data": {
      "text/plain": [
       "                  id         salary\n",
       "count  131259.000000  131259.000000\n",
       "mean   218912.071987   33945.440579\n",
       "std    126301.758751   15962.104670\n",
       "min         2.000000       0.177108\n",
       "25%    109499.000000   22794.281759\n",
       "50%    218986.000000   29489.444979\n",
       "75%    328305.500000   40507.385598\n",
       "max    437528.000000  150903.093342"
      ],
      "text/html": "<div>\n<style scoped>\n    .dataframe tbody tr th:only-of-type {\n        vertical-align: middle;\n    }\n\n    .dataframe tbody tr th {\n        vertical-align: top;\n    }\n\n    .dataframe thead th {\n        text-align: right;\n    }\n</style>\n<table border=\"1\" class=\"dataframe\">\n  <thead>\n    <tr style=\"text-align: right;\">\n      <th></th>\n      <th>id</th>\n      <th>salary</th>\n    </tr>\n  </thead>\n  <tbody>\n    <tr>\n      <th>count</th>\n      <td>131259.000000</td>\n      <td>131259.000000</td>\n    </tr>\n    <tr>\n      <th>mean</th>\n      <td>218912.071987</td>\n      <td>33945.440579</td>\n    </tr>\n    <tr>\n      <th>std</th>\n      <td>126301.758751</td>\n      <td>15962.104670</td>\n    </tr>\n    <tr>\n      <th>min</th>\n      <td>2.000000</td>\n      <td>0.177108</td>\n    </tr>\n    <tr>\n      <th>25%</th>\n      <td>109499.000000</td>\n      <td>22794.281759</td>\n    </tr>\n    <tr>\n      <th>50%</th>\n      <td>218986.000000</td>\n      <td>29489.444979</td>\n    </tr>\n    <tr>\n      <th>75%</th>\n      <td>328305.500000</td>\n      <td>40507.385598</td>\n    </tr>\n    <tr>\n      <th>max</th>\n      <td>437528.000000</td>\n      <td>150903.093342</td>\n    </tr>\n  </tbody>\n</table>\n</div>"
     },
     "metadata": {},
     "execution_count": 13
    }
   ],
   "source": [
    "submit.describe()"
   ]
  },
  {
   "cell_type": "code",
   "execution_count": 19,
   "metadata": {},
   "outputs": [],
   "source": [
    "submit.to_csv('../submits/catboost-2levels-5fold-cleaned_datas.csv', index=False)"
   ]
  },
  {
   "cell_type": "code",
   "execution_count": null,
   "metadata": {},
   "outputs": [],
   "source": []
  }
 ]
}