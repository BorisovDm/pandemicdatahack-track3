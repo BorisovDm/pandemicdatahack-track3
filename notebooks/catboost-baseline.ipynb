{
 "metadata": {
  "language_info": {
   "codemirror_mode": {
    "name": "ipython",
    "version": 3
   },
   "file_extension": ".py",
   "mimetype": "text/x-python",
   "name": "python",
   "nbconvert_exporter": "python",
   "pygments_lexer": "ipython3",
   "version": "3.7.9-final"
  },
  "orig_nbformat": 2,
  "kernelspec": {
   "name": "python3",
   "display_name": "Python 3.7.9 64-bit ('pdh3': conda)",
   "metadata": {
    "interpreter": {
     "hash": "23ef1c5d0bfaeb9afee084a81c60230b790066b271fea1960d23e25256463ab8"
    }
   }
  }
 },
 "nbformat": 4,
 "nbformat_minor": 2,
 "cells": [
  {
   "cell_type": "code",
   "execution_count": 12,
   "metadata": {},
   "outputs": [
    {
     "output_type": "stream",
     "name": "stdout",
     "text": [
      "region ::: 11.991139976820293\nindustry ::: 5.753774440289299\nlocality_name ::: 9.050816996919382\neducation_type ::: 1.6193023459517961\ncitizenship ::: 0.9086198329973372\nemployement_type ::: 1.1182903850519306\nage ::: 0.8487795083888682\ngender ::: 3.503135147910313\nexperience ::: 1.271673335348249\nsalary_desired ::: 20.001812751671093\nrelocation_ready ::: 5.178486553883535\ntravel_ready ::: 5.937543985167039\nretraining_ready ::: 0.9385804668319083\nis_worldskills_participant ::: 0.0\nhas_qualifications ::: 0.0\ncompleteness_rate ::: 2.8426932250329715\nnumber_nans ::: 0.00031110342871571307\npositions_first ::: 13.061286525871672\npositions_second ::: 0.5154726323308979\npositions_other ::: 1.0448970347569018\nhas_drive ::: 0.7338201132350958\nhas_license_A ::: 0.0\nhas_license_B ::: 0.0\nhas_license_C ::: 0.0\nhas_license_D ::: 0.0\nhas_license_E ::: 0.0\nwatch_yes ::: 0.0\nflexible_yes ::: 0.0\nirregular_yes ::: 0.0\nparttime_yes ::: 0.0\nfulltime_yes ::: 0.0\nshift_yes ::: 0.0\ndays_between_c_m ::: 6.456480352269737\ndays_between_m_p ::: 0.11288594797248748\ndays_between_c_p ::: 5.16075061709593\nEUR ::: 0.003436691600351127\nUSD ::: 0.06278644436853924\nBrent_oil ::: 0.2126965271260832\nGold ::: 0.12215121282613402\nGas ::: 0.2915609905750773\ntotal_infections ::: 0.0024292664154469926\ntotal_recoveries ::: 0.022100817611197088\ntotal_deaths ::: 0.017663157893927285\nn_deaths ::: 0.012449447805465634\nn_infections ::: 1.191643139132126\nn_recoveries ::: 0.01052902542021984\n"
     ]
    }
   ],
   "source": [
    "for name, imp in zip(reg_model.feature_names_, reg_model.feature_importances_):\n",
    "    print(f'{name} ::: {imp}')"
   ]
  },
  {
   "cell_type": "code",
   "execution_count": 1,
   "metadata": {},
   "outputs": [],
   "source": [
    "import random\n",
    "import numpy as np\n",
    "import pandas as pd\n",
    "from catboost import CatBoostRegressor, CatBoostClassifier\n",
    "from sklearn.model_selection import StratifiedKFold\n",
    "from pathlib import Path"
   ]
  },
  {
   "cell_type": "code",
   "execution_count": 2,
   "metadata": {},
   "outputs": [],
   "source": [
    "SEED = 14300631\n",
    "N_FOLDS = 5"
   ]
  },
  {
   "cell_type": "code",
   "execution_count": 3,
   "metadata": {},
   "outputs": [],
   "source": [
    "random.seed(SEED)\n",
    "np.random.seed(SEED)"
   ]
  },
  {
   "cell_type": "code",
   "execution_count": 4,
   "metadata": {},
   "outputs": [],
   "source": [
    "train = pd.read_pickle('../data/preprocessed/train_final.pkl')\n",
    "test = pd.read_pickle('../data/preprocessed/test_final.pkl')"
   ]
  },
  {
   "cell_type": "code",
   "execution_count": 5,
   "metadata": {},
   "outputs": [
    {
     "output_type": "stream",
     "name": "stdout",
     "text": [
      "<class 'pandas.core.frame.DataFrame'>\nRangeIndex: 306270 entries, 0 to 306269\nColumns: 470 entries, id to position_clean_99\ndtypes: bool(17), category(14), datetime64[ns](1), float32(400), float64(15), int64(23)\nmemory usage: 571.8 MB\n"
     ]
    }
   ],
   "source": [
    "train.info()"
   ]
  },
  {
   "cell_type": "code",
   "execution_count": 6,
   "metadata": {},
   "outputs": [
    {
     "output_type": "stream",
     "name": "stdout",
     "text": [
      "<class 'pandas.core.frame.DataFrame'>\nRangeIndex: 131259 entries, 0 to 131258\nColumns: 469 entries, id to position_clean_99\ndtypes: bool(17), category(14), datetime64[ns](1), float32(400), float64(14), int64(23)\nmemory usage: 245.3 MB\n"
     ]
    }
   ],
   "source": [
    "test.info()"
   ]
  },
  {
   "cell_type": "code",
   "execution_count": 7,
   "metadata": {},
   "outputs": [],
   "source": [
    "X_test = test.drop(['id', 'publish_date', 'publish_year'], axis=1)\n",
    "train = train.drop(['id', 'publish_date'], axis=1)"
   ]
  },
  {
   "cell_type": "code",
   "execution_count": 8,
   "metadata": {
    "tags": []
   },
   "outputs": [
    {
     "output_type": "stream",
     "name": "stdout",
     "text": [
      "--------- Train zeros classifier ---------\n",
      "Learning rate set to 0.031244\n",
      "0:\tlearn: 0.6115056\ttest: 0.6113204\tbest: 0.6113204 (0)\ttotal: 56.7ms\tremaining: 1m 53s\n",
      "250:\tlearn: 0.0218036\ttest: 0.0136727\tbest: 0.0136727 (250)\ttotal: 15.2s\tremaining: 1m 45s\n",
      "500:\tlearn: 0.0210569\ttest: 0.0132801\tbest: 0.0132801 (500)\ttotal: 30.2s\tremaining: 1m 30s\n",
      "750:\tlearn: 0.0206659\ttest: 0.0131397\tbest: 0.0131397 (750)\ttotal: 45s\tremaining: 1m 14s\n",
      "1000:\tlearn: 0.0203477\ttest: 0.0130441\tbest: 0.0130439 (999)\ttotal: 59.7s\tremaining: 59.6s\n",
      "1250:\tlearn: 0.0200425\ttest: 0.0129669\tbest: 0.0129669 (1250)\ttotal: 1m 14s\tremaining: 44.6s\n",
      "1500:\tlearn: 0.0197688\ttest: 0.0129260\tbest: 0.0129257 (1497)\ttotal: 1m 29s\tremaining: 29.7s\n",
      "1750:\tlearn: 0.0194948\ttest: 0.0128814\tbest: 0.0128804 (1744)\ttotal: 1m 44s\tremaining: 14.9s\n",
      "1999:\tlearn: 0.0192504\ttest: 0.0128673\tbest: 0.0128662 (1996)\ttotal: 1m 59s\tremaining: 0us\n",
      "bestTest = 0.01286624732\n",
      "bestIteration = 1996\n",
      "Shrink model to first 1997 iterations.\n",
      "--------- Train regressor ---------\n",
      "Learning rate set to 0.071486\n",
      "0:\tlearn: 0.6304556\ttest: 0.6318323\tbest: 0.6318323 (0)\ttotal: 48.5ms\tremaining: 1m 36s\n",
      "250:\tlearn: 0.4279388\ttest: 0.4115180\tbest: 0.4115180 (250)\ttotal: 11.4s\tremaining: 1m 19s\n",
      "500:\tlearn: 0.4097035\ttest: 0.3899774\tbest: 0.3899768 (498)\ttotal: 23.6s\tremaining: 1m 10s\n",
      "750:\tlearn: 0.4095599\ttest: 0.3898287\tbest: 0.3898286 (744)\ttotal: 33.7s\tremaining: 56s\n",
      "1000:\tlearn: 0.4095596\ttest: 0.3898271\tbest: 0.3898271 (991)\ttotal: 43.8s\tremaining: 43.7s\n",
      "1250:\tlearn: 0.4095596\ttest: 0.3898270\tbest: 0.3898270 (1172)\ttotal: 53.9s\tremaining: 32.3s\n",
      "1500:\tlearn: 0.4095596\ttest: 0.3898270\tbest: 0.3898270 (1328)\ttotal: 1m 4s\tremaining: 21.3s\n",
      "1750:\tlearn: 0.4095596\ttest: 0.3898270\tbest: 0.3898270 (1328)\ttotal: 1m 14s\tremaining: 10.5s\n",
      "1999:\tlearn: 0.4095596\ttest: 0.3898270\tbest: 0.3898270 (1328)\ttotal: 1m 24s\tremaining: 0us\n",
      "bestTest = 0.3898269811\n",
      "bestIteration = 1328\n",
      "Shrink model to first 1329 iterations.\n",
      "Fold 1:: RMSLE = 0.625570991161972\n",
      "--------- Train zeros classifier ---------\n",
      "Learning rate set to 0.031244\n",
      "0:\tlearn: 0.6114403\ttest: 0.6112724\tbest: 0.6112724 (0)\ttotal: 53.8ms\tremaining: 1m 47s\n",
      "250:\tlearn: 0.0217764\ttest: 0.0137348\tbest: 0.0137348 (250)\ttotal: 14.9s\tremaining: 1m 43s\n",
      "500:\tlearn: 0.0211017\ttest: 0.0134061\tbest: 0.0134060 (498)\ttotal: 29.5s\tremaining: 1m 28s\n",
      "750:\tlearn: 0.0206612\ttest: 0.0132773\tbest: 0.0132773 (750)\ttotal: 43.8s\tremaining: 1m 12s\n",
      "1000:\tlearn: 0.0203037\ttest: 0.0131959\tbest: 0.0131959 (1000)\ttotal: 58.5s\tremaining: 58.4s\n",
      "1250:\tlearn: 0.0199838\ttest: 0.0131437\tbest: 0.0131435 (1213)\ttotal: 1m 13s\tremaining: 43.7s\n",
      "1500:\tlearn: 0.0197086\ttest: 0.0130977\tbest: 0.0130966 (1498)\ttotal: 1m 27s\tremaining: 29.2s\n",
      "1750:\tlearn: 0.0194279\ttest: 0.0130844\tbest: 0.0130795 (1688)\ttotal: 1m 42s\tremaining: 14.6s\n",
      "1999:\tlearn: 0.0191700\ttest: 0.0130752\tbest: 0.0130734 (1994)\ttotal: 1m 57s\tremaining: 0us\n",
      "bestTest = 0.01307339035\n",
      "bestIteration = 1994\n",
      "Shrink model to first 1995 iterations.\n",
      "--------- Train regressor ---------\n",
      "Learning rate set to 0.071486\n",
      "0:\tlearn: 0.6304830\ttest: 0.6308792\tbest: 0.6308792 (0)\ttotal: 32.7ms\tremaining: 1m 5s\n",
      "250:\tlearn: 0.4328578\ttest: 0.4158066\tbest: 0.4158066 (250)\ttotal: 11.3s\tremaining: 1m 18s\n",
      "500:\tlearn: 0.4115162\ttest: 0.3900999\tbest: 0.3900998 (498)\ttotal: 23.5s\tremaining: 1m 10s\n",
      "750:\tlearn: 0.4111886\ttest: 0.3898789\tbest: 0.3898788 (747)\ttotal: 33.6s\tremaining: 55.8s\n",
      "1000:\tlearn: 0.4111882\ttest: 0.3898769\tbest: 0.3898768 (997)\ttotal: 43.7s\tremaining: 43.6s\n",
      "1250:\tlearn: 0.4111881\ttest: 0.3898760\tbest: 0.3898760 (1250)\ttotal: 53.9s\tremaining: 32.3s\n",
      "1500:\tlearn: 0.4111881\ttest: 0.3898758\tbest: 0.3898758 (1472)\ttotal: 1m 3s\tremaining: 21.3s\n",
      "1750:\tlearn: 0.4111880\ttest: 0.3898757\tbest: 0.3898756 (1736)\ttotal: 1m 14s\tremaining: 10.5s\n",
      "1999:\tlearn: 0.4111881\ttest: 0.3898756\tbest: 0.3898756 (1853)\ttotal: 1m 24s\tremaining: 0us\n",
      "bestTest = 0.3898755956\n",
      "bestIteration = 1853\n",
      "Shrink model to first 1854 iterations.\n",
      "Fold 2:: RMSLE = 0.6349160666385654\n",
      "--------- Train zeros classifier ---------\n",
      "Learning rate set to 0.031244\n",
      "0:\tlearn: 0.6118850\ttest: 0.6116659\tbest: 0.6116659 (0)\ttotal: 57.6ms\tremaining: 1m 55s\n",
      "250:\tlearn: 0.0218868\ttest: 0.0134016\tbest: 0.0134016 (250)\ttotal: 15.2s\tremaining: 1m 45s\n",
      "500:\tlearn: 0.0211773\ttest: 0.0130061\tbest: 0.0130060 (498)\ttotal: 30.2s\tremaining: 1m 30s\n",
      "750:\tlearn: 0.0207462\ttest: 0.0128379\tbest: 0.0128379 (750)\ttotal: 44.6s\tremaining: 1m 14s\n",
      "1000:\tlearn: 0.0204068\ttest: 0.0127249\tbest: 0.0127246 (999)\ttotal: 59.1s\tremaining: 59s\n",
      "1250:\tlearn: 0.0200431\ttest: 0.0126302\tbest: 0.0126299 (1247)\ttotal: 1m 13s\tremaining: 44.2s\n",
      "1500:\tlearn: 0.0197451\ttest: 0.0125816\tbest: 0.0125795 (1492)\ttotal: 1m 28s\tremaining: 29.4s\n",
      "1750:\tlearn: 0.0194668\ttest: 0.0125452\tbest: 0.0125452 (1750)\ttotal: 1m 43s\tremaining: 14.7s\n",
      "1999:\tlearn: 0.0191958\ttest: 0.0125339\tbest: 0.0125330 (1996)\ttotal: 1m 58s\tremaining: 0us\n",
      "bestTest = 0.01253303035\n",
      "bestIteration = 1996\n",
      "Shrink model to first 1997 iterations.\n",
      "--------- Train regressor ---------\n",
      "Learning rate set to 0.071486\n",
      "0:\tlearn: 0.6306455\ttest: 0.6307794\tbest: 0.6307794 (0)\ttotal: 46.5ms\tremaining: 1m 33s\n",
      "250:\tlearn: 0.4313559\ttest: 0.4155093\tbest: 0.4155093 (250)\ttotal: 11.4s\tremaining: 1m 19s\n",
      "500:\tlearn: 0.4101639\ttest: 0.3900325\tbest: 0.3900325 (500)\ttotal: 23.4s\tremaining: 1m 9s\n",
      "750:\tlearn: 0.4095082\ttest: 0.3894048\tbest: 0.3894047 (745)\ttotal: 33.2s\tremaining: 55.2s\n",
      "1000:\tlearn: 0.4094495\ttest: 0.3893562\tbest: 0.3893562 (998)\ttotal: 42.9s\tremaining: 42.8s\n",
      "1250:\tlearn: 0.4093910\ttest: 0.3893270\tbest: 0.3893269 (1163)\ttotal: 52.6s\tremaining: 31.5s\n",
      "1500:\tlearn: 0.4093911\ttest: 0.3893270\tbest: 0.3893269 (1274)\ttotal: 1m 2s\tremaining: 20.7s\n",
      "1750:\tlearn: 0.4093912\ttest: 0.3893270\tbest: 0.3893269 (1274)\ttotal: 1m 11s\tremaining: 10.2s\n",
      "1999:\tlearn: 0.4093911\ttest: 0.3893270\tbest: 0.3893269 (1274)\ttotal: 1m 21s\tremaining: 0us\n",
      "bestTest = 0.3893269269\n",
      "bestIteration = 1274\n",
      "Shrink model to first 1275 iterations.\n",
      "Fold 3:: RMSLE = 0.6238271113691882\n",
      "--------- Train zeros classifier ---------\n",
      "Learning rate set to 0.031244\n",
      "0:\tlearn: 0.6114422\ttest: 0.6112997\tbest: 0.6112997 (0)\ttotal: 53.7ms\tremaining: 1m 47s\n",
      "250:\tlearn: 0.0217367\ttest: 0.0135231\tbest: 0.0135231 (250)\ttotal: 14.8s\tremaining: 1m 42s\n",
      "500:\tlearn: 0.0210291\ttest: 0.0131384\tbest: 0.0131384 (500)\ttotal: 29.2s\tremaining: 1m 27s\n",
      "750:\tlearn: 0.0206455\ttest: 0.0130138\tbest: 0.0130138 (750)\ttotal: 43.5s\tremaining: 1m 12s\n",
      "1000:\tlearn: 0.0202950\ttest: 0.0129308\tbest: 0.0129305 (999)\ttotal: 57.8s\tremaining: 57.7s\n",
      "1250:\tlearn: 0.0199791\ttest: 0.0128981\tbest: 0.0128975 (1215)\ttotal: 1m 12s\tremaining: 43.3s\n",
      "1500:\tlearn: 0.0196748\ttest: 0.0128524\tbest: 0.0128517 (1495)\ttotal: 1m 26s\tremaining: 28.9s\n",
      "1750:\tlearn: 0.0193961\ttest: 0.0128290\tbest: 0.0128272 (1746)\ttotal: 1m 41s\tremaining: 14.5s\n",
      "1999:\tlearn: 0.0191178\ttest: 0.0128062\tbest: 0.0128008 (1972)\ttotal: 1m 56s\tremaining: 0us\n",
      "bestTest = 0.01280077607\n",
      "bestIteration = 1972\n",
      "Shrink model to first 1973 iterations.\n",
      "--------- Train regressor ---------\n",
      "Learning rate set to 0.071486\n",
      "0:\tlearn: 0.6246473\ttest: 0.6264009\tbest: 0.6264009 (0)\ttotal: 56ms\tremaining: 1m 51s\n",
      "250:\tlearn: 0.4436745\ttest: 0.4305332\tbest: 0.4305332 (250)\ttotal: 11.1s\tremaining: 1m 17s\n",
      "500:\tlearn: 0.4117996\ttest: 0.3914476\tbest: 0.3914476 (500)\ttotal: 23.6s\tremaining: 1m 10s\n",
      "750:\tlearn: 0.4114995\ttest: 0.3910981\tbest: 0.3910981 (750)\ttotal: 33.5s\tremaining: 55.8s\n",
      "1000:\tlearn: 0.4114984\ttest: 0.3910957\tbest: 0.3910956 (960)\ttotal: 43.5s\tremaining: 43.4s\n",
      "1250:\tlearn: 0.4114982\ttest: 0.3910958\tbest: 0.3910956 (960)\ttotal: 53.4s\tremaining: 32s\n",
      "1500:\tlearn: 0.4114982\ttest: 0.3910961\tbest: 0.3910956 (960)\ttotal: 1m 4s\tremaining: 21.3s\n",
      "1750:\tlearn: 0.4114982\ttest: 0.3910962\tbest: 0.3910956 (960)\ttotal: 1m 14s\tremaining: 10.6s\n",
      "1999:\tlearn: 0.4114983\ttest: 0.3910964\tbest: 0.3910956 (960)\ttotal: 1m 24s\tremaining: 0us\n",
      "bestTest = 0.3910956258\n",
      "bestIteration = 960\n",
      "Shrink model to first 961 iterations.\n",
      "Fold 4:: RMSLE = 0.6322975239655887\n",
      "--------- Train zeros classifier ---------\n",
      "Learning rate set to 0.031244\n",
      "0:\tlearn: 0.6115823\ttest: 0.6114114\tbest: 0.6114114 (0)\ttotal: 53.2ms\tremaining: 1m 46s\n",
      "250:\tlearn: 0.0219174\ttest: 0.0140131\tbest: 0.0140131 (250)\ttotal: 14.8s\tremaining: 1m 43s\n",
      "500:\tlearn: 0.0210552\ttest: 0.0134735\tbest: 0.0134735 (500)\ttotal: 29.3s\tremaining: 1m 27s\n",
      "750:\tlearn: 0.0206816\ttest: 0.0133314\tbest: 0.0133313 (747)\ttotal: 43.5s\tremaining: 1m 12s\n",
      "1000:\tlearn: 0.0203282\ttest: 0.0132115\tbest: 0.0132114 (999)\ttotal: 57.7s\tremaining: 57.6s\n",
      "1250:\tlearn: 0.0200355\ttest: 0.0131555\tbest: 0.0131555 (1250)\ttotal: 1m 12s\tremaining: 43.2s\n",
      "1500:\tlearn: 0.0197578\ttest: 0.0131105\tbest: 0.0131098 (1498)\ttotal: 1m 26s\tremaining: 28.8s\n",
      "1750:\tlearn: 0.0194585\ttest: 0.0130623\tbest: 0.0130612 (1746)\ttotal: 1m 41s\tremaining: 14.4s\n",
      "1999:\tlearn: 0.0191947\ttest: 0.0130355\tbest: 0.0130351 (1996)\ttotal: 1m 55s\tremaining: 0us\n",
      "bestTest = 0.01303505843\n",
      "bestIteration = 1996\n",
      "Shrink model to first 1997 iterations.\n",
      "--------- Train regressor ---------\n",
      "Learning rate set to 0.071486\n",
      "0:\tlearn: 0.6310974\ttest: 0.6274531\tbest: 0.6274531 (0)\ttotal: 46.2ms\tremaining: 1m 32s\n",
      "250:\tlearn: 0.4309427\ttest: 0.4140971\tbest: 0.4140971 (250)\ttotal: 11.3s\tremaining: 1m 18s\n",
      "500:\tlearn: 0.4090250\ttest: 0.3873037\tbest: 0.3873005 (495)\ttotal: 23.2s\tremaining: 1m 9s\n",
      "750:\tlearn: 0.4089889\ttest: 0.3872822\tbest: 0.3872817 (743)\ttotal: 33.1s\tremaining: 55s\n",
      "1000:\tlearn: 0.4089867\ttest: 0.3872787\tbest: 0.3872770 (828)\ttotal: 43s\tremaining: 42.9s\n",
      "1250:\tlearn: 0.4089723\ttest: 0.3872634\tbest: 0.3872580 (1168)\ttotal: 52.8s\tremaining: 31.6s\n",
      "1500:\tlearn: 0.4089722\ttest: 0.3872627\tbest: 0.3872580 (1168)\ttotal: 1m 2s\tremaining: 20.8s\n",
      "1750:\tlearn: 0.4089719\ttest: 0.3872626\tbest: 0.3872580 (1168)\ttotal: 1m 12s\tremaining: 10.3s\n",
      "1999:\tlearn: 0.4089720\ttest: 0.3872624\tbest: 0.3872580 (1168)\ttotal: 1m 21s\tremaining: 0us\n",
      "bestTest = 0.3872580496\n",
      "bestIteration = 1168\n",
      "Shrink model to first 1169 iterations.\n",
      "Fold 5:: RMSLE = 0.6336581156982607\n",
      "RMSLE by folds: [0.625570991161972, 0.6349160666385654, 0.6238271113691882, 0.6322975239655887, 0.6336581156982607]\n",
      "Mean CV RMSLE: 0.630053961766715\n"
     ]
    }
   ],
   "source": [
    "from sklearn.metrics import mean_squared_error\n",
    "\n",
    "cv_metrics = []\n",
    "test_predictions = []\n",
    "for idx, (train_indexes, val_indexes) in enumerate(skf.split(train, train['publish_year'])):\n",
    "    X_train = train.loc[train_indexes].drop(['publish_year', 'salary'], axis=1)\n",
    "    y_train = train.loc[train_indexes, 'salary']\n",
    "    \n",
    "    X_val = train.loc[val_indexes].drop(['publish_year', 'salary'], axis=1)\n",
    "    y_val = train.loc[val_indexes, 'salary']\n",
    "\n",
    "    cat_features = X_train.select_dtypes('category').columns.values\n",
    "    # 1st model - zeros classifier\n",
    "    y_clf_train = (y_train > 0).astype('int')\n",
    "    y_clf_val = (y_val > 0).astype('int')\n",
    "\n",
    "    clf_model = CatBoostClassifier(\n",
    "        iterations=2000,\n",
    "        random_seed=SEED,\n",
    "        task_type='GPU',\n",
    "        use_best_model=True,\n",
    "    )\n",
    "    print('--------- Train zeros classifier ---------')\n",
    "    clf_model.fit(\n",
    "        X_train,\n",
    "        y_clf_train,\n",
    "        eval_set=(X_val, y_clf_val),\n",
    "        cat_features=cat_features,\n",
    "        verbose_eval=250,\n",
    "    )\n",
    "    val_zero_probes = clf_model.predict_proba(X_val)[:, 1]\n",
    "    # 2nd model - regressor\n",
    "    X_reg_train = X_train[y_train > 0]\n",
    "    y_reg_train = y_train[y_train > 0]\n",
    "\n",
    "    X_reg_val = X_val[y_val > 0]\n",
    "    y_reg_val = y_val[y_val > 0]\n",
    "    \n",
    "    reg_model = CatBoostRegressor(\n",
    "        iterations=2000,\n",
    "        random_seed=SEED,\n",
    "        task_type='GPU',\n",
    "        use_best_model=True,\n",
    "    )\n",
    "    print('--------- Train regressor ---------')\n",
    "    reg_model.fit(\n",
    "        X_reg_train,\n",
    "        y_reg_train,\n",
    "        eval_set=(X_reg_val, y_reg_val),\n",
    "        cat_features=cat_features,\n",
    "        verbose_eval=250,\n",
    "    )\n",
    "    y_val_reg = reg_model.predict(X_val)\n",
    "    y_val_pred = y_val_reg * val_zero_probes\n",
    "    val_rmsle = np.sqrt(mean_squared_error(y_val, y_val_pred))\n",
    "    cv_metrics.append(val_rmsle)\n",
    "    print(f'Fold {idx + 1}:: RMSLE = {val_rmsle}')\n",
    "\n",
    "    test_zero_probes = clf_model.predict_proba(X_test)[:, 1]\n",
    "    y_test_reg = reg_model.predict(X_test)\n",
    "    test_predictions.append(np.exp(y_test_reg * test_zero_probes) - 1)\n",
    "\n",
    "print('RMSLE by folds:', cv_metrics)\n",
    "print(f'Mean CV RMSLE: {np.mean(cv_metrics)}')"
   ]
  },
  {
   "cell_type": "code",
   "execution_count": 9,
   "metadata": {},
   "outputs": [],
   "source": [
    "submit = pd.DataFrame({\n",
    "    'id': test['id'],\n",
    "    'salary': np.mean(test_predictions, axis=0)\n",
    "})"
   ]
  },
  {
   "cell_type": "code",
   "execution_count": 10,
   "metadata": {},
   "outputs": [
    {
     "output_type": "execute_result",
     "data": {
      "text/plain": [
       "                  id         salary\n",
       "count  295633.000000  295633.000000\n",
       "mean   218856.382704   37703.425510\n",
       "std    126137.696962   16307.855962\n",
       "min         2.000000       0.016644\n",
       "25%    109922.000000   25676.762340\n",
       "50%    218792.000000   33435.884884\n",
       "75%    327955.000000   45972.671778\n",
       "max    437528.000000  165853.400653"
      ],
      "text/html": "<div>\n<style scoped>\n    .dataframe tbody tr th:only-of-type {\n        vertical-align: middle;\n    }\n\n    .dataframe tbody tr th {\n        vertical-align: top;\n    }\n\n    .dataframe thead th {\n        text-align: right;\n    }\n</style>\n<table border=\"1\" class=\"dataframe\">\n  <thead>\n    <tr style=\"text-align: right;\">\n      <th></th>\n      <th>id</th>\n      <th>salary</th>\n    </tr>\n  </thead>\n  <tbody>\n    <tr>\n      <th>count</th>\n      <td>295633.000000</td>\n      <td>295633.000000</td>\n    </tr>\n    <tr>\n      <th>mean</th>\n      <td>218856.382704</td>\n      <td>37703.425510</td>\n    </tr>\n    <tr>\n      <th>std</th>\n      <td>126137.696962</td>\n      <td>16307.855962</td>\n    </tr>\n    <tr>\n      <th>min</th>\n      <td>2.000000</td>\n      <td>0.016644</td>\n    </tr>\n    <tr>\n      <th>25%</th>\n      <td>109922.000000</td>\n      <td>25676.762340</td>\n    </tr>\n    <tr>\n      <th>50%</th>\n      <td>218792.000000</td>\n      <td>33435.884884</td>\n    </tr>\n    <tr>\n      <th>75%</th>\n      <td>327955.000000</td>\n      <td>45972.671778</td>\n    </tr>\n    <tr>\n      <th>max</th>\n      <td>437528.000000</td>\n      <td>165853.400653</td>\n    </tr>\n  </tbody>\n</table>\n</div>"
     },
     "metadata": {},
     "execution_count": 10
    }
   ],
   "source": [
    "submit.describe()"
   ]
  },
  {
   "cell_type": "code",
   "execution_count": 11,
   "metadata": {},
   "outputs": [],
   "source": [
    "submit.to_csv('../submits/catboost-2levels-5fold-finalset-2k.csv', index=False)"
   ]
  },
  {
   "cell_type": "code",
   "execution_count": null,
   "metadata": {},
   "outputs": [],
   "source": []
  }
 ]
}